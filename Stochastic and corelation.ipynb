{
 "cells": [
  {
   "cell_type": "code",
   "execution_count": 126,
   "metadata": {},
   "outputs": [],
   "source": [
    "from icecube import icetray, dataio, dataclasses, simclasses, phys_services, recclasses\n",
    "import os, sys\n",
    "import numpy as np\n",
    "import matplotlib as mpl\n",
    "from matplotlib.colors import LogNorm, Normalize\n",
    "import matplotlib.pyplot as plt\n",
    "import timeit as time\n",
    "import math\n",
    "from datetime import datetime"
   ]
  },
  {
   "cell_type": "code",
   "execution_count": 127,
   "metadata": {},
   "outputs": [
    {
     "name": "stdout",
     "output_type": "stream",
     "text": [
      "Total files 966\n"
     ]
    }
   ],
   "source": [
    "# Added by JP\n",
    "# Define the directory of your files\n",
    "files_dir = '/data/icecube/domeff_analysis/reco_sim_nominal/0000000-0000999'\n",
    "# List the contents of the entire directory\n",
    "file_list_aux = os.listdir(files_dir)\n",
    "# Only keep those that are I3 files\n",
    "file_list = [x for x in file_list_aux if '.i3.bz2' in x]\n",
    "print('Total files', len(file_list))"
   ]
  },
  {
   "cell_type": "code",
   "execution_count": 128,
   "metadata": {},
   "outputs": [],
   "source": [
    "#I would recommend you write a function that takes a frame as input \n",
    "#and returns the corrected charge for that event. \n",
    "#Inside, the function should pick the muon and loop over all the doms that have seen light, \n",
    "#and return the corrected charges of all doms, as an array. So each event gives you an array as the output."
   ]
  },
  {
   "cell_type": "code",
   "execution_count": 129,
   "metadata": {},
   "outputs": [],
   "source": [
    "# Now decide how many files to loop over\n",
    "nfiles = 1 # This can be len(file_list)"
   ]
  },
  {
   "cell_type": "code",
   "execution_count": 223,
   "metadata": {},
   "outputs": [],
   "source": [
    "        \n",
    "volume_radius = 500. # In meters\n",
    "volume_top    = 500. # In meters\n",
    "muon_index = np.zeros(len(frame_arr),dtype=int)\n",
    "counter_single = 0\n",
    "counter_multi_reject = 0\n",
    "\n",
    "def stochastic(index,i, frame, volume_radius, volume_top, muon_index, counter_single, counter_multi_reject):\n",
    "\n",
    "                    \n",
    "    daughters = []\n",
    "    \n",
    "    e_stochastic = []\n",
    "    mmc_tracks = frame['MMCTrackList']\n",
    "    \n",
    "    if len(mmc_tracks) == 1:\n",
    "        muon_index[index] = 0\n",
    "        counter_single += 1\n",
    "    else:\n",
    "       \n",
    "        muons_in_volume = 0\n",
    "        for itrack, one_track in enumerate(mmc_tracks):\n",
    "           \n",
    "            if (np.sqrt(one_track.xc**2 + one_track.yc**2) < volume_radius) and (-volume_top<one_track.zc<volume_top):\n",
    "              \n",
    "                if one_track.particle.shift_along_track(one_track.particle.length).z < volume_top:\n",
    "                                  \n",
    "                    muons_in_volume += 1\n",
    "                    muon_index[index] = itrack\n",
    "        \n",
    "            if muons_in_volume > 1:\n",
    "                muon_index[index] = -1\n",
    "                counter_multi_reject += 1\n",
    "\n",
    "\n",
    "\n",
    "\n",
    "    \n",
    "        \n",
    "    mmc_tr = frame['MMCTrackList'][int(muon_index[i])]\n",
    "    mctree = frame['I3MCTree']\n",
    " \n",
    "\n",
    "    \n",
    "    \n",
    "    daughters=(mctree.get_daughters(mmc_tr.particle))\n",
    "\n",
    "    \n",
    "    e_stochastic.append(0)\n",
    "    for d in daughters:\n",
    "        \n",
    "        if (d.pos.z <= volume_top) and (np.sqrt(d.pos.x**2 + d.pos.y**2)< volume_radius):\n",
    "            \n",
    "            e_stochastic[-1] += d.energy\n",
    "    \n",
    "            \n",
    "\n",
    "    daughters = np.array(daughters)\n",
    "    e_stochastic = np.array(e_stochastic)\n",
    "    return e_stochastic\n",
    "        \n",
    "\n",
    "\n",
    "\n"
   ]
  },
  {
   "cell_type": "code",
   "execution_count": 231,
   "metadata": {},
   "outputs": [],
   "source": [
    "for index,  frame in enumerate(frame_arr):\n",
    "    stochastic(index, i, frame, volume_radius, volume_top, muon_index, counter_single, counter_multi_reject)\n",
    "for  i, frame in enumerate(frame_arr):  \n",
    "    if muon_index[i] < 0:\n",
    "        continue\n",
    "    stochastic(index, i, frame, volume_radius, volume_top, muon_index, counter_single, counter_multi_reject)"
   ]
  },
  {
   "cell_type": "code",
   "execution_count": 225,
   "metadata": {},
   "outputs": [],
   "source": [
    "def func(frame):\n",
    "    pulses = frame['SRTInIcePulsesDOMeff'].apply(frame)\n",
    "    one_dom = pulses.items()\n",
    "\n",
    "\n",
    "   \n",
    "    charge = []\n",
    "    times = []\n",
    "    min_time_ar = []\n",
    "    for i in range(len(one_dom)):\n",
    "        Omkey= one_dom[i][0]\n",
    "        and_time = one_dom[i][1]\n",
    "        #print(Omkey,and_time)\n",
    "\n",
    "        value = []\n",
    "        char = 0\n",
    "        for pulse in one_dom[i][1]:\n",
    "            time_pulse = 0\n",
    "            time_pulse += pulse.time\n",
    "            value.append(time_pulse)\n",
    "            times.append(time_pulse)\n",
    "        \n",
    "            char += pulse.charge\n",
    "            if char > 0 :\n",
    "                charge.append(char)\n",
    "    \n",
    "\n",
    "    min_time_ar.append(min(value))\n",
    "\n",
    "    #print(value)\n",
    "    #print(min_time_ar)\n",
    "    #print(times)\n",
    "    #print(len(value))\n",
    "    #print(len(times))\n",
    " \n",
    "    \n",
    "    for i in range(len(value)-1):\n",
    "        #print(times[len(times) - i - 1])\n",
    "        if times[len(times) - i - 1] != min_time_ar: del times[len(times) - i - 1]\n",
    "    #print(times)\n",
    "\n",
    "   \n",
    "     \n",
    "    \n",
    "    gcd_file = '/cvmfs/icecube.opensciencegrid.org/data/GCD/GeoCalibDetectorStatus_IC86_Merged.i3.gz'\n",
    "    gfile = dataio.I3File(gcd_file)\n",
    "    gframe = gfile.pop_frame()\n",
    "    geometry = gframe['I3Geometry']\n",
    "    \n",
    "    mydom = []\n",
    "    for i in range(len(one_dom)):\n",
    "        dom = geometry.omgeo[one_dom[i][0]]    \n",
    "        mydom.append(dom) \n",
    "        \n",
    "    mmctracks = frame['MMCTrackList']\n",
    "    track = mmctracks[0].particle\n",
    "    \n",
    "    x_f = y_f = z_f = 0\n",
    "    x_e = y_e = z_e = 0\n",
    "    for i in range(len(mydom)):\n",
    "        if times[i] == max(times):\n",
    "            x_f = mydom[i].position.x\n",
    "            y_f = mydom[i].position.y\n",
    "            z_f = mydom[i].position.z\n",
    "            \n",
    "    for i in range(len(mydom)):\n",
    "        if times[i] == min(times):\n",
    "            x_e = mydom[i].position.x\n",
    "            y_e = mydom[i].position.y\n",
    "            z_e = mydom[i].position.z\n",
    "   \n",
    "    dis = np.sqrt((x_f - x_e)**2 + (y_f - y_e)**2 + (z_f - z_e)**2)\n",
    "    \n",
    "    distance = []\n",
    "    for i in range(len(mydom)):\n",
    "        d = phys_services.I3Calculator.cherenkov_distance(track, mydom[i].position)\n",
    "        distance.append(d)\n",
    "    #print(len(distance))\n",
    "    #print(len(charge))\n",
    "    \n",
    "    corrected_charge = []\n",
    "    for i in range(len(distance)):\n",
    "        att_length = 50. \n",
    "        if distance[i] <= 200.0:\n",
    "            corrected = charge[i]*distance[i]\n",
    "            corrected_charge.append(corrected)\n",
    "        \n",
    "    \n",
    "    return corrected_charge, dis, times, one_dom"
   ]
  },
  {
   "cell_type": "code",
   "execution_count": 232,
   "metadata": {},
   "outputs": [],
   "source": [
    "frame_arr = []; mctree = []\n",
    "stoch_ar = []\n",
    "\n",
    "total_ar = []\n",
    "std_ar =[]\n",
    "#ratio_ar = []\n",
    "#max_cor_ar = []\n",
    "#mean_cor_ar =[]\n",
    "#dist_ar = []\n",
    "\n",
    "for i in range(nfiles):\n",
    "    with dataio.I3File(os.path.join(files_dir,file_list[i])) as infile:\n",
    "        for frame in infile:\n",
    "            if infile.stream.id != 'P': continue \n",
    "            frame_arr.append(frame)\n",
    "            mctree.append(frame['I3MCTree'])\n",
    "                \n",
    "            corrected = func(frame)[0]\n",
    "            #dom_distance = func(frame)[1]\n",
    "            \n",
    "            total = np.sum(corrected)\n",
    "            std = np.std(corrected)\n",
    "            #max_cor = np.max(corrected)\n",
    "            #mean_cor =np.mean(corrected)\n",
    "            #ratio = max_cor/mean_cor\n",
    "            total_ar.append(total)\n",
    "            #max_cor_ar.append(max_cor)\n",
    "            #mean_cor_ar.append(mean_cor)\n",
    "            #ratio_ar.append(ratio)\n",
    "            std_ar.append(std)\n",
    "            \n",
    "            #dist_ar.append(dom_distance)\n",
    "            \n",
    "            stoch_ar.append(stochastic(index, i, frame, volume_radius, volume_top, muon_index, counter_single, counter_multi_reject))\n",
    "            \n",
    "\n",
    "#ratio_ar = np.array(ratio_ar)\n",
    "#max_cor_ar = np.array(max_cor_ar)\n",
    "#mean_cor_ar = np.array(mean_cor_ar)                    \n",
    "#dist_ar = np.array(dist_ar)\n",
    "            \n"
   ]
  },
  {
   "cell_type": "code",
   "execution_count": 233,
   "metadata": {},
   "outputs": [],
   "source": [
    "std_ar = np.array(std_ar)\n",
    "total_ar = np.array(total_ar)\n",
    "stoch_ar = np.array(stoch)"
   ]
  },
  {
   "cell_type": "code",
   "execution_count": 234,
   "metadata": {},
   "outputs": [
    {
     "name": "stdout",
     "output_type": "stream",
     "text": [
      "Total charge 1403\n",
      "Standard deviation 1403\n",
      "1024\n"
     ]
    }
   ],
   "source": [
    "print('Total charge', len(total_ar) )\n",
    "#print('distance between first and last doms', dom_distance)\n",
    "#print('Average charge per meter, dividing total charge over the distance of first/last dom with light', np.sum(corrected) / dom_distance)\n",
    "print('Standard deviation', len(std_ar))\n",
    "#print('Maximum corrected charge observed',max_cor )\n",
    "#print('Mean corrected charge observed', mean_cor)\n",
    "#print('Ratio',max_cor/mean_cor )\n",
    "print(len(stoch_ar))\n",
    "\n",
    "\n",
    "    "
   ]
  },
  {
   "cell_type": "code",
   "execution_count": 114,
   "metadata": {},
   "outputs": [],
   "source": []
  },
  {
   "cell_type": "code",
   "execution_count": null,
   "metadata": {},
   "outputs": [],
   "source": []
  },
  {
   "cell_type": "code",
   "execution_count": 235,
   "metadata": {},
   "outputs": [],
   "source": [
    "frame_arr = []; mctree = []\n",
    "for i in range(nfiles):\n",
    "    with dataio.I3File(os.path.join(files_dir, file_list[i])) as infile:\n",
    "        for frame in infile:\n",
    "            if infile.stream.id != 'P': continue\n",
    "            frame_arr.append(frame)\n",
    "            mctree.append(frame['I3MCTree']) \n",
    "        \n",
    "volume_radius = 500. # In meters\n",
    "volume_top    = 500. # In meters\n",
    "\n",
    "muon_index = np.zeros(len(frame_arr),dtype=int)\n",
    "counter_single = 0\n",
    "counter_multi_reject = 0\n",
    "\n",
    "for index, frame in enumerate(frame_arr):\n",
    "\n",
    "    mmc_tracks = frame['MMCTrackList']\n",
    "    \n",
    "    if len(mmc_tracks) == 1:\n",
    "        muon_index[index] = 0\n",
    "        counter_single += 1\n",
    "    else:\n",
    "       \n",
    "        muons_in_volume = 0\n",
    "        for itrack, one_track in enumerate(mmc_tracks):\n",
    "           \n",
    "            if (np.sqrt(one_track.xc**2 + one_track.yc**2) < volume_radius) and (-volume_top<one_track.zc<volume_top):\n",
    "              \n",
    "                if one_track.particle.shift_along_track(one_track.particle.length).z < volume_top:\n",
    "                                  \n",
    "                    muons_in_volume += 1\n",
    "                    muon_index[index] = itrack\n",
    "        \n",
    "            if muons_in_volume > 1:\n",
    "                muon_index[index] = -1\n",
    "                counter_multi_reject += 1\n",
    "        \n",
    "\n",
    "daughters = []\n",
    "\n",
    "e_stochastic = []\n",
    "\n",
    "\n",
    "for i, frame in enumerate(frame_arr):\n",
    "    if muon_index[i] < 0:\n",
    "        continue\n",
    "        \n",
    "    mmc_tr = frame['MMCTrackList'][int(muon_index[i])]\n",
    "    mctree = frame['I3MCTree']\n",
    " \n",
    "\n",
    "    \n",
    "    \n",
    "    daughters=(mctree.get_daughters(mmc_tr.particle))\n",
    "\n",
    "    \n",
    "    e_stochastic.append(0)\n",
    "    for d in daughters:\n",
    "        \n",
    "        if (d.pos.z <= volume_top) and (np.sqrt(d.pos.x**2 + d.pos.y**2)< volume_radius):\n",
    "            \n",
    "            e_stochastic[-1] += d.energy\n",
    "    \n",
    "            \n",
    "\n",
    "daughters = np.array(daughters)\n",
    "e_stochastic = np.array(e_stochastic)\n",
    "\n"
   ]
  },
  {
   "cell_type": "code",
   "execution_count": 237,
   "metadata": {},
   "outputs": [
    {
     "name": "stdout",
     "output_type": "stream",
     "text": [
      "1024\n"
     ]
    }
   ],
   "source": [
    "print(len(e_stochastic))"
   ]
  },
  {
   "cell_type": "code",
   "execution_count": 355,
   "metadata": {},
   "outputs": [
    {
     "name": "stdout",
     "output_type": "stream",
     "text": [
      "Total charge 3\n",
      "distance between first and last doms 3\n",
      "Average charge per meter, dividing total charge over the distance of first/last dom with light 3\n",
      "Standard deviation 3\n",
      "Maximum corrected charge observed 3\n",
      "Mean corrected charge observed 3\n",
      "Ratio 3\n",
      "0\n"
     ]
    }
   ],
   "source": [
    "print('Total charge', len(total_ar) )\n",
    "print('distance between first and last doms', len(dist_ar))\n",
    "print('Average charge per meter, dividing total charge over the distance of first/last dom with light', len(total_ar / dist_ar))\n",
    "print('Standard deviation', len(std_ar))\n",
    "print('Maximum corrected charge observed',len(max_cor_ar) )\n",
    "print('Mean corrected charge observed', len(mean_cor_ar))\n",
    "print('Ratio',len(ratio_ar) )\n",
    "print(len(stoch_ar))"
   ]
  },
  {
   "cell_type": "code",
   "execution_count": 96,
   "metadata": {},
   "outputs": [
    {
     "data": {
      "text/plain": [
       "Text(0, 0.5, 'Events')"
      ]
     },
     "execution_count": 96,
     "metadata": {},
     "output_type": "execute_result"
    },
    {
     "data": {
      "image/png": "[encoded data removed]",
      "text/plain": [
       "<Figure size 432x288 with 1 Axes>"
      ]
     },
     "metadata": {
      "needs_background": "light"
     },
     "output_type": "display_data"
    }
   ],
   "source": [
    "plt.hist(e_stochastic, np.arange(0, 300, 5))\n",
    "plt.yscale('log')\n",
    "plt.xlabel('Sum of stochastic losses in IceCube volume (GeV)')\n",
    "plt.ylabel('Events')"
   ]
  },
  {
   "cell_type": "code",
   "execution_count": 100,
   "metadata": {},
   "outputs": [
    {
     "name": "stdout",
     "output_type": "stream",
     "text": [
      "4683\n",
      "6356\n"
     ]
    }
   ],
   "source": [
    "print(len(e_stochastic))\n",
    "print(len(std_ar))\n"
   ]
  },
  {
   "cell_type": "code",
   "execution_count": 109,
   "metadata": {},
   "outputs": [
    {
     "ename": "ValueError",
     "evalue": "x and y must have same first dimension, but have shapes (4683,) and (6356,)",
     "output_type": "error",
     "traceback": [
      "\u001b[0;31m---------------------------------------------------------------------------\u001b[0m",
      "\u001b[0;31mValueError\u001b[0m                                Traceback (most recent call last)",
      "\u001b[0;32m<ipython-input-109-bc4be53a8438>\u001b[0m in \u001b[0;36m<module>\u001b[0;34m\u001b[0m\n\u001b[0;32m----> 1\u001b[0;31m \u001b[0mplt\u001b[0m\u001b[0;34m.\u001b[0m\u001b[0mplot\u001b[0m\u001b[0;34m(\u001b[0m\u001b[0me_stochastic\u001b[0m\u001b[0;34m,\u001b[0m \u001b[0mstd_ar\u001b[0m\u001b[0;34m,\u001b[0m \u001b[0;34m'.'\u001b[0m\u001b[0;34m)\u001b[0m\u001b[0;34m\u001b[0m\u001b[0;34m\u001b[0m\u001b[0m\n\u001b[0m\u001b[1;32m      2\u001b[0m \u001b[0mplt\u001b[0m\u001b[0;34m.\u001b[0m\u001b[0mxlabel\u001b[0m\u001b[0;34m(\u001b[0m\u001b[0;34m'Stochastic losses (GeV)'\u001b[0m\u001b[0;34m)\u001b[0m\u001b[0;34m\u001b[0m\u001b[0;34m\u001b[0m\u001b[0m\n\u001b[1;32m      3\u001b[0m \u001b[0mplt\u001b[0m\u001b[0;34m.\u001b[0m\u001b[0mylabel\u001b[0m\u001b[0;34m(\u001b[0m\u001b[0;34m'std'\u001b[0m\u001b[0;34m)\u001b[0m\u001b[0;34m\u001b[0m\u001b[0;34m\u001b[0m\u001b[0m\n",
      "\u001b[0;32m~/jupyter_py3-4.1.0/lib/python3.7/site-packages/matplotlib/pyplot.py\u001b[0m in \u001b[0;36mplot\u001b[0;34m(scalex, scaley, data, *args, **kwargs)\u001b[0m\n\u001b[1;32m   2761\u001b[0m     return gca().plot(\n\u001b[1;32m   2762\u001b[0m         *args, scalex=scalex, scaley=scaley, **({\"data\": data} if data\n\u001b[0;32m-> 2763\u001b[0;31m         is not None else {}), **kwargs)\n\u001b[0m\u001b[1;32m   2764\u001b[0m \u001b[0;34m\u001b[0m\u001b[0m\n\u001b[1;32m   2765\u001b[0m \u001b[0;34m\u001b[0m\u001b[0m\n",
      "\u001b[0;32m~/jupyter_py3-4.1.0/lib/python3.7/site-packages/matplotlib/axes/_axes.py\u001b[0m in \u001b[0;36mplot\u001b[0;34m(self, scalex, scaley, data, *args, **kwargs)\u001b[0m\n\u001b[1;32m   1644\u001b[0m         \"\"\"\n\u001b[1;32m   1645\u001b[0m         \u001b[0mkwargs\u001b[0m \u001b[0;34m=\u001b[0m \u001b[0mcbook\u001b[0m\u001b[0;34m.\u001b[0m\u001b[0mnormalize_kwargs\u001b[0m\u001b[0;34m(\u001b[0m\u001b[0mkwargs\u001b[0m\u001b[0;34m,\u001b[0m \u001b[0mmlines\u001b[0m\u001b[0;34m.\u001b[0m\u001b[0mLine2D\u001b[0m\u001b[0;34m)\u001b[0m\u001b[0;34m\u001b[0m\u001b[0;34m\u001b[0m\u001b[0m\n\u001b[0;32m-> 1646\u001b[0;31m         \u001b[0mlines\u001b[0m \u001b[0;34m=\u001b[0m \u001b[0;34m[\u001b[0m\u001b[0;34m*\u001b[0m\u001b[0mself\u001b[0m\u001b[0;34m.\u001b[0m\u001b[0m_get_lines\u001b[0m\u001b[0;34m(\u001b[0m\u001b[0;34m*\u001b[0m\u001b[0margs\u001b[0m\u001b[0;34m,\u001b[0m \u001b[0mdata\u001b[0m\u001b[0;34m=\u001b[0m\u001b[0mdata\u001b[0m\u001b[0;34m,\u001b[0m \u001b[0;34m**\u001b[0m\u001b[0mkwargs\u001b[0m\u001b[0;34m)\u001b[0m\u001b[0;34m]\u001b[0m\u001b[0;34m\u001b[0m\u001b[0;34m\u001b[0m\u001b[0m\n\u001b[0m\u001b[1;32m   1647\u001b[0m         \u001b[0;32mfor\u001b[0m \u001b[0mline\u001b[0m \u001b[0;32min\u001b[0m \u001b[0mlines\u001b[0m\u001b[0;34m:\u001b[0m\u001b[0;34m\u001b[0m\u001b[0;34m\u001b[0m\u001b[0m\n\u001b[1;32m   1648\u001b[0m             \u001b[0mself\u001b[0m\u001b[0;34m.\u001b[0m\u001b[0madd_line\u001b[0m\u001b[0;34m(\u001b[0m\u001b[0mline\u001b[0m\u001b[0;34m)\u001b[0m\u001b[0;34m\u001b[0m\u001b[0;34m\u001b[0m\u001b[0m\n",
      "\u001b[0;32m~/jupyter_py3-4.1.0/lib/python3.7/site-packages/matplotlib/axes/_base.py\u001b[0m in \u001b[0;36m__call__\u001b[0;34m(self, *args, **kwargs)\u001b[0m\n\u001b[1;32m    214\u001b[0m                 \u001b[0mthis\u001b[0m \u001b[0;34m+=\u001b[0m \u001b[0margs\u001b[0m\u001b[0;34m[\u001b[0m\u001b[0;36m0\u001b[0m\u001b[0;34m]\u001b[0m\u001b[0;34m,\u001b[0m\u001b[0;34m\u001b[0m\u001b[0;34m\u001b[0m\u001b[0m\n\u001b[1;32m    215\u001b[0m                 \u001b[0margs\u001b[0m \u001b[0;34m=\u001b[0m \u001b[0margs\u001b[0m\u001b[0;34m[\u001b[0m\u001b[0;36m1\u001b[0m\u001b[0;34m:\u001b[0m\u001b[0;34m]\u001b[0m\u001b[0;34m\u001b[0m\u001b[0;34m\u001b[0m\u001b[0m\n\u001b[0;32m--> 216\u001b[0;31m             \u001b[0;32myield\u001b[0m \u001b[0;32mfrom\u001b[0m \u001b[0mself\u001b[0m\u001b[0;34m.\u001b[0m\u001b[0m_plot_args\u001b[0m\u001b[0;34m(\u001b[0m\u001b[0mthis\u001b[0m\u001b[0;34m,\u001b[0m \u001b[0mkwargs\u001b[0m\u001b[0;34m)\u001b[0m\u001b[0;34m\u001b[0m\u001b[0;34m\u001b[0m\u001b[0m\n\u001b[0m\u001b[1;32m    217\u001b[0m \u001b[0;34m\u001b[0m\u001b[0m\n\u001b[1;32m    218\u001b[0m     \u001b[0;32mdef\u001b[0m \u001b[0mget_next_color\u001b[0m\u001b[0;34m(\u001b[0m\u001b[0mself\u001b[0m\u001b[0;34m)\u001b[0m\u001b[0;34m:\u001b[0m\u001b[0;34m\u001b[0m\u001b[0;34m\u001b[0m\u001b[0m\n",
      "\u001b[0;32m~/jupyter_py3-4.1.0/lib/python3.7/site-packages/matplotlib/axes/_base.py\u001b[0m in \u001b[0;36m_plot_args\u001b[0;34m(self, tup, kwargs)\u001b[0m\n\u001b[1;32m    340\u001b[0m \u001b[0;34m\u001b[0m\u001b[0m\n\u001b[1;32m    341\u001b[0m         \u001b[0;32mif\u001b[0m \u001b[0mx\u001b[0m\u001b[0;34m.\u001b[0m\u001b[0mshape\u001b[0m\u001b[0;34m[\u001b[0m\u001b[0;36m0\u001b[0m\u001b[0;34m]\u001b[0m \u001b[0;34m!=\u001b[0m \u001b[0my\u001b[0m\u001b[0;34m.\u001b[0m\u001b[0mshape\u001b[0m\u001b[0;34m[\u001b[0m\u001b[0;36m0\u001b[0m\u001b[0;34m]\u001b[0m\u001b[0;34m:\u001b[0m\u001b[0;34m\u001b[0m\u001b[0;34m\u001b[0m\u001b[0m\n\u001b[0;32m--> 342\u001b[0;31m             raise ValueError(f\"x and y must have same first dimension, but \"\n\u001b[0m\u001b[1;32m    343\u001b[0m                              f\"have shapes {x.shape} and {y.shape}\")\n\u001b[1;32m    344\u001b[0m         \u001b[0;32mif\u001b[0m \u001b[0mx\u001b[0m\u001b[0;34m.\u001b[0m\u001b[0mndim\u001b[0m \u001b[0;34m>\u001b[0m \u001b[0;36m2\u001b[0m \u001b[0;32mor\u001b[0m \u001b[0my\u001b[0m\u001b[0;34m.\u001b[0m\u001b[0mndim\u001b[0m \u001b[0;34m>\u001b[0m \u001b[0;36m2\u001b[0m\u001b[0;34m:\u001b[0m\u001b[0;34m\u001b[0m\u001b[0;34m\u001b[0m\u001b[0m\n",
      "\u001b[0;31mValueError\u001b[0m: x and y must have same first dimension, but have shapes (4683,) and (6356,)"
     ]
    },
    {
     "data": {
      "image/png": "[encoded data removed]",
      "text/plain": [
       "<Figure size 432x288 with 1 Axes>"
      ]
     },
     "metadata": {
      "needs_background": "light"
     },
     "output_type": "display_data"
    }
   ],
   "source": [
    "plt.plot(e_stochastic, std_ar, '.')\n",
    "plt.xlabel('Stochastic losses (GeV)')\n",
    "plt.ylabel('std')\n"
   ]
  },
  {
   "cell_type": "code",
   "execution_count": 99,
   "metadata": {},
   "outputs": [
    {
     "ename": "ValueError",
     "evalue": "The dimension of bins must be equal to the dimension of the  sample x.",
     "output_type": "error",
     "traceback": [
      "\u001b[0;31m---------------------------------------------------------------------------\u001b[0m",
      "\u001b[0;31mValueError\u001b[0m                                Traceback (most recent call last)",
      "\u001b[0;32m<ipython-input-99-7941e3ace8c0>\u001b[0m in \u001b[0;36m<module>\u001b[0;34m\u001b[0m\n\u001b[1;32m      1\u001b[0m \u001b[0mplt\u001b[0m\u001b[0;34m.\u001b[0m\u001b[0myscale\u001b[0m\u001b[0;34m(\u001b[0m\u001b[0;34m'log'\u001b[0m\u001b[0;34m)\u001b[0m\u001b[0;34m\u001b[0m\u001b[0;34m\u001b[0m\u001b[0m\n\u001b[0;32m----> 2\u001b[0;31m \u001b[0mplt\u001b[0m\u001b[0;34m.\u001b[0m\u001b[0mhist2d\u001b[0m\u001b[0;34m(\u001b[0m\u001b[0me_stochastic\u001b[0m\u001b[0;34m,\u001b[0m \u001b[0mtotal_ar\u001b[0m \u001b[0;34m,\u001b[0m \u001b[0mbins\u001b[0m\u001b[0;34m=\u001b[0m\u001b[0;34m(\u001b[0m\u001b[0;36m500\u001b[0m\u001b[0;34m,\u001b[0m \u001b[0;36m500\u001b[0m\u001b[0;34m)\u001b[0m\u001b[0;34m,\u001b[0m \u001b[0mcmap\u001b[0m\u001b[0;34m=\u001b[0m\u001b[0mplt\u001b[0m\u001b[0;34m.\u001b[0m\u001b[0mcm\u001b[0m\u001b[0;34m.\u001b[0m\u001b[0mjet\u001b[0m\u001b[0;34m)\u001b[0m\u001b[0;34m\u001b[0m\u001b[0;34m\u001b[0m\u001b[0m\n\u001b[0m\u001b[1;32m      3\u001b[0m \u001b[0mplt\u001b[0m\u001b[0;34m.\u001b[0m\u001b[0mcolorbar\u001b[0m\u001b[0;34m(\u001b[0m\u001b[0;34m)\u001b[0m\u001b[0;34m\u001b[0m\u001b[0;34m\u001b[0m\u001b[0m\n\u001b[1;32m      4\u001b[0m \u001b[0mplt\u001b[0m\u001b[0;34m.\u001b[0m\u001b[0mxlim\u001b[0m\u001b[0;34m(\u001b[0m\u001b[0;36m0\u001b[0m\u001b[0;34m,\u001b[0m\u001b[0;36m300\u001b[0m\u001b[0;34m)\u001b[0m\u001b[0;34m\u001b[0m\u001b[0;34m\u001b[0m\u001b[0m\n\u001b[1;32m      5\u001b[0m \u001b[0;34m\u001b[0m\u001b[0m\n",
      "\u001b[0;32m~/jupyter_py3-4.1.0/lib/python3.7/site-packages/matplotlib/pyplot.py\u001b[0m in \u001b[0;36mhist2d\u001b[0;34m(x, y, bins, range, density, weights, cmin, cmax, data, **kwargs)\u001b[0m\n\u001b[1;32m   2619\u001b[0m         \u001b[0mx\u001b[0m\u001b[0;34m,\u001b[0m \u001b[0my\u001b[0m\u001b[0;34m,\u001b[0m \u001b[0mbins\u001b[0m\u001b[0;34m=\u001b[0m\u001b[0mbins\u001b[0m\u001b[0;34m,\u001b[0m \u001b[0mrange\u001b[0m\u001b[0;34m=\u001b[0m\u001b[0mrange\u001b[0m\u001b[0;34m,\u001b[0m \u001b[0mdensity\u001b[0m\u001b[0;34m=\u001b[0m\u001b[0mdensity\u001b[0m\u001b[0;34m,\u001b[0m\u001b[0;34m\u001b[0m\u001b[0;34m\u001b[0m\u001b[0m\n\u001b[1;32m   2620\u001b[0m         weights=weights, cmin=cmin, cmax=cmax, **({\"data\": data} if\n\u001b[0;32m-> 2621\u001b[0;31m         data is not None else {}), **kwargs)\n\u001b[0m\u001b[1;32m   2622\u001b[0m     \u001b[0msci\u001b[0m\u001b[0;34m(\u001b[0m\u001b[0m__ret\u001b[0m\u001b[0;34m[\u001b[0m\u001b[0;34m-\u001b[0m\u001b[0;36m1\u001b[0m\u001b[0;34m]\u001b[0m\u001b[0;34m)\u001b[0m\u001b[0;34m\u001b[0m\u001b[0;34m\u001b[0m\u001b[0m\n\u001b[1;32m   2623\u001b[0m     \u001b[0;32mreturn\u001b[0m \u001b[0m__ret\u001b[0m\u001b[0;34m\u001b[0m\u001b[0;34m\u001b[0m\u001b[0m\n",
      "\u001b[0;32m~/jupyter_py3-4.1.0/lib/python3.7/site-packages/matplotlib/__init__.py\u001b[0m in \u001b[0;36minner\u001b[0;34m(ax, data, *args, **kwargs)\u001b[0m\n\u001b[1;32m   1563\u001b[0m     \u001b[0;32mdef\u001b[0m \u001b[0minner\u001b[0m\u001b[0;34m(\u001b[0m\u001b[0max\u001b[0m\u001b[0;34m,\u001b[0m \u001b[0;34m*\u001b[0m\u001b[0margs\u001b[0m\u001b[0;34m,\u001b[0m \u001b[0mdata\u001b[0m\u001b[0;34m=\u001b[0m\u001b[0;32mNone\u001b[0m\u001b[0;34m,\u001b[0m \u001b[0;34m**\u001b[0m\u001b[0mkwargs\u001b[0m\u001b[0;34m)\u001b[0m\u001b[0;34m:\u001b[0m\u001b[0;34m\u001b[0m\u001b[0;34m\u001b[0m\u001b[0m\n\u001b[1;32m   1564\u001b[0m         \u001b[0;32mif\u001b[0m \u001b[0mdata\u001b[0m \u001b[0;32mis\u001b[0m \u001b[0;32mNone\u001b[0m\u001b[0;34m:\u001b[0m\u001b[0;34m\u001b[0m\u001b[0;34m\u001b[0m\u001b[0m\n\u001b[0;32m-> 1565\u001b[0;31m             \u001b[0;32mreturn\u001b[0m \u001b[0mfunc\u001b[0m\u001b[0;34m(\u001b[0m\u001b[0max\u001b[0m\u001b[0;34m,\u001b[0m \u001b[0;34m*\u001b[0m\u001b[0mmap\u001b[0m\u001b[0;34m(\u001b[0m\u001b[0msanitize_sequence\u001b[0m\u001b[0;34m,\u001b[0m \u001b[0margs\u001b[0m\u001b[0;34m)\u001b[0m\u001b[0;34m,\u001b[0m \u001b[0;34m**\u001b[0m\u001b[0mkwargs\u001b[0m\u001b[0;34m)\u001b[0m\u001b[0;34m\u001b[0m\u001b[0;34m\u001b[0m\u001b[0m\n\u001b[0m\u001b[1;32m   1566\u001b[0m \u001b[0;34m\u001b[0m\u001b[0m\n\u001b[1;32m   1567\u001b[0m         \u001b[0mbound\u001b[0m \u001b[0;34m=\u001b[0m \u001b[0mnew_sig\u001b[0m\u001b[0;34m.\u001b[0m\u001b[0mbind\u001b[0m\u001b[0;34m(\u001b[0m\u001b[0max\u001b[0m\u001b[0;34m,\u001b[0m \u001b[0;34m*\u001b[0m\u001b[0margs\u001b[0m\u001b[0;34m,\u001b[0m \u001b[0;34m**\u001b[0m\u001b[0mkwargs\u001b[0m\u001b[0;34m)\u001b[0m\u001b[0;34m\u001b[0m\u001b[0;34m\u001b[0m\u001b[0m\n",
      "\u001b[0;32m~/jupyter_py3-4.1.0/lib/python3.7/site-packages/matplotlib/cbook/deprecation.py\u001b[0m in \u001b[0;36mwrapper\u001b[0;34m(*args, **kwargs)\u001b[0m\n\u001b[1;32m    294\u001b[0m                 f\"for the old name will be dropped %(removal)s.\")\n\u001b[1;32m    295\u001b[0m             \u001b[0mkwargs\u001b[0m\u001b[0;34m[\u001b[0m\u001b[0mnew\u001b[0m\u001b[0;34m]\u001b[0m \u001b[0;34m=\u001b[0m \u001b[0mkwargs\u001b[0m\u001b[0;34m.\u001b[0m\u001b[0mpop\u001b[0m\u001b[0;34m(\u001b[0m\u001b[0mold\u001b[0m\u001b[0;34m)\u001b[0m\u001b[0;34m\u001b[0m\u001b[0;34m\u001b[0m\u001b[0m\n\u001b[0;32m--> 296\u001b[0;31m         \u001b[0;32mreturn\u001b[0m \u001b[0mfunc\u001b[0m\u001b[0;34m(\u001b[0m\u001b[0;34m*\u001b[0m\u001b[0margs\u001b[0m\u001b[0;34m,\u001b[0m \u001b[0;34m**\u001b[0m\u001b[0mkwargs\u001b[0m\u001b[0;34m)\u001b[0m\u001b[0;34m\u001b[0m\u001b[0;34m\u001b[0m\u001b[0m\n\u001b[0m\u001b[1;32m    297\u001b[0m \u001b[0;34m\u001b[0m\u001b[0m\n\u001b[1;32m    298\u001b[0m     \u001b[0;31m# wrapper() must keep the same documented signature as func(): if we\u001b[0m\u001b[0;34m\u001b[0m\u001b[0;34m\u001b[0m\u001b[0;34m\u001b[0m\u001b[0m\n",
      "\u001b[0;32m~/jupyter_py3-4.1.0/lib/python3.7/site-packages/matplotlib/axes/_axes.py\u001b[0m in \u001b[0;36mhist2d\u001b[0;34m(self, x, y, bins, range, density, weights, cmin, cmax, **kwargs)\u001b[0m\n\u001b[1;32m   6913\u001b[0m \u001b[0;34m\u001b[0m\u001b[0m\n\u001b[1;32m   6914\u001b[0m         h, xedges, yedges = np.histogram2d(x, y, bins=bins, range=range,\n\u001b[0;32m-> 6915\u001b[0;31m                                            normed=density, weights=weights)\n\u001b[0m\u001b[1;32m   6916\u001b[0m \u001b[0;34m\u001b[0m\u001b[0m\n\u001b[1;32m   6917\u001b[0m         \u001b[0;32mif\u001b[0m \u001b[0mcmin\u001b[0m \u001b[0;32mis\u001b[0m \u001b[0;32mnot\u001b[0m \u001b[0;32mNone\u001b[0m\u001b[0;34m:\u001b[0m\u001b[0;34m\u001b[0m\u001b[0;34m\u001b[0m\u001b[0m\n",
      "\u001b[0;32m<__array_function__ internals>\u001b[0m in \u001b[0;36mhistogram2d\u001b[0;34m(*args, **kwargs)\u001b[0m\n",
      "\u001b[0;32m~/jupyter_py3-4.1.0/lib/python3.7/site-packages/numpy/lib/twodim_base.py\u001b[0m in \u001b[0;36mhistogram2d\u001b[0;34m(x, y, bins, range, normed, weights, density)\u001b[0m\n\u001b[1;32m    713\u001b[0m         \u001b[0mxedges\u001b[0m \u001b[0;34m=\u001b[0m \u001b[0myedges\u001b[0m \u001b[0;34m=\u001b[0m \u001b[0masarray\u001b[0m\u001b[0;34m(\u001b[0m\u001b[0mbins\u001b[0m\u001b[0;34m)\u001b[0m\u001b[0;34m\u001b[0m\u001b[0;34m\u001b[0m\u001b[0m\n\u001b[1;32m    714\u001b[0m         \u001b[0mbins\u001b[0m \u001b[0;34m=\u001b[0m \u001b[0;34m[\u001b[0m\u001b[0mxedges\u001b[0m\u001b[0;34m,\u001b[0m \u001b[0myedges\u001b[0m\u001b[0;34m]\u001b[0m\u001b[0;34m\u001b[0m\u001b[0;34m\u001b[0m\u001b[0m\n\u001b[0;32m--> 715\u001b[0;31m     \u001b[0mhist\u001b[0m\u001b[0;34m,\u001b[0m \u001b[0medges\u001b[0m \u001b[0;34m=\u001b[0m \u001b[0mhistogramdd\u001b[0m\u001b[0;34m(\u001b[0m\u001b[0;34m[\u001b[0m\u001b[0mx\u001b[0m\u001b[0;34m,\u001b[0m \u001b[0my\u001b[0m\u001b[0;34m]\u001b[0m\u001b[0;34m,\u001b[0m \u001b[0mbins\u001b[0m\u001b[0;34m,\u001b[0m \u001b[0mrange\u001b[0m\u001b[0;34m,\u001b[0m \u001b[0mnormed\u001b[0m\u001b[0;34m,\u001b[0m \u001b[0mweights\u001b[0m\u001b[0;34m,\u001b[0m \u001b[0mdensity\u001b[0m\u001b[0;34m)\u001b[0m\u001b[0;34m\u001b[0m\u001b[0;34m\u001b[0m\u001b[0m\n\u001b[0m\u001b[1;32m    716\u001b[0m     \u001b[0;32mreturn\u001b[0m \u001b[0mhist\u001b[0m\u001b[0;34m,\u001b[0m \u001b[0medges\u001b[0m\u001b[0;34m[\u001b[0m\u001b[0;36m0\u001b[0m\u001b[0;34m]\u001b[0m\u001b[0;34m,\u001b[0m \u001b[0medges\u001b[0m\u001b[0;34m[\u001b[0m\u001b[0;36m1\u001b[0m\u001b[0;34m]\u001b[0m\u001b[0;34m\u001b[0m\u001b[0;34m\u001b[0m\u001b[0m\n\u001b[1;32m    717\u001b[0m \u001b[0;34m\u001b[0m\u001b[0m\n",
      "\u001b[0;32m<__array_function__ internals>\u001b[0m in \u001b[0;36mhistogramdd\u001b[0;34m(*args, **kwargs)\u001b[0m\n",
      "\u001b[0;32m~/jupyter_py3-4.1.0/lib/python3.7/site-packages/numpy/lib/histograms.py\u001b[0m in \u001b[0;36mhistogramdd\u001b[0;34m(sample, bins, range, normed, weights, density)\u001b[0m\n\u001b[1;32m   1032\u001b[0m         \u001b[0;32mif\u001b[0m \u001b[0mM\u001b[0m \u001b[0;34m!=\u001b[0m \u001b[0mD\u001b[0m\u001b[0;34m:\u001b[0m\u001b[0;34m\u001b[0m\u001b[0;34m\u001b[0m\u001b[0m\n\u001b[1;32m   1033\u001b[0m             raise ValueError(\n\u001b[0;32m-> 1034\u001b[0;31m                 \u001b[0;34m'The dimension of bins must be equal to the dimension of the '\u001b[0m\u001b[0;34m\u001b[0m\u001b[0;34m\u001b[0m\u001b[0m\n\u001b[0m\u001b[1;32m   1035\u001b[0m                 ' sample x.')\n\u001b[1;32m   1036\u001b[0m     \u001b[0;32mexcept\u001b[0m \u001b[0mTypeError\u001b[0m\u001b[0;34m:\u001b[0m\u001b[0;34m\u001b[0m\u001b[0;34m\u001b[0m\u001b[0m\n",
      "\u001b[0;31mValueError\u001b[0m: The dimension of bins must be equal to the dimension of the  sample x."
     ]
    },
    {
     "data": {
      "image/png": "[encoded data removed]",
      "text/plain": [
       "<Figure size 432x288 with 1 Axes>"
      ]
     },
     "metadata": {
      "needs_background": "light"
     },
     "output_type": "display_data"
    }
   ],
   "source": [
    "plt.yscale('log')\n",
    "plt.hist2d(e_stochastic, total_ar , bins=(500, 500), cmap=plt.cm.jet)\n",
    "plt.colorbar()\n",
    "plt.xlim(0,300)\n",
    "\n",
    "plt.title('Stochastic and total')\n",
    "plt.show()\n",
    "\n",
    "plt.yscale('log')\n",
    "plt.plot(stoch_ar, total_ar , '.')\n",
    "plt.xlabel('Stochastic losses (GeV)')\n",
    "plt.ylabel('total')\n",
    "plt.xlim(0,300)"
   ]
  },
  {
   "cell_type": "code",
   "execution_count": 258,
   "metadata": {},
   "outputs": [
    {
     "data": {
      "image/png": "[encoded data removed]",
      "text/plain": [
       "<Figure size 432x288 with 2 Axes>"
      ]
     },
     "metadata": {
      "needs_background": "light"
     },
     "output_type": "display_data"
    },
    {
     "data": {
      "text/plain": [
       "(0.0, 300.0)"
      ]
     },
     "execution_count": 258,
     "metadata": {},
     "output_type": "execute_result"
    },
    {
     "data": {
      "image/png": "[encoded data removed]",
      "text/plain": [
       "<Figure size 432x288 with 1 Axes>"
      ]
     },
     "metadata": {
      "needs_background": "light"
     },
     "output_type": "display_data"
    }
   ],
   "source": [
    "plt.yscale('log')\n",
    "plt.hist2d(stoch_ar, dist_ar , bins=(500, 500), cmap=plt.cm.jet)\n",
    "plt.colorbar()\n",
    "plt.xlim(0,300)\n",
    "\n",
    "plt.title('Stochastic and dom distance')\n",
    "plt.show()\n",
    "\n",
    "plt.yscale('log')\n",
    "plt.plot(stoch_ar, dist_ar , '.')\n",
    "plt.xlabel('Stochastic losses (GeV)')\n",
    "plt.ylabel('dom distance')\n",
    "plt.xlim(0,300)"
   ]
  },
  {
   "cell_type": "code",
   "execution_count": 259,
   "metadata": {},
   "outputs": [
    {
     "data": {
      "image/png": "[encoded data removed]",
      "text/plain": [
       "<Figure size 432x288 with 2 Axes>"
      ]
     },
     "metadata": {
      "needs_background": "light"
     },
     "output_type": "display_data"
    },
    {
     "data": {
      "text/plain": [
       "(0.0, 300.0)"
      ]
     },
     "execution_count": 259,
     "metadata": {},
     "output_type": "execute_result"
    },
    {
     "data": {
      "image/png": "[encoded data removed]",
      "text/plain": [
       "<Figure size 432x288 with 1 Axes>"
      ]
     },
     "metadata": {
      "needs_background": "light"
     },
     "output_type": "display_data"
    }
   ],
   "source": [
    "plt.yscale('log')\n",
    "plt.hist2d(stoch_ar, (total_ar/dist_ar) , bins=(500, 500), cmap=plt.cm.jet)\n",
    "plt.colorbar()\n",
    "plt.xlim(0,300)\n",
    "\n",
    "plt.title('Stochastic and Average charge per meter')\n",
    "plt.show()\n",
    "\n",
    "plt.yscale('log')\n",
    "plt.plot(stoch_ar, (total_ar/dist_ar) , '.')\n",
    "plt.xlabel('Stochastic losses (GeV)')\n",
    "plt.ylabel('Average charge per meter')\n",
    "plt.xlim(0,300)"
   ]
  },
  {
   "cell_type": "code",
   "execution_count": 260,
   "metadata": {},
   "outputs": [
    {
     "data": {
      "image/png": "[encoded data removed]",
      "text/plain": [
       "<Figure size 432x288 with 2 Axes>"
      ]
     },
     "metadata": {
      "needs_background": "light"
     },
     "output_type": "display_data"
    },
    {
     "data": {
      "text/plain": [
       "(0.0, 300.0)"
      ]
     },
     "execution_count": 260,
     "metadata": {},
     "output_type": "execute_result"
    },
    {
     "data": {
      "image/png": "[encoded data removed]",
      "text/plain": [
       "<Figure size 432x288 with 1 Axes>"
      ]
     },
     "metadata": {
      "needs_background": "light"
     },
     "output_type": "display_data"
    }
   ],
   "source": [
    "plt.yscale('log')\n",
    "plt.hist2d(stoch_ar, mean_cor_ar , bins=(500, 500), cmap=plt.cm.jet)\n",
    "plt.colorbar()\n",
    "plt.xlim(0,300)\n",
    "\n",
    "plt.title('Stochastic and mean')\n",
    "plt.show()\n",
    "\n",
    "plt.yscale('log')\n",
    "plt.plot(stoch_ar, mean_cor_ar , '.')\n",
    "plt.xlabel('Stochastic losses (GeV)')\n",
    "plt.ylabel('mean')\n",
    "plt.xlim(0,300)"
   ]
  },
  {
   "cell_type": "code",
   "execution_count": 261,
   "metadata": {},
   "outputs": [
    {
     "data": {
      "image/png": "[encoded data removed]",
      "text/plain": [
       "<Figure size 432x288 with 2 Axes>"
      ]
     },
     "metadata": {
      "needs_background": "light"
     },
     "output_type": "display_data"
    },
    {
     "data": {
      "text/plain": [
       "(0.0, 300.0)"
      ]
     },
     "execution_count": 261,
     "metadata": {},
     "output_type": "execute_result"
    },
    {
     "data": {
      "image/png": "[encoded data removed]",
      "text/plain": [
       "<Figure size 432x288 with 1 Axes>"
      ]
     },
     "metadata": {
      "needs_background": "light"
     },
     "output_type": "display_data"
    }
   ],
   "source": [
    "plt.yscale('log')\n",
    "plt.hist2d(stoch_ar, max_cor_ar , bins=(500, 500), cmap=plt.cm.jet)\n",
    "plt.colorbar()\n",
    "plt.xlim(0,300)\n",
    "\n",
    "plt.title('Stochastic and max')\n",
    "plt.show()\n",
    "\n",
    "plt.yscale('log')\n",
    "plt.plot(stoch_ar, max_cor_ar , '.')\n",
    "plt.xlabel('Stochastic losses (GeV)')\n",
    "plt.ylabel('max')\n",
    "plt.xlim(0,300)"
   ]
  },
  {
   "cell_type": "code",
   "execution_count": 262,
   "metadata": {},
   "outputs": [
    {
     "data": {
      "image/png": "[encoded data removed]",
      "text/plain": [
       "<Figure size 432x288 with 2 Axes>"
      ]
     },
     "metadata": {
      "needs_background": "light"
     },
     "output_type": "display_data"
    },
    {
     "data": {
      "text/plain": [
       "(0.0, 300.0)"
      ]
     },
     "execution_count": 262,
     "metadata": {},
     "output_type": "execute_result"
    },
    {
     "data": {
      "image/png": "[encoded data removed]",
      "text/plain": [
       "<Figure size 432x288 with 1 Axes>"
      ]
     },
     "metadata": {
      "needs_background": "light"
     },
     "output_type": "display_data"
    }
   ],
   "source": [
    "plt.yscale('log')\n",
    "plt.hist2d(stoch_ar, std_ar , bins=(500, 500), cmap=plt.cm.jet)\n",
    "plt.colorbar()\n",
    "plt.xlim(0,300)\n",
    "\n",
    "plt.title('Stochastic and std')\n",
    "plt.show()\n",
    "\n",
    "plt.yscale('log')\n",
    "plt.plot(stoch_ar, std_ar , '.')\n",
    "plt.xlabel('Stochastic losses (GeV)')\n",
    "plt.ylabel('std')\n",
    "plt.xlim(0,300)"
   ]
  },
  {
   "cell_type": "code",
   "execution_count": 263,
   "metadata": {},
   "outputs": [
    {
     "data": {
      "image/png": "[encoded data removed]",
      "text/plain": [
       "<Figure size 432x288 with 2 Axes>"
      ]
     },
     "metadata": {
      "needs_background": "light"
     },
     "output_type": "display_data"
    },
    {
     "data": {
      "text/plain": [
       "(0.0, 300.0)"
      ]
     },
     "execution_count": 263,
     "metadata": {},
     "output_type": "execute_result"
    },
    {
     "data": {
      "image/png": "[encoded data removed]",
      "text/plain": [
       "<Figure size 432x288 with 1 Axes>"
      ]
     },
     "metadata": {
      "needs_background": "light"
     },
     "output_type": "display_data"
    }
   ],
   "source": [
    "plt.yscale('log')\n",
    "plt.hist2d(stoch_ar, ratio_ar , bins=(500, 500), cmap=plt.cm.jet)\n",
    "plt.colorbar()\n",
    "plt.xlim(0,300)\n",
    "\n",
    "plt.title('Stochastic and ratio')\n",
    "plt.show()\n",
    "\n",
    "plt.yscale('log')\n",
    "plt.plot(stoch_ar, ratio_ar , '.')\n",
    "plt.xlabel('Stochastic losses (GeV)')\n",
    "plt.ylabel('ratio')\n",
    "plt.xlim(0,300)"
   ]
  },
  {
   "cell_type": "code",
   "execution_count": null,
   "metadata": {},
   "outputs": [],
   "source": []
  },
  {
   "cell_type": "code",
   "execution_count": null,
   "metadata": {},
   "outputs": [],
   "source": []
  },
  {
   "cell_type": "code",
   "execution_count": null,
   "metadata": {},
   "outputs": [],
   "source": []
  },
  {
   "cell_type": "code",
   "execution_count": null,
   "metadata": {},
   "outputs": [],
   "source": []
  },
  {
   "cell_type": "code",
   "execution_count": null,
   "metadata": {},
   "outputs": [],
   "source": []
  },
  {
   "cell_type": "code",
   "execution_count": null,
   "metadata": {},
   "outputs": [],
   "source": []
  },
  {
   "cell_type": "code",
   "execution_count": null,
   "metadata": {},
   "outputs": [],
   "source": []
  },
  {
   "cell_type": "code",
   "execution_count": null,
   "metadata": {},
   "outputs": [],
   "source": []
  },
  {
   "cell_type": "code",
   "execution_count": 25,
   "metadata": {},
   "outputs": [],
   "source": [
    "\n",
    "def inf(num):\n",
    "    infile = dataio.I3File(os.path.join(files_dir,file_list[num]))\n",
    "    frame = infile.pop_physics()   \n",
    "    return frame\n"
   ]
  },
  {
   "cell_type": "code",
   "execution_count": 8,
   "metadata": {},
   "outputs": [
    {
     "name": "stdout",
     "output_type": "stream",
     "text": [
      "[ I3Frame  (Physics):\n",
      "  'AnalysisMuons' [Physics] ==> TreeBase::Tree<I3Particle, I3ParticleID, __gnu_cxx::hash<I3ParticleID> > (174)\n",
      "  'BackgroundCLSim_intermediatePhotons' [DAQ] ==> I3Map<ModuleKey, I3Vector<I3Photon> > (3167)\n",
      "  'BackgroundI3MCPESeriesMap_0.990' [DAQ] ==> I3Map<OMKey, vector<I3MCPE> > (90)\n",
      "  'BackgroundI3MCTree' [DAQ] ==> TreeBase::Tree<I3Particle, I3ParticleID, __gnu_cxx::hash<I3ParticleID> > (1786)\n",
      "  'BackgroundI3MCTree_preMuonProp' [DAQ] ==> TreeBase::Tree<I3Particle, I3ParticleID, __gnu_cxx::hash<I3ParticleID> > (918)\n",
      "  'BackgroundMMCTrackList' [DAQ] ==> I3Vector<I3MMCTrack> (304)\n",
      "  'BeaconLaunches' [DAQ] ==> I3Map<OMKey, vector<I3DOMLaunch> > (46)\n",
      "  'CalibratedWaveformRange' [DAQ] ==> I3TimeWindow (48)\n",
      "  'CascadeFilter_13' [Physics] ==> I3PODHolder<bool> (27)\n",
      "  'CorsikaInteractionHeight' [DAQ] ==> I3PODHolder<double> (36)\n",
      "  'CorsikaWeightMap' [DAQ] ==> I3Map<string, double> (482)\n",
      "  'DCAnalysisHits' [Physics] ==> I3PODHolder<double> (36)\n",
      "  'DCNHits' [Physics] ==> I3PODHolder<double> (36)\n",
      "  'DSTTriggers' [DAQ] ==> I3SuperDSTTriggerSeries (64)\n",
      "  'DebiasingForLineFitNew' [Physics] ==> I3RecoPulseSeriesMapMask (213)\n",
      "  'DeepCoreFilter_13' [Physics] ==> I3PODHolder<bool> (27)\n",
      "  'DeepCoreFilter_TwoLayerExp_13' [Physics] ==> I3PODHolder<bool> (27)\n",
      "  'DeepCoreSMTTriggered' [Physics] ==> I3PODHolder<bool> (27)\n",
      "  'DistAboveEndpoint' [Physics] ==> I3Vector<double> (646)\n",
      "  'DistToBorder' [Physics] ==> I3PODHolder<double> (36)\n",
      "  'EHEFilter_13' [Physics] ==> I3PODHolder<bool> (27)\n",
      "  'EventCharge' [Physics] ==> I3PODHolder<double> (36)\n",
      "  'FSSCandidate_13' [Physics] ==> I3PODHolder<bool> (27)\n",
      "  'FSSFilter_13' [Physics] ==> I3PODHolder<bool> (27)\n",
      "  'FSSFilter_STWC_pulsesTimeRange' [Physics] ==> I3TimeWindow (48)\n",
      "  'FilterMask' [Physics] ==> I3Map<string, I3FilterResult> (891)\n",
      "  'FiniteRecoCutsDOMeff' [Physics] ==> I3FiniteCuts (80)\n",
      "  'FiniteRecoFitDOMeff' [Physics] ==> I3Particle (150)\n",
      "  'FiniteRecoLLHRatio' [Physics] ==> I3PODHolder<double> (36)\n",
      "  'FiniteRecoLlhDOMeff' [Physics] ==> I3StartStopParams (61)\n",
      "  'FiniteReco_FiniteRecoLlhDOMeff_rusage' [Physics] ==> I3RUsage (52)\n",
      "  'FiniteReco_VertexRecoDOMeff_rusage' [Physics] ==> I3RUsage (52)\n",
      "  'FixedRateTriggered' [Physics] ==> I3PODHolder<bool> (27)\n",
      "  'GCFilter_13' [Physics] ==> I3PODHolder<bool> (27)\n",
      "  'HESEFilter_15' [Physics] ==> I3PODHolder<bool> (27)\n",
      "  'HitMultiplicityValues' [Physics] ==> I3HitMultiplicityValues (63)\n",
      "  'HitStatisticsValues' [Physics] ==> I3HitStatisticsValues (155)\n",
      "  'I3EventHeader' [Physics] ==> I3EventHeader (109)\n",
      "  'I3MCPESeriesMap_0.990' [DAQ] ==> I3Map<OMKey, vector<I3MCPE> > (7081)\n",
      "  'I3MCPESeriesMap_0.990WithoutNoise' [DAQ] ==> I3Map<OMKey, vector<I3MCPE> > (3184)\n",
      "  'I3MCPulseSeriesMap' [DAQ] ==> I3Map<OMKey, vector<I3MCPulse> > (5594)\n",
      "  'I3MCPulseSeriesMapParticleIDMap' [DAQ] ==> I3Map<OMKey, map<I3ParticleID, vector<unsigned int, allocator<unsigned int> >, less<I3ParticleID>, allocator<pair<I3ParticleID const, vector<unsigned int, allocator<unsigned int> > > > > > (5521)\n",
      "  'I3MCTree' [DAQ] ==> TreeBase::Tree<I3Particle, I3ParticleID, __gnu_cxx::hash<I3ParticleID> > (6630)\n",
      "  'I3SuperDST' [DAQ] ==> I3SuperDST (469)\n",
      "  'I3TriggerHierarchy' [Physics] ==> I3Tree<I3Trigger> (440)\n",
      "  'I3Triggers' [DAQ] ==> I3Tree<I3Trigger> (230)\n",
      "  'ICAnalysisHits' [Physics] ==> I3PODHolder<double> (36)\n",
      "  'ICNHits' [Physics] ==> I3PODHolder<double> (36)\n",
      "  'IceTopSMTTriggered' [Physics] ==> I3PODHolder<bool> (27)\n",
      "  'IceTopVolumeTriggered' [Physics] ==> I3PODHolder<bool> (27)\n",
      "  'ImpactAngle' [Physics] ==> I3Vector<double> (646)\n",
      "  'InIceDSTPulses' [DAQ] ==> I3RecoPulseSeriesMapMask (416)\n",
      "  'InIcePulses' [DAQ] ==> I3RecoPulseSeriesMapMask (420)\n",
      "  'InIceRawData' [DAQ] ==> I3Map<OMKey, vector<I3DOMLaunch> > (15140)\n",
      "  'InIceSMTTriggered' [Physics] ==> I3PODHolder<bool> (27)\n",
      "  'InIceStringTriggered' [Physics] ==> I3PODHolder<bool> (27)\n",
      "  'L4VetoLayer0' [Physics] ==> I3PODHolder<double> (36)\n",
      "  'L4VetoLayer1' [Physics] ==> I3PODHolder<double> (36)\n",
      "  'L4VetoLayerPulses0' [Physics] ==> I3RecoPulseSeriesMapMask (102)\n",
      "  'L4VetoLayerPulses1' [Physics] ==> I3RecoPulseSeriesMapMask (102)\n",
      "  'L4VetoLayerQTot' [Physics] ==> I3PODHolder<double> (36)\n",
      "  'L4VetoLayerVertexTime' [Physics] ==> I3PODHolder<double> (36)\n",
      "  'LineFitDOMeff' [Physics] ==> I3Particle (150)\n",
      "  'LineFitDOMeffParams' [Physics] ==> I3LineFitParams (71)\n",
      "  'LowUp_13' [Physics] ==> I3PODHolder<bool> (27)\n",
      "  'MESEFilter_15' [Physics] ==> I3PODHolder<bool> (27)\n",
      "  'MMCTrackList' [DAQ] ==> I3Vector<I3MMCTrack> (304)\n",
      "  'MPEFitCramerRaoDOMeffParams' [Physics] ==> CramerRaoParams (135)\n",
      "  'MPEFitDOMeff' [Physics] ==> I3Particle (150)\n",
      "  'MPEFitDOMeffFitParams' [Physics] ==> I3LogLikelihoodFitParams (68)\n",
      "  'MuEx' [Physics] ==> I3Particle (150)\n",
      "  'MuEx_EnUnc' [Physics] ==> I3PODHolder<double> (36)\n",
      "  'MuEx_Sigma' [Physics] ==> I3PODHolder<double> (36)\n",
      "  'MuEx_r' [Physics] ==> I3PODHolder<double> (36)\n",
      "  'MuEx_rlle' [Physics] ==> I3PODHolder<double> (36)\n",
      "  'MuEx_rllt' [Physics] ==> I3PODHolder<double> (36)\n",
      "  'MuonFilter_13' [Physics] ==> I3PODHolder<bool> (27)\n",
      "  'NDirDoms' [Physics] ==> I3PODHolder<double> (36)\n",
      "  'NumVisibleMuons_analysis_region' [Physics] ==> I3PODHolder<double> (36)\n",
      "  'OM' [Physics] ==> I3Vector<double> (646)\n",
      "  'PhotonArrivalAngle' [Physics] ==> I3Vector<double> (646)\n",
      "  'PhysMinBiasTriggered' [Physics] ==> I3PODHolder<bool> (27)\n",
      "  'PoleEHESummaryPulseInfo' [Physics] ==> I3PortiaEvent (172)\n",
      "  'PoleMuonLinefit' [Physics] ==> I3Particle (150)\n",
      "  'PoleMuonLinefitParams' [Physics] ==> I3LineFitParams (71)\n",
      "  'PoleMuonLlhFit' [Physics] ==> I3Particle (150)\n",
      "  'PoleMuonLlhFitDirectHitsBaseA' [Physics] ==> I3DirectHitsValues (126)\n",
      "  'PoleMuonLlhFitDirectHitsBaseB' [Physics] ==> I3DirectHitsValues (126)\n",
      "  'PoleMuonLlhFitDirectHitsBaseC' [Physics] ==> I3DirectHitsValues (126)\n",
      "  'PoleMuonLlhFitDirectHitsBaseD' [Physics] ==> I3DirectHitsValues (126)\n",
      "  'PoleMuonLlhFitFitParams' [Physics] ==> I3LogLikelihoodFitParams (68)\n",
      "  'PoleMuonLlhFitMuE' [Physics] ==> I3Particle (150)\n",
      "  'PoleMuonLlhFit_Finite' [Physics] ==> I3Particle (150)\n",
      "  'PoleMuonLlhFit_FiniteCuts' [Physics] ==> I3FiniteCuts (80)\n",
      "  'PolyplopiaInfo' [DAQ] ==> I3Map<string, double> (69)\n",
      "  'PolyplopiaPrimary' [DAQ] ==> I3Particle (150)\n",
      "  'PrimaryParticle' [DAQ] ==> I3Particle (150)\n",
      "  'RNGState' [DAQ] ==> I3SPRNGRandomServiceState (73)\n",
      "  'RTTWOfflinePulses_FR_WIMP_DOMeff' [Physics] ==> I3RecoPulseSeriesMapMask (335)\n",
      "  'RecoDistance' [Physics] ==> I3Vector<double> (646)\n",
      "  'RecoEndpoint' [Physics] ==> I3Position (54)\n",
      "  'RecoEndpointZ' [Physics] ==> I3PODHolder<double> (36)\n",
      "  'SPEFit2DOMeff' [Physics] ==> I3Particle (150)\n",
      "  'SPEFit2DOMeffFitParams' [Physics] ==> I3LogLikelihoodFitParams (68)\n",
      "  'SPEFitSingleDOMeff' [Physics] ==> I3Particle (150)\n",
      "  'SPEFitSingleDOMeffFitParams' [Physics] ==> I3LogLikelihoodFitParams (68)\n",
      "  'SRTInIcePulsesDOMeff' [Physics] ==> I3RecoPulseSeriesMapMask (290)\n",
      "  'ScintMinBiasTriggered' [Physics] ==> I3PODHolder<bool> (27)\n",
      "  'SignalCLSim_intermediatePhotons' [DAQ] ==> I3Map<ModuleKey, I3Vector<I3Photon> > (82751)\n",
      "  'SignalI3MCPESeriesMap_0.990' [DAQ] ==> I3Map<OMKey, vector<I3MCPE> > (3143)\n",
      "  'SlowParticleTriggered' [Physics] ==> I3PODHolder<bool> (27)\n",
      "  'SplineMPE' [Physics] ==> I3Particle (150)\n",
      "  'SplineMPEDirectHitsA' [Physics] ==> I3DirectHitsValues (126)\n",
      "  'SplineMPEDirectHitsB' [Physics] ==> I3DirectHitsValues (126)\n",
      "  'SplineMPEDirectHitsC' [Physics] ==> I3DirectHitsValues (126)\n",
      "  'SplineMPEDirectHitsD' [Physics] ==> I3DirectHitsValues (126)\n",
      "  'SplineMPEFitParams' [Physics] ==> I3LogLikelihoodFitParams (68)\n",
      "  'SplitInIceDSTPulses' [Physics] ==> I3RecoPulseSeriesMapMask (420)\n",
      "  'SplitInIcePulses' [Physics] ==> I3RecoPulseSeriesMapMask (425)\n",
      "  'SplitUncleanedInIcePulsesHLC_NoDC' [Physics] ==> I3RecoPulseSeriesMapMask (158)\n",
      "  'String' [Physics] ==> I3Vector<double> (646)\n",
      "  'TWOfflinePulses_FR_WIMP_DOMeff' [Physics] ==> I3RecoPulseSeriesMapMask (382)\n",
      "  'TWOfflinePulses_FR_WIMP_DOMeffTimeRange' [Physics] ==> I3TimeWindow (48)\n",
      "  'TimeShift' [DAQ] ==> I3PODHolder<double> (36)\n",
      "  'TotalCharge' [Physics] ==> I3Vector<double> (646)\n",
      "  'TriggerSplitterLaunchWindow' [Physics] ==> I3TimeWindow (48)\n",
      "  'TruthDistance' [Physics] ==> I3Vector<double> (646)\n",
      "  'TruthEndpoint' [Physics] ==> I3Position (54)\n",
      "  'TruthEnergy' [Physics] ==> I3PODHolder<double> (36)\n",
      "  'TruthMuon' [Physics] ==> I3Particle (150)\n",
      "  'VEF_13' [Physics] ==> I3PODHolder<bool> (27)\n",
      "  'VolumeTrigTriggered' [Physics] ==> I3PODHolder<bool> (27)\n",
      "  'rlogl' [Physics] ==> I3PODHolder<double> (36)\n",
      "]\n",
      "\n"
     ]
    }
   ],
   "source": [
    "print(inf(0))\n"
   ]
  },
  {
   "cell_type": "code",
   "execution_count": 9,
   "metadata": {},
   "outputs": [],
   "source": [
    "pulses = inf(0)['SRTInIcePulsesDOMeff'].apply(inf(0))\n",
    "one_dom = pulses.items()"
   ]
  },
  {
   "cell_type": "code",
   "execution_count": 16,
   "metadata": {},
   "outputs": [
    {
     "name": "stdout",
     "output_type": "stream",
     "text": [
      "13869.0\n",
      "12625.0\n",
      "12789.0\n",
      "12678.0\n",
      "11780.0\n",
      "12053.0\n",
      "12582.0\n",
      "12173.0\n",
      "12146.0\n",
      "12162.0\n",
      "9890.0\n",
      "10843.0\n",
      "9958.0\n",
      "10183.0\n",
      "9984.0\n",
      "10004.0\n",
      "10050.0\n",
      "10090.0\n",
      "[13869.0, 12625.0, 12789.0, 12678.0, 11780.0, 12053.0, 12582.0, 12173.0, 12146.0, 12162.0, 9890.0, 10843.0, 9958.0, 10183.0, 9984.0, 10090.0]\n"
     ]
    }
   ],
   "source": [
    "charge = []\n",
    "tim = []\n",
    "for i in range(16):  #Sasha: I have 16 here, because it is the first time when we met this \"triplet\" \n",
    "    \n",
    "    \n",
    "    for pulse in one_dom[i][1]:\n",
    "        char = 0\n",
    "        char += pulse.charge\n",
    "        time = 0\n",
    "        time += pulse.time\n",
    "        if len(pulse.time) > 1:\n",
    "            return \n",
    "        print(time) #Sasha: there are three last values of charge\n",
    "    charge.append(char)#Sasha: they do not write down in this array, only one of them is written.\n",
    "    tim.append(time)  \n",
    "        \n",
    "print(tim)\n",
    "#Sasha: but in the next cell I consider them as a sum, I mean I will have not 1.17, 0.925, 1.225 separately, but their sum"
   ]
  },
  {
   "cell_type": "code",
   "execution_count": null,
   "metadata": {},
   "outputs": [],
   "source": [
    "charge = []\n",
    "for i in range(len(one_dom)):  \n",
    "    char = 0\n",
    "    for pulse in one_dom[i][1]:\n",
    "        char += pulse.charge\n",
    "        \n",
    "        \n",
    "    charge.append(char)\n",
    "        \n",
    "print(charge)"
   ]
  },
  {
   "cell_type": "code",
   "execution_count": 466,
   "metadata": {},
   "outputs": [
    {
     "name": "stdout",
     "output_type": "stream",
     "text": [
      "[ I3Frame  (Geometry):\n",
      "  'I3Geometry' [Geometry] ==> I3Geometry (641528)\n",
      "]\n",
      "\n"
     ]
    }
   ],
   "source": [
    "gcd_file = '/cvmfs/icecube.opensciencegrid.org/data/GCD/GeoCalibDetectorStatus_IC86_Merged.i3.gz'\n",
    "\n",
    "gfile = dataio.I3File(gcd_file)\n",
    "gframe = gfile.pop_frame()\n",
    "print(gframe)\n",
    "geometry = gframe['I3Geometry']"
   ]
  },
  {
   "cell_type": "code",
   "execution_count": 467,
   "metadata": {},
   "outputs": [
    {
     "name": "stdout",
     "output_type": "stream",
     "text": [
      "51\n"
     ]
    }
   ],
   "source": [
    "mydom = []\n",
    "for i in range(len(one_dom)):\n",
    "    dom = geometry.omgeo[one_dom[i][0]]    \n",
    "    mydom.append(dom)  \n",
    "    \n",
    "print(len(mydom))\n",
    "#print(mydom[0])\n"
   ]
  },
  {
   "cell_type": "code",
   "execution_count": 478,
   "metadata": {},
   "outputs": [
    {
     "name": "stdout",
     "output_type": "stream",
     "text": [
      "[ I3Particle MajorID : 13469127016857373990\n",
      "             MinorID : 846\n",
      "              Zenith : 0.400847\n",
      "             Azimuth : 1.80333\n",
      "                   X : -227.484\n",
      "                   Y : 1017.22\n",
      "                   Z : 1949.99\n",
      "                Time : 3536.68\n",
      "              Energy : 1054.01\n",
      "               Speed : 0.299792\n",
      "              Length : 3125.59\n",
      "                Type : MuPlus\n",
      "        PDG encoding : -13\n",
      "               Shape : StartingTrack\n",
      "              Status : NotSet\n",
      "            Location : InIce\n",
      "]\n"
     ]
    }
   ],
   "source": [
    "mmctracks = inf(0)['MMCTrackList']\n",
    "track = mmctracks[0].particle\n",
    "print(track)\n"
   ]
  },
  {
   "cell_type": "code",
   "execution_count": 482,
   "metadata": {},
   "outputs": [
    {
     "name": "stdout",
     "output_type": "stream",
     "text": [
      "51\n"
     ]
    }
   ],
   "source": [
    "distance = []\n",
    "for i in range(len(mydom)):\n",
    "    d = phys_services.I3Calculator.cherenkov_distance(track, mydom[i].position)\n",
    "    distance.append(d)\n",
    "print(len(distance))"
   ]
  },
  {
   "cell_type": "code",
   "execution_count": 488,
   "metadata": {},
   "outputs": [],
   "source": [
    "corrected_charge = []\n",
    "for i in range(len(distance)):\n",
    "# This is for adding also the attenuation (absorption + scattering)\n",
    "    att_length = 50. # Typical attenuation length in icecube\n",
    "    corrected = charge[i]*distance[i]#*np.exp(distance/att_length)\n",
    "    corrected_charge.append(corrected)"
   ]
  },
  {
   "cell_type": "code",
   "execution_count": 490,
   "metadata": {},
   "outputs": [
    {
     "name": "stdout",
     "output_type": "stream",
     "text": [
      "51\n",
      "[222.0763055078901, 167.65234550125294, 90.87879437146664, 70.22624541320249, 32.3280058807941, 87.84635247531457, 58.48567357188964, 43.853323474581885, 199.65093749494238, 205.83572456677518, 101.78875708003031, 20.087685112520425, 56.326474720920636, 63.917247745306305, 30.530444785473144, 91.92426364795048, 14.230792672602277, 84.02980064662638, 145.34649795757636, 111.39816999261477, 420.42546298068703, 200.25207647815236, 175.6844459128978, 94.48273255331011, 161.179778497579, 140.79109625569555, 110.38414462387806, 80.54971137983249, 79.88749828800925, 48.8141967257675, 155.96482979729348, 45.35664547689054, 75.50349198575303, 351.0134498294823, 153.79620421796307, 200.1332633587479, 269.3021013764831, 134.78485505776138, 48.89932423766513, 115.99762021723895, 98.24075255388614, 101.74091060807486, 63.26580603753744, 63.48418668450139, 23.245831617524548, 39.831076130185615, 110.32993059738524, 35.376758412388426, 106.06636885481633, 128.34913355697762, 118.64307049674646]\n"
     ]
    }
   ],
   "source": [
    "print(len(corrected_charge))\n",
    "print(corrected_charge)"
   ]
  },
  {
   "cell_type": "code",
   "execution_count": 36,
   "metadata": {},
   "outputs": [],
   "source": [
    "# Try to put it inside a function so that you can pass the puse series to the function, \n",
    "# and obtain a list of corrected charges\n",
    "# Consider looking only at DOMs \"nearby\" (within a maximum distance of 150-200m, no further)"
   ]
  },
  {
   "cell_type": "code",
   "execution_count": 37,
   "metadata": {},
   "outputs": [
    {
     "data": {
      "text/plain": [
       "<function phys-services.I3Calculator.closest_approach_distance>"
      ]
     },
     "execution_count": 37,
     "metadata": {},
     "output_type": "execute_result"
    }
   ],
   "source": [
    "phys_services.I3Calculator.closest_approach_distance"
   ]
  },
  {
   "cell_type": "code",
   "execution_count": 70,
   "metadata": {},
   "outputs": [],
   "source": [
    "\n"
   ]
  },
  {
   "cell_type": "code",
   "execution_count": 247,
   "metadata": {},
   "outputs": [],
   "source": [
    " "
   ]
  },
  {
   "cell_type": "code",
   "execution_count": null,
   "metadata": {},
   "outputs": [],
   "source": []
  },
  {
   "cell_type": "code",
   "execution_count": 147,
   "metadata": {},
   "outputs": [
    {
     "name": "stdout",
     "output_type": "stream",
     "text": [
      "88\n",
      "88\n"
     ]
    }
   ],
   "source": [
    "nfiles = 2\n",
    "\n",
    "char = []\n",
    "\n",
    "for i in range(nfiles):\n",
    "    with dataio.I3File(os.path.join(files_dir, file_list[i])) as infile:\n",
    "        for frame in infile:  \n",
    "            frame = infile.pop_physics()             \n",
    "            fr.append(frame)\n",
    "            pulses = frame['SRTInIcePulsesDOMeff'].apply(frame)\n",
    "        \n",
    "print(len(pulses))\n",
    "#print(pulses)\n",
    "zero = []\n",
    "one = []\n",
    "\n",
    "\n",
    "for i in range(len(pulses)):\n",
    "    one_dom = pulses.popitem()\n",
    "   \n",
    "    charge = 0\n",
    "    for pulse in one_dom[1]:\n",
    "        charge += pulse.charge\n",
    "    #print(charge)\n",
    "    char.append(charge)\n",
    "    zero.append(one_dom[0])\n",
    "    one.append(one_dom[1])\n",
    "    #print(one_dom[0])\n",
    "    \n",
    "print(len(char))\n",
    "#print(char)\n",
    "#print(zero)"
   ]
  },
  {
   "cell_type": "code",
   "execution_count": 148,
   "metadata": {},
   "outputs": [
    {
     "name": "stdout",
     "output_type": "stream",
     "text": [
      "88\n",
      "2588\n",
      "88\n"
     ]
    }
   ],
   "source": [
    "gcd_file = '/cvmfs/icecube.opensciencegrid.org/data/GCD/GeoCalibDetectorStatus_IC86_Merged.i3.gz'\n",
    "\n",
    "gfile = dataio.I3File(gcd_file)\n",
    "\n",
    "dom=[]\n",
    "tr=[]\n",
    "dist = []\n",
    "\n",
    "\n",
    "for i in range(nfiles):\n",
    "    with dataio.I3File(os.path.join(files_dir, file_list[i])) as infile:\n",
    "        for frame in infile:  \n",
    "            frame = infile.pop_physics()             \n",
    "            fr.append(frame)\n",
    "        \n",
    "            mmctracks = frame['MMCTrackList']\n",
    "            track = mmctracks[0].particle\n",
    "            tr.append(track)\n",
    "        \n",
    "        gframe = gfile.pop_frame()    \n",
    "        geometry = gframe['I3Geometry']\n",
    "\n",
    "for j in range(len(zero)):\n",
    "    mydom = geometry.omgeo[zero[j]]\n",
    "    dom.append(mydom)\n",
    "           \n",
    "    distance = phys_services.I3Calculator.cherenkov_distance(track, mydom.position)\n",
    "    dist.append(distance)\n",
    "        \n",
    "print(len(dist))    \n",
    "print(len(tr))\n",
    "print(len(dom))"
   ]
  },
  {
   "cell_type": "code",
   "execution_count": 173,
   "metadata": {},
   "outputs": [
    {
     "data": {
      "text/plain": [
       "50"
      ]
     },
     "execution_count": 173,
     "metadata": {},
     "output_type": "execute_result"
    }
   ],
   "source": [
    "def cor_char(char, dist):\n",
    "\n",
    "  corrected_charge = char * dist\n",
    "  return corrected_charge\n",
    "\n",
    "cor_char(5,10)"
   ]
  },
  {
   "cell_type": "code",
   "execution_count": 172,
   "metadata": {},
   "outputs": [
    {
     "data": {
      "text/plain": [
       "50"
      ]
     },
     "execution_count": 172,
     "metadata": {},
     "output_type": "execute_result"
    }
   ],
   "source": []
  },
  {
   "cell_type": "code",
   "execution_count": 58,
   "metadata": {},
   "outputs": [],
   "source": [
    "list_of_char = []\n",
    "\n",
    "for charge in range(2):\n",
    "    for distance in range(2):\n",
    "        list_of_char.append(cor_char(charge,distance))"
   ]
  },
  {
   "cell_type": "code",
   "execution_count": null,
   "metadata": {},
   "outputs": [],
   "source": []
  },
  {
   "cell_type": "code",
   "execution_count": 59,
   "metadata": {},
   "outputs": [
    {
     "name": "stdout",
     "output_type": "stream",
     "text": [
      "[0, 0, 0, 1]\n"
     ]
    }
   ],
   "source": [
    "print(list_of_char)"
   ]
  },
  {
   "cell_type": "code",
   "execution_count": null,
   "metadata": {},
   "outputs": [],
   "source": [
    "\n",
    "\n",
    "\n",
    "\n",
    "\n",
    "\n",
    "\n",
    "pulses = frame['SRTInIcePulsesDOMeff'].apply(frame)\n",
    "one_dom = pulses.items()\n",
    "            \n",
    "\n",
    "\n",
    "charge = []\n",
    "times = []\n",
    "min_time_ar = []\n",
    "for i in range(4):\n",
    "    Omkey= one_dom[i][0]\n",
    "    and_time = one_dom[i][1]\n",
    "    print(Omkey,and_time)\n",
    "\n",
    "    value = []\n",
    "    for pulse in one_dom[i][1]:\n",
    "        time_pulse = 0\n",
    "        time_pulse += pulse.time\n",
    "        value.append(time_pulse)\n",
    "        times.append(time_pulse)\n",
    "        \n",
    "        char += pulse.charge     \n",
    "        if char > 0:\n",
    "            charge.append(char)\n",
    "    \n",
    "\n",
    "min_time_ar.append(min(value))\n",
    "\n",
    "print(value)\n",
    "print(min_time_ar)\n",
    "print(times)\n",
    "print(len(value))\n",
    "print(len(times))\n",
    " \n",
    "    \n",
    "for i in range(len(value)-1):\n",
    "    print(times[len(times) - i - 1])\n",
    "    if times[len(times) - i - 1] != min_time_ar: del times[len(times) - i - 1]\n",
    "print(times)\n",
    "\n",
    "print(len(one_dom)) \n",
    "\n",
    "\n",
    "\n",
    "\n"
   ]
  }
 ],
 "metadata": {
  "kernelspec": {
   "display_name": "Python 3",
   "language": "python",
   "name": "python3"
  },
  "language_info": {
   "codemirror_mode": {
    "name": "ipython",
    "version": 3
   },
   "file_extension": ".py",
   "mimetype": "text/x-python",
   "name": "python",
   "nbconvert_exporter": "python",
   "pygments_lexer": "ipython3",
   "version": "3.7.5"
  }
 },
 "nbformat": 4,
 "nbformat_minor": 2
}
