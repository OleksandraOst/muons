{
 "cells": [
  {
   "cell_type": "code",
   "execution_count": 143,
   "metadata": {},
   "outputs": [],
   "source": [
    "from icecube import icetray, dataio, dataclasses, simclasses, phys_services\n",
    "import os, sys\n",
    "import numpy as np\n",
    "import matplotlib as mpl\n",
    "from matplotlib.colors import LogNorm, Normalize\n",
    "import matplotlib.pyplot as plt\n",
    "import timeit as time\n",
    "import math\n",
    "from datetime import datetime"
   ]
  },
  {
   "cell_type": "code",
   "execution_count": 144,
   "metadata": {},
   "outputs": [],
   "source": [
    "plt.rcParams.update({'font.size': 20})\n",
    "mpl.rcParams['mathtext.fontset'] = 'custom'\n",
    "mpl.rcParams['mathtext.rm'] = 'Bitstream Vera Sans'\n",
    "mpl.rcParams['mathtext.it'] = 'Bitstream Vera Sans:italic'\n",
    "mpl.rcParams['mathtext.bf'] = 'Bitstream Vera Sans:bold'\n",
    "\n",
    "mpl.rcParams['hist.bins'] = 100\n",
    "mpl.rcParams['lines.linewidth'] = 2.5\n",
    "mpl.rcParams['patch.linewidth'] = 2.5\n",
    "mpl.rcParams['grid.alpha'] = 0.2"
   ]
  },
  {
   "cell_type": "code",
   "execution_count": 145,
   "metadata": {},
   "outputs": [],
   "source": [
    "frame_arr = []; mctree = []\n",
    "track_list = []\n",
    "\n",
    "for i in range(83, 84):\n",
    "    files_dir = '/data/icecube/domeff_analysis/reco_sim_nominal/0000000-0000999/' + str(i) + '.i3.bz2' # path to i3 file\n",
    "    with dataio.I3File('/data/icecube/domeff_analysis/reco_sim_nominal/0000000-0000999/'+ str(i) + '.i3.bz2') as infile:\n",
    "        for frame in infile:\n",
    "            if infile.stream.id != 'P': continue\n",
    "            frame_arr.append(frame)\n",
    "            mctree.append(frame['I3MCTree']) \n",
    "            "
   ]
  },
  {
   "cell_type": "code",
   "execution_count": 146,
   "metadata": {},
   "outputs": [],
   "source": [
    "#mctree_arr = np.array(mctree_arr)\n",
    "#mmc_Ei = []\n",
    "#for frame in frame_arr:\n",
    "#    for i in range(len(frame['MMCTrackList'])):\n",
    "#        mmc_tr = frame['MMCTrackList'][i]\n",
    "#        mmc_Ei.append(mmc_tr.Ei/icetray.I3Units.GeV)\n",
    "#\n",
    "#mmc_Ei = np.array(mmc_Ei)\n",
    "#print(mmc_Ei)"
   ]
  },
  {
   "cell_type": "code",
   "execution_count": 147,
   "metadata": {},
   "outputs": [
    {
     "name": "stdout",
     "output_type": "stream",
     "text": [
      "Injection point of the first muon in file 83 [-227.48417893 1017.21534929 1949.99477481]\n",
      "Length that the first muon in file 83 traveled in total 3125.5943701684264\n",
      "Point where it enters the 800m volume [-115.17625567  542.97290035  800.        ]\n",
      "Distance from injection to 800m volume 1249.0023827390578\n",
      "Ionization losses 417.0204416509708\n"
     ]
    }
   ],
   "source": [
    "#print(mctree)\n",
    "muons_pos = []\n",
    "muons_length = []\n",
    "entering_large_cylinder = []\n",
    "d_injection_cylinder = []\n",
    "d_inside = []\n",
    "e_ion = []\n",
    "daughters = []\n",
    "\n",
    "\n",
    "for frame in frame_arr:\n",
    "    for i in range(len(frame['MMCTrackList'])):\n",
    "        mmc_tr = frame['MMCTrackList'][i]\n",
    "        mctree = frame['I3MCTree']\n",
    "        \n",
    "        muons_pos.append(mmc_tr.particle.pos)\n",
    "        muons_length.append(mmc_tr.particle.length)\n",
    "        entering_large_cylinder.append(dataclasses.I3Position(mmc_tr.xi, mmc_tr.yi, mmc_tr.zi))\n",
    "        d_injection_cylinder.append((mmc_tr.particle.pos - dataclasses.I3Position(mmc_tr.xi, mmc_tr.yi, mmc_tr.zi)).magnitude)\n",
    "        d_inside.append(mmc_tr.particle.length - (mmc_tr.particle.pos - dataclasses.I3Position(mmc_tr.xi, mmc_tr.yi, mmc_tr.zi)).magnitude)\n",
    "        e_ion.append((1/4.5)*(mmc_tr.particle.length - (mmc_tr.particle.pos - dataclasses.I3Position(mmc_tr.xi, mmc_tr.yi, mmc_tr.zi)).magnitude))\n",
    "        daughters=(mctree.get_daughters(mmc_tr.particle))\n",
    "        \n",
    "        \n",
    "        \n",
    "            \n",
    "muons_pos = np.array(muons_pos)\n",
    "muons_lenght = np.array(muons_length)\n",
    "entering_large_cylinder = np.array(entering_large_cylinder)\n",
    "d_injection_cylinder = np.array(d_injection_cylinder)\n",
    "e_ion = np.array(e_ion)\n",
    "daughters = np.array(daughters)\n",
    "\n",
    "\n",
    "\n",
    "print('Injection point of the first muon in file 83', muons_pos[0])\n",
    "print('Length that the first muon in file 83 traveled in total', muons_length[0])\n",
    "print('Point where it enters the 800m volume', entering_large_cylinder[0])\n",
    "print('Distance from injection to 800m volume', d_injection_cylinder[0])\n",
    "print('Ionization losses', e_ion[0])\n",
    "#print(daughters)"
   ]
  },
  {
   "cell_type": "code",
   "execution_count": 148,
   "metadata": {},
   "outputs": [
    {
     "name": "stdout",
     "output_type": "stream",
     "text": [
      "Stochastic losses 35.82414376918573\n"
     ]
    }
   ],
   "source": [
    "\n",
    "\n",
    "for frame in frame_arr: \n",
    "    for i in range(len(frame['MMCTrackList'])):\n",
    "        mmc_tr = frame['MMCTrackList'][i]                              \n",
    "        mctree = frame['I3MCTree']\n",
    "        daughters = mctree.get_daughters(mmc_tr.particle)\n",
    "\n",
    "\n",
    "        e_stochastic = 0\n",
    "        for d in daughters:\n",
    "            \n",
    "            e_stochastic += d.energy\n",
    "print('Stochastic losses',e_stochastic)\n",
    "\n"
   ]
  },
  {
   "cell_type": "code",
   "execution_count": 257,
   "metadata": {},
   "outputs": [
    {
     "name": "stdout",
     "output_type": "stream",
     "text": [
      "(2631,)\n"
     ]
    },
    {
     "ename": "AttributeError",
     "evalue": "'I3MMCTrackList' object has no attribute 'particle'",
     "output_type": "error",
     "traceback": [
      "\u001b[0;31m---------------------------------------------------------------------------\u001b[0m",
      "\u001b[0;31mAttributeError\u001b[0m                            Traceback (most recent call last)",
      "\u001b[0;32m<ipython-input-257-5ea9dd724795>\u001b[0m in \u001b[0;36m<module>\u001b[0;34m\u001b[0m\n\u001b[1;32m      4\u001b[0m \u001b[0;32mfor\u001b[0m \u001b[0mi\u001b[0m \u001b[0;32min\u001b[0m \u001b[0mrange\u001b[0m\u001b[0;34m(\u001b[0m\u001b[0mlen\u001b[0m\u001b[0;34m(\u001b[0m\u001b[0mtrack_list\u001b[0m\u001b[0;34m)\u001b[0m\u001b[0;34m)\u001b[0m\u001b[0;34m:\u001b[0m\u001b[0;34m\u001b[0m\u001b[0;34m\u001b[0m\u001b[0m\n\u001b[1;32m      5\u001b[0m     \u001b[0mmuon_track\u001b[0m\u001b[0;34m.\u001b[0m\u001b[0mappend\u001b[0m\u001b[0;34m(\u001b[0m\u001b[0mtrack_list\u001b[0m\u001b[0;34m[\u001b[0m\u001b[0mi\u001b[0m\u001b[0;34m]\u001b[0m\u001b[0;34m)\u001b[0m\u001b[0;34m\u001b[0m\u001b[0;34m\u001b[0m\u001b[0m\n\u001b[0;32m----> 6\u001b[0;31m     \u001b[0mprint\u001b[0m\u001b[0;34m(\u001b[0m\u001b[0;34m[\u001b[0m\u001b[0mi\u001b[0m\u001b[0;34m]\u001b[0m\u001b[0;34m,\u001b[0m\u001b[0;34m'Injection point of the muon'\u001b[0m\u001b[0;34m,\u001b[0m \u001b[0mmuon_track\u001b[0m\u001b[0;34m[\u001b[0m\u001b[0mi\u001b[0m\u001b[0;34m]\u001b[0m\u001b[0;34m.\u001b[0m\u001b[0mparticle\u001b[0m\u001b[0;34m.\u001b[0m\u001b[0mpos\u001b[0m\u001b[0;34m)\u001b[0m\u001b[0;34m\u001b[0m\u001b[0;34m\u001b[0m\u001b[0m\n\u001b[0m\u001b[1;32m      7\u001b[0m     \u001b[0mprint\u001b[0m\u001b[0;34m(\u001b[0m\u001b[0;34m'Length that the muon traveled in total'\u001b[0m\u001b[0;34m,\u001b[0m \u001b[0mmuon_track\u001b[0m\u001b[0;34m[\u001b[0m\u001b[0mi\u001b[0m\u001b[0;34m]\u001b[0m\u001b[0;34m.\u001b[0m\u001b[0mparticle\u001b[0m\u001b[0;34m.\u001b[0m\u001b[0mlength\u001b[0m\u001b[0;34m)\u001b[0m\u001b[0;34m\u001b[0m\u001b[0;34m\u001b[0m\u001b[0m\n\u001b[1;32m      8\u001b[0m     \u001b[0;31m# Let's calculate the distance the muon traveled *inside the 800m volume*\u001b[0m\u001b[0;34m\u001b[0m\u001b[0;34m\u001b[0m\u001b[0;34m\u001b[0m\u001b[0m\n",
      "\u001b[0;31mAttributeError\u001b[0m: 'I3MMCTrackList' object has no attribute 'particle'"
     ]
    }
   ],
   "source": [
    "muon_track = []\n",
    "print(np.shape(track_list))\n",
    "\n",
    "for i in range(len(track_list)):\n",
    "    muon_track.append(track_list[i])\n",
    "    print([i],'Injection point of the muon', muon_track[i].particle.pos)\n",
    "    print('Length that the muon traveled in total', muon_track[i].particle.length)\n",
    "    # Let's calculate the distance the muon traveled *inside the 800m volume*\n",
    "    entering_large_cylinder = dataclasses.I3Position(muon_track[i].xi, muon_track[i].yi, muon_track[i].zi)\n",
    "    print('Point where it enters the 800m volume', entering_large_cylinder)\n",
    "    d_injection_cylinder = (muon_track[i].particle.pos - entering_large_cylinder).magnitude\n",
    "    print('Distance from injection to 800m volume', d_injection_cylinder)\n",
    "    d_inside = muon_track[i].particle.length - d_injection_cylinder\n",
    "\n",
    "    # Ionization energy loss\n",
    "    econstant = 1/4.5 # GeV/m\n",
    "    e_ion = econstant*d_inside\n",
    "    print('Ionization losses', e_ion)\n",
    "\n",
    "    # Sum all the stochastics\n",
    "    daughters = mctree.get_daughters(muon_track[i].particle)\n",
    "    e_stochastic = 0\n",
    "    for d in daughters:\n",
    "        e_stochastic += d.energy\n",
    "\n",
    "    print('Stochastic losses', e_stochastic)\n",
    "    print('Total E lost inside volume', e_stochastic+e_ion)\n",
    "    print('Energy available upon entering volume', muon_track[i].Ei)\n",
    "    \n",
    "    print('Entrance point of the particle (x,y,z)', dataclasses.I3Position(muon_track[i].xi, muon_track[i].yi, muon_track[i].zi))\n",
    "    print('Length that the muon traveled in 800 (Length)', d_inside)\n",
    "\n",
    "    daughters = mctree.get_daughters(muon_track[i].particle)\n",
    "\n",
    "\n",
    "    e_stochastic = 0\n",
    "    for d in daughters:\n",
    "        position=d.pos\n",
    "        if np.sqrt((position.x)**2 + (position.y)**2) <= 500.0 and  position.z>=-500.0 and position.z <= 500.0:\n",
    "            e_stochastic += d.energy\n",
    "    print('Stochastic losses in 500m',e_stochastic)\n"
   ]
  },
  {
   "cell_type": "code",
   "execution_count": null,
   "metadata": {},
   "outputs": [],
   "source": []
  },
  {
   "cell_type": "code",
   "execution_count": null,
   "metadata": {},
   "outputs": [],
   "source": []
  }
 ],
 "metadata": {
  "kernelspec": {
   "display_name": "Python 3",
   "language": "python",
   "name": "python3"
  },
  "language_info": {
   "codemirror_mode": {
    "name": "ipython",
    "version": 3
   },
   "file_extension": ".py",
   "mimetype": "text/x-python",
   "name": "python",
   "nbconvert_exporter": "python",
   "pygments_lexer": "ipython3",
   "version": "3.7.5"
  }
 },
 "nbformat": 4,
 "nbformat_minor": 4
}
