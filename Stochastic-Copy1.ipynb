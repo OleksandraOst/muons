{
 "cells": [
  {
   "cell_type": "code",
   "execution_count": 249,
   "metadata": {},
   "outputs": [],
   "source": [
    "from icecube import dataio, dataclasses, simclasses, phys_services\n",
    "import os, sys\n",
    "import numpy as np\n",
    "import matplotlib as mpl\n",
    "from matplotlib.colors import LogNorm, Normalize\n",
    "import matplotlib.pyplot as plt\n",
    "import timeit as time\n",
    "import math\n",
    "from datetime import datetime"
   ]
  },
  {
   "cell_type": "code",
   "execution_count": 250,
   "metadata": {},
   "outputs": [],
   "source": [
    "plt.rcParams.update({'font.size': 20})\n",
    "mpl.rcParams['mathtext.fontset'] = 'custom'\n",
    "mpl.rcParams['mathtext.rm'] = 'Bitstream Vera Sans'\n",
    "mpl.rcParams['mathtext.it'] = 'Bitstream Vera Sans:italic'\n",
    "mpl.rcParams['mathtext.bf'] = 'Bitstream Vera Sans:bold'\n",
    "\n",
    "mpl.rcParams['hist.bins'] = 100\n",
    "mpl.rcParams['lines.linewidth'] = 2.5\n",
    "mpl.rcParams['patch.linewidth'] = 2.5\n",
    "mpl.rcParams['grid.alpha'] = 0.2"
   ]
  },
  {
   "cell_type": "code",
   "execution_count": 251,
   "metadata": {},
   "outputs": [
    {
     "name": "stdout",
     "output_type": "stream",
     "text": [
      "/data/icecube/domeff_analysis/reco_sim_nominal/0000000-0000999/83.i3.bz2\n"
     ]
    }
   ],
   "source": [
    "files_dir = '/data/icecube/domeff_analysis/reco_sim_nominal/0000000-0000999'\n",
    "file_list = os.listdir(files_dir)\n",
    "infile_name = os.path.join(files_dir, file_list[0])\n",
    "print(infile_name)"
   ]
  },
  {
   "cell_type": "code",
   "execution_count": 111,
   "metadata": {},
   "outputs": [
    {
     "name": "stdout",
     "output_type": "stream",
     "text": [
      "[ I3Frame  (Physics):\n",
      "  'AnalysisMuons' [Physics] ==> TreeBase::Tree<I3Particle, I3ParticleID, __gnu_cxx::hash<I3ParticleID> > (174)\n",
      "  'BackgroundCLSim_intermediatePhotons' [DAQ] ==> I3Map<ModuleKey, I3Vector<I3Photon> > (3167)\n",
      "  'BackgroundI3MCPESeriesMap_0.990' [DAQ] ==> I3Map<OMKey, vector<I3MCPE> > (90)\n",
      "  'BackgroundI3MCTree' [DAQ] ==> TreeBase::Tree<I3Particle, I3ParticleID, __gnu_cxx::hash<I3ParticleID> > (1786)\n",
      "  'BackgroundI3MCTree_preMuonProp' [DAQ] ==> TreeBase::Tree<I3Particle, I3ParticleID, __gnu_cxx::hash<I3ParticleID> > (918)\n",
      "  'BackgroundMMCTrackList' [DAQ] ==> I3Vector<I3MMCTrack> (304)\n",
      "  'BeaconLaunches' [DAQ] ==> I3Map<OMKey, vector<I3DOMLaunch> > (46)\n",
      "  'CalibratedWaveformRange' [DAQ] ==> I3TimeWindow (48)\n",
      "  'CascadeFilter_13' [Physics] ==> I3PODHolder<bool> (27)\n",
      "  'CorsikaInteractionHeight' [DAQ] ==> I3PODHolder<double> (36)\n",
      "  'CorsikaWeightMap' [DAQ] ==> I3Map<string, double> (482)\n",
      "  'DCAnalysisHits' [Physics] ==> I3PODHolder<double> (36)\n",
      "  'DCNHits' [Physics] ==> I3PODHolder<double> (36)\n",
      "  'DSTTriggers' [DAQ] ==> I3SuperDSTTriggerSeries (64)\n",
      "  'DebiasingForLineFitNew' [Physics] ==> I3RecoPulseSeriesMapMask (213)\n",
      "  'DeepCoreFilter_13' [Physics] ==> I3PODHolder<bool> (27)\n",
      "  'DeepCoreFilter_TwoLayerExp_13' [Physics] ==> I3PODHolder<bool> (27)\n",
      "  'DeepCoreSMTTriggered' [Physics] ==> I3PODHolder<bool> (27)\n",
      "  'DistAboveEndpoint' [Physics] ==> I3Vector<double> (646)\n",
      "  'DistToBorder' [Physics] ==> I3PODHolder<double> (36)\n",
      "  'EHEFilter_13' [Physics] ==> I3PODHolder<bool> (27)\n",
      "  'EventCharge' [Physics] ==> I3PODHolder<double> (36)\n",
      "  'FSSCandidate_13' [Physics] ==> I3PODHolder<bool> (27)\n",
      "  'FSSFilter_13' [Physics] ==> I3PODHolder<bool> (27)\n",
      "  'FSSFilter_STWC_pulsesTimeRange' [Physics] ==> I3TimeWindow (48)\n",
      "  'FilterMask' [Physics] ==> I3Map<string, I3FilterResult> (891)\n",
      "  'FiniteRecoCutsDOMeff' [Physics] ==> I3FiniteCuts (80)\n",
      "  'FiniteRecoFitDOMeff' [Physics] ==> I3Particle (150)\n",
      "  'FiniteRecoLLHRatio' [Physics] ==> I3PODHolder<double> (36)\n",
      "  'FiniteRecoLlhDOMeff' [Physics] ==> I3StartStopParams (61)\n",
      "  'FiniteReco_FiniteRecoLlhDOMeff_rusage' [Physics] ==> I3RUsage (52)\n",
      "  'FiniteReco_VertexRecoDOMeff_rusage' [Physics] ==> I3RUsage (52)\n",
      "  'FixedRateTriggered' [Physics] ==> I3PODHolder<bool> (27)\n",
      "  'GCFilter_13' [Physics] ==> I3PODHolder<bool> (27)\n",
      "  'HESEFilter_15' [Physics] ==> I3PODHolder<bool> (27)\n",
      "  'HitMultiplicityValues' [Physics] ==> I3HitMultiplicityValues (63)\n",
      "  'HitStatisticsValues' [Physics] ==> I3HitStatisticsValues (155)\n",
      "  'I3EventHeader' [Physics] ==> I3EventHeader (109)\n",
      "  'I3MCPESeriesMap_0.990' [DAQ] ==> I3Map<OMKey, vector<I3MCPE> > (7081)\n",
      "  'I3MCPESeriesMap_0.990WithoutNoise' [DAQ] ==> I3Map<OMKey, vector<I3MCPE> > (3184)\n",
      "  'I3MCPulseSeriesMap' [DAQ] ==> I3Map<OMKey, vector<I3MCPulse> > (5594)\n",
      "  'I3MCPulseSeriesMapParticleIDMap' [DAQ] ==> I3Map<OMKey, map<I3ParticleID, vector<unsigned int, allocator<unsigned int> >, less<I3ParticleID>, allocator<pair<I3ParticleID const, vector<unsigned int, allocator<unsigned int> > > > > > (5521)\n",
      "  'I3MCTree' [DAQ] ==> TreeBase::Tree<I3Particle, I3ParticleID, __gnu_cxx::hash<I3ParticleID> > (6630)\n",
      "  'I3SuperDST' [DAQ] ==> I3SuperDST (469)\n",
      "  'I3TriggerHierarchy' [Physics] ==> I3Tree<I3Trigger> (440)\n",
      "  'I3Triggers' [DAQ] ==> I3Tree<I3Trigger> (230)\n",
      "  'ICAnalysisHits' [Physics] ==> I3PODHolder<double> (36)\n",
      "  'ICNHits' [Physics] ==> I3PODHolder<double> (36)\n",
      "  'IceTopSMTTriggered' [Physics] ==> I3PODHolder<bool> (27)\n",
      "  'IceTopVolumeTriggered' [Physics] ==> I3PODHolder<bool> (27)\n",
      "  'ImpactAngle' [Physics] ==> I3Vector<double> (646)\n",
      "  'InIceDSTPulses' [DAQ] ==> I3RecoPulseSeriesMapMask (416)\n",
      "  'InIcePulses' [DAQ] ==> I3RecoPulseSeriesMapMask (420)\n",
      "  'InIceRawData' [DAQ] ==> I3Map<OMKey, vector<I3DOMLaunch> > (15140)\n",
      "  'InIceSMTTriggered' [Physics] ==> I3PODHolder<bool> (27)\n",
      "  'InIceStringTriggered' [Physics] ==> I3PODHolder<bool> (27)\n",
      "  'L4VetoLayer0' [Physics] ==> I3PODHolder<double> (36)\n",
      "  'L4VetoLayer1' [Physics] ==> I3PODHolder<double> (36)\n",
      "  'L4VetoLayerPulses0' [Physics] ==> I3RecoPulseSeriesMapMask (102)\n",
      "  'L4VetoLayerPulses1' [Physics] ==> I3RecoPulseSeriesMapMask (102)\n",
      "  'L4VetoLayerQTot' [Physics] ==> I3PODHolder<double> (36)\n",
      "  'L4VetoLayerVertexTime' [Physics] ==> I3PODHolder<double> (36)\n",
      "  'LineFitDOMeff' [Physics] ==> I3Particle (150)\n",
      "  'LineFitDOMeffParams' [Physics] ==> I3LineFitParams (71)\n",
      "  'LowUp_13' [Physics] ==> I3PODHolder<bool> (27)\n",
      "  'MESEFilter_15' [Physics] ==> I3PODHolder<bool> (27)\n",
      "  'MMCTrackList' [DAQ] ==> I3Vector<I3MMCTrack> (304)\n",
      "  'MPEFitCramerRaoDOMeffParams' [Physics] ==> CramerRaoParams (135)\n",
      "  'MPEFitDOMeff' [Physics] ==> I3Particle (150)\n",
      "  'MPEFitDOMeffFitParams' [Physics] ==> I3LogLikelihoodFitParams (68)\n",
      "  'MuEx' [Physics] ==> I3Particle (150)\n",
      "  'MuEx_EnUnc' [Physics] ==> I3PODHolder<double> (36)\n",
      "  'MuEx_Sigma' [Physics] ==> I3PODHolder<double> (36)\n",
      "  'MuEx_r' [Physics] ==> I3PODHolder<double> (36)\n",
      "  'MuEx_rlle' [Physics] ==> I3PODHolder<double> (36)\n",
      "  'MuEx_rllt' [Physics] ==> I3PODHolder<double> (36)\n",
      "  'MuonFilter_13' [Physics] ==> I3PODHolder<bool> (27)\n",
      "  'NDirDoms' [Physics] ==> I3PODHolder<double> (36)\n",
      "  'NumVisibleMuons_analysis_region' [Physics] ==> I3PODHolder<double> (36)\n",
      "  'OM' [Physics] ==> I3Vector<double> (646)\n",
      "  'PhotonArrivalAngle' [Physics] ==> I3Vector<double> (646)\n",
      "  'PhysMinBiasTriggered' [Physics] ==> I3PODHolder<bool> (27)\n",
      "  'PoleEHESummaryPulseInfo' [Physics] ==> I3PortiaEvent (172)\n",
      "  'PoleMuonLinefit' [Physics] ==> I3Particle (150)\n",
      "  'PoleMuonLinefitParams' [Physics] ==> I3LineFitParams (71)\n",
      "  'PoleMuonLlhFit' [Physics] ==> I3Particle (150)\n",
      "  'PoleMuonLlhFitDirectHitsBaseA' [Physics] ==> I3DirectHitsValues (126)\n",
      "  'PoleMuonLlhFitDirectHitsBaseB' [Physics] ==> I3DirectHitsValues (126)\n",
      "  'PoleMuonLlhFitDirectHitsBaseC' [Physics] ==> I3DirectHitsValues (126)\n",
      "  'PoleMuonLlhFitDirectHitsBaseD' [Physics] ==> I3DirectHitsValues (126)\n",
      "  'PoleMuonLlhFitFitParams' [Physics] ==> I3LogLikelihoodFitParams (68)\n",
      "  'PoleMuonLlhFitMuE' [Physics] ==> I3Particle (150)\n",
      "  'PoleMuonLlhFit_Finite' [Physics] ==> I3Particle (150)\n",
      "  'PoleMuonLlhFit_FiniteCuts' [Physics] ==> I3FiniteCuts (80)\n",
      "  'PolyplopiaInfo' [DAQ] ==> I3Map<string, double> (69)\n",
      "  'PolyplopiaPrimary' [DAQ] ==> I3Particle (150)\n",
      "  'PrimaryParticle' [DAQ] ==> I3Particle (150)\n",
      "  'RNGState' [DAQ] ==> I3SPRNGRandomServiceState (73)\n",
      "  'RTTWOfflinePulses_FR_WIMP_DOMeff' [Physics] ==> I3RecoPulseSeriesMapMask (335)\n",
      "  'RecoDistance' [Physics] ==> I3Vector<double> (646)\n",
      "  'RecoEndpoint' [Physics] ==> I3Position (54)\n",
      "  'RecoEndpointZ' [Physics] ==> I3PODHolder<double> (36)\n",
      "  'SPEFit2DOMeff' [Physics] ==> I3Particle (150)\n",
      "  'SPEFit2DOMeffFitParams' [Physics] ==> I3LogLikelihoodFitParams (68)\n",
      "  'SPEFitSingleDOMeff' [Physics] ==> I3Particle (150)\n",
      "  'SPEFitSingleDOMeffFitParams' [Physics] ==> I3LogLikelihoodFitParams (68)\n",
      "  'SRTInIcePulsesDOMeff' [Physics] ==> I3RecoPulseSeriesMapMask (290)\n",
      "  'ScintMinBiasTriggered' [Physics] ==> I3PODHolder<bool> (27)\n",
      "  'SignalCLSim_intermediatePhotons' [DAQ] ==> I3Map<ModuleKey, I3Vector<I3Photon> > (82751)\n",
      "  'SignalI3MCPESeriesMap_0.990' [DAQ] ==> I3Map<OMKey, vector<I3MCPE> > (3143)\n",
      "  'SlowParticleTriggered' [Physics] ==> I3PODHolder<bool> (27)\n",
      "  'SplineMPE' [Physics] ==> I3Particle (150)\n",
      "  'SplineMPEDirectHitsA' [Physics] ==> I3DirectHitsValues (126)\n",
      "  'SplineMPEDirectHitsB' [Physics] ==> I3DirectHitsValues (126)\n",
      "  'SplineMPEDirectHitsC' [Physics] ==> I3DirectHitsValues (126)\n",
      "  'SplineMPEDirectHitsD' [Physics] ==> I3DirectHitsValues (126)\n",
      "  'SplineMPEFitParams' [Physics] ==> I3LogLikelihoodFitParams (68)\n",
      "  'SplitInIceDSTPulses' [Physics] ==> I3RecoPulseSeriesMapMask (420)\n",
      "  'SplitInIcePulses' [Physics] ==> I3RecoPulseSeriesMapMask (425)\n",
      "  'SplitUncleanedInIcePulsesHLC_NoDC' [Physics] ==> I3RecoPulseSeriesMapMask (158)\n",
      "  'String' [Physics] ==> I3Vector<double> (646)\n",
      "  'TWOfflinePulses_FR_WIMP_DOMeff' [Physics] ==> I3RecoPulseSeriesMapMask (382)\n",
      "  'TWOfflinePulses_FR_WIMP_DOMeffTimeRange' [Physics] ==> I3TimeWindow (48)\n",
      "  'TimeShift' [DAQ] ==> I3PODHolder<double> (36)\n",
      "  'TotalCharge' [Physics] ==> I3Vector<double> (646)\n",
      "  'TriggerSplitterLaunchWindow' [Physics] ==> I3TimeWindow (48)\n",
      "  'TruthDistance' [Physics] ==> I3Vector<double> (646)\n",
      "  'TruthEndpoint' [Physics] ==> I3Position (54)\n",
      "  'TruthEnergy' [Physics] ==> I3PODHolder<double> (36)\n",
      "  'TruthMuon' [Physics] ==> I3Particle (150)\n",
      "  'VEF_13' [Physics] ==> I3PODHolder<bool> (27)\n",
      "  'VolumeTrigTriggered' [Physics] ==> I3PODHolder<bool> (27)\n",
      "  'rlogl' [Physics] ==> I3PODHolder<double> (36)\n",
      "]\n",
      "\n"
     ]
    }
   ],
   "source": [
    "infile = dataio.I3File(infile_name)\n",
    "frame = infile.pop_physics()\n",
    "print(frame)"
   ]
  },
  {
   "cell_type": "code",
   "execution_count": 112,
   "metadata": {},
   "outputs": [],
   "source": [
    "track_list = frame['MMCTrackList']\n",
    "mctree     = frame['I3MCTree']\n"
   ]
  },
  {
   "cell_type": "code",
   "execution_count": 113,
   "metadata": {},
   "outputs": [
    {
     "name": "stdout",
     "output_type": "stream",
     "text": [
      "[I3MMCTrack = [\n",
      " (xi, yi, zi, ti, Ei) = (-115.176 ,542.973 ,800 ,7702.91 ,559.519)\n",
      " (xc, yc, zc, tc, Ec) = (-29.4748 ,181.081 ,-77.554 ,10882.1 ,267.507)\n",
      " (xf, yf, zf, tf, Ef) = (41.079 ,-116.846 ,-800 ,13499.4 ,60.5039)\n",
      " Elost = 499.015\n",
      " Particle = [ I3Particle MajorID : 13469127016857373990\n",
      "             MinorID : 846\n",
      "              Zenith : 0.400847\n",
      "             Azimuth : 1.80333\n",
      "                   X : -227.484\n",
      "                   Y : 1017.22\n",
      "                   Z : 1949.99\n",
      "                Time : 3536.68\n",
      "              Energy : 1054.01\n",
      "               Speed : 0.299792\n",
      "              Length : 3125.59\n",
      "                Type : MuPlus\n",
      "        PDG encoding : -13\n",
      "               Shape : StartingTrack\n",
      "              Status : NotSet\n",
      "            Location : InIce\n",
      "]]\n",
      "]\n"
     ]
    }
   ],
   "source": [
    "# Let's find the muon\n",
    "print(track_list)\n"
   ]
  },
  {
   "cell_type": "code",
   "execution_count": 114,
   "metadata": {},
   "outputs": [
    {
     "name": "stdout",
     "output_type": "stream",
     "text": [
      "Injection point of the muon I3Position(-1680.74,-809.682,1949.81)\n",
      "Length that the muon traveled in total 3212.2136875364995\n",
      "Point where it enters the 800m volume I3Position(-711.279,-366.173,429.537)\n",
      "Distance from injection to 800m volume 1856.8167589096295\n",
      "Ionization losses 301.19931747263774\n",
      "Stochastic losses 0\n",
      "Total E lost inside volume 301.19931747263774\n",
      "Energy available upon entering volume 385.1886443591824\n",
      "This does not add up very nicely, why?\n"
     ]
    }
   ],
   "source": [
    "print('Injection point of the muon', muon_track.particle.pos)\n",
    "print('Length that the muon traveled in total', muon_track.particle.length)\n",
    "\n",
    "# Let's calculate the distance the muon traveled *inside the 800m volume*\n",
    "entering_large_cylinder = dataclasses.I3Position(muon_track.xi, muon_track.yi, muon_track.zi)\n",
    "print('Point where it enters the 800m volume', entering_large_cylinder)\n",
    "d_injection_cylinder = (muon_track.particle.pos - entering_large_cylinder).magnitude\n",
    "print('Distance from injection to 800m volume', d_injection_cylinder)\n",
    "d_inside = muon_track.particle.length - d_injection_cylinder\n",
    "\n",
    "# Ionization energy loss\n",
    "econstant = 1/4.5 # GeV/m\n",
    "e_ion = econstant*d_inside\n",
    "print('Ionization losses', e_ion)\n",
    "\n",
    "# Sum all the stochastics\n",
    "daughters = mctree.get_daughters(muon_track.particle)\n",
    "e_stochastic = 0\n",
    "for d in daughters:\n",
    "    e_stochastic += d.energy\n",
    "\n",
    "print('Stochastic losses', e_stochastic)\n",
    "print('Total E lost inside volume', e_stochastic+e_ion)\n",
    "print('Energy available upon entering volume', muon_track.Ei)\n",
    "print('This does not add up very nicely, why?')\n",
    "\n"
   ]
  },
  {
   "cell_type": "code",
   "execution_count": null,
   "metadata": {},
   "outputs": [],
   "source": [
    "\n"
   ]
  },
  {
   "cell_type": "code",
   "execution_count": 116,
   "metadata": {},
   "outputs": [
    {
     "name": "stdout",
     "output_type": "stream",
     "text": [
      "This is a good special example. This muon actually left the volume. It did not decay inside.\n",
      "I3Position(-3.61592,-42.4311,-680.195)\n",
      "That end point is outside the detector\n",
      "This muon entered and left. That is fine, but our energy accounting will not work as nicely\n",
      "There are probably some energy losses outside as it left, that we did not account for\n",
      "Still, we only care about stochastic energy losses INSIDE the 500m volume, so the fact the muon leaves is fine\n"
     ]
    }
   ],
   "source": [
    "\n",
    "print('This is a good special example. This muon actually left the volume. It did not decay inside.')\n",
    "# This function can be used to move along a track\n",
    "# I'm taking the muon, and moving along a track a distance equal to its length\n",
    "# Then I'm printing the end point\n",
    "print(muon_track.particle.shift_along_track(muon_track.particle.length))\n",
    "print('That end point is outside the detector')\n",
    "print('This muon entered and left. That is fine, but our energy accounting will not work as nicely')\n",
    "print('There are probably some energy losses outside as it left, that we did not account for')\n",
    "print('Still, we only care about stochastic energy losses INSIDE the 500m volume, so the fact the muon leaves is fine')"
   ]
  },
  {
   "cell_type": "code",
   "execution_count": 117,
   "metadata": {},
   "outputs": [],
   "source": [
    "frame = infile.pop_physics()\n",
    "\n",
    "track_list = frame['MMCTrackList']\n",
    "mctree     = frame['I3MCTree']\n",
    "\n",
    "muon_track = track_list[0]"
   ]
  },
  {
   "cell_type": "code",
   "execution_count": 118,
   "metadata": {},
   "outputs": [
    {
     "name": "stdout",
     "output_type": "stream",
     "text": [
      "I3Position(327.273,-143.257,-1233.63)\n",
      "[I3MMCTrack = [\n",
      " (xi, yi, zi, ti, Ei) = (-497.684 ,-268.444 ,800 ,8350.94 ,1090.31)\n",
      " (xc, yc, zc, tc, Ec) = (-144.084 ,-214.785 ,-71.6707 ,11493.7 ,762.833)\n",
      " (xf, yf, zf, tf, Ef) = (151.367 ,-169.951 ,-800 ,14119.7 ,332.442)\n",
      " Elost = 757.869\n",
      " Particle = [ I3Particle MajorID : 13469127016857373990\n",
      "             MinorID : 50557\n",
      "              Zenith : 0.389355\n",
      "             Azimuth : 3.29219\n",
      "                   X : -964.189\n",
      "                   Y : -339.236\n",
      "                   Z : 1950\n",
      "                Time : 4204.52\n",
      "              Energy : 2048.32\n",
      "               Speed : 0.299792\n",
      "              Length : 3441.19\n",
      "                Type : MuPlus\n",
      "        PDG encoding : -13\n",
      "               Shape : StartingTrack\n",
      "              Status : NotSet\n",
      "            Location : InIce\n",
      "]]\n",
      "]\n",
      "Injection point of the muon (X,Y,Z) I3Position(-964.189,-339.236,1950)\n",
      "Length that the muon traveled in total (Length) 3441.188043537651\n",
      "Point where it enters the 800m volume I3Position(-497.684,-268.444,800)\n",
      "Distance from injection to 800m volume 1243.034099460405\n",
      "Ionization losses 488.47865423938794\n",
      "Stochastic losses 355.76862018881195\n",
      "Total E lost inside 800m volume 844.2472744282\n",
      "Energy available upon entering volume 1090.3112896809205\n"
     ]
    }
   ],
   "source": [
    "\n",
    "# Check where it decayed\n",
    "print(muon_track.particle.shift_along_track(muon_track.particle.length))\n",
    "\n",
    "print(track_list) \n",
    "\n",
    "print('Injection point of the muon (X,Y,Z)', muon_track.particle.pos)\n",
    "print('Length that the muon traveled in total (Length)', muon_track.particle.length)\n",
    "\n",
    "# Let's calculate the distance the muon traveled *inside the 800m volume*\n",
    "entering_large_cylinder = dataclasses.I3Position(muon_track.xi, muon_track.yi, muon_track.zi)\n",
    "print('Point where it enters the 800m volume', entering_large_cylinder)\n",
    "distance_from_injection_cylinder_to_800m = (muon_track.particle.pos - entering_large_cylinder).magnitude\n",
    "print('Distance from injection to 800m volume', distance_from_injection_cylinder_to_800m)\n",
    "d_inside = muon_track.particle.length - distance_from_injection_cylinder_to_800m\n",
    "\n",
    "# Ionization energy loss\n",
    "econstant = 1/4.5 # GeV/m\n",
    "e_ion = econstant * d_inside #GeV\n",
    "print('Ionization losses', e_ion)\n",
    "\n",
    "# Sum all the stochastics\n",
    "daughters = mctree.get_daughters(muon_track.particle)\n",
    "e_stochastic = 0\n",
    "for d in daughters:\n",
    "    e_stochastic += d.energy\n",
    "\n",
    "print('Stochastic losses', e_stochastic)\n",
    "print('Total E lost inside 800m volume', e_stochastic+e_ion)\n",
    "print('Energy available upon entering volume', muon_track.Ei)\n",
    "\n"
   ]
  },
  {
   "cell_type": "code",
   "execution_count": 186,
   "metadata": {},
   "outputs": [
    {
     "name": "stdout",
     "output_type": "stream",
     "text": [
      "Entrance point of the particle (x,y,z) I3Position(-497.684,-268.444,800)\n",
      "Length that the muon traveled in 800 (Length) 2198.153944077246\n",
      "Stochastic losses 117.9135687086868\n"
     ]
    }
   ],
   "source": [
    "#sorry, one more question\n",
    "\n",
    "#so in this way I need to establish values for r = 500 and z = (-500;500)\n",
    "\n",
    "#for this I use x,y,z from which frame? \n",
    "# or I just establish them?\n",
    "print('Entrance point of the particle (x,y,z)', dataclasses.I3Position(muon_track.xi, muon_track.yi, muon_track.zi))\n",
    "print('Length that the muon traveled in 800 (Length)', d_inside)\n",
    "\n",
    "daughters = mctree.get_daughters(muon_track.particle)\n",
    "\n",
    "\n",
    "e_stochastic = 0\n",
    "for d in daughters:\n",
    "    position=d.pos\n",
    "    if np.sqrt((position.x)**2 + (position.y)**2) <= 500.0 and  position.z>=-500.0 and position.z <= 500.0:\n",
    "        e_stochastic += d.energy\n",
    "print('Stochastic losses',e_stochastic)\n",
    "    \n",
    "    \n",
    "\n",
    "# Let's calculate the distance the muon traveled *inside the 500m volume*\n",
    "#entering_small_cylinder = (np.sqrt((x)**2 + (y)**2)==500.0), z ==500.0 #how can I obtain these valeus\n",
    "#print('Point where it enters the 500m volume', entering_small_cylinder)\n",
    "\n",
    "#distance_from_injection_800cylinder_to_500m = (muon_track.particle.pos - entering_small_cylinder).magnitude\n",
    "#print('Distance from injection 800 to 500m volume', distance_from_injection_800cylinder_to_500m)\n",
    "#d_inside500 = muon_track.particle.length - distance_from_injection_800cylinder_to_500m\n",
    "\n",
    "\n"
   ]
  },
  {
   "cell_type": "code",
   "execution_count": 255,
   "metadata": {},
   "outputs": [],
   "source": [
    "frame_arr = []; mctree = []\n",
    "track_list = []\n",
    "\n",
    "for i in range(0, 2):\n",
    "    files_dir = '/data/icecube/domeff_analysis/reco_sim_nominal/0000000-0000999/' + str(i) + '.i3.bz2' # path to i3 file\n",
    "    with dataio.I3File('/data/icecube/domeff_analysis/reco_sim_nominal/0000000-0000999/'+ str(i) + '.i3.bz2') as infile:\n",
    "        for frame in infile:\n",
    "            if infile.stream.id != 'P': continue\n",
    "            frame_arr.append(frame)\n",
    "            mctree.append(frame['I3MCTree']) \n",
    "            track_list.append(frame['MMCTrackList'])"
   ]
  },
  {
   "cell_type": "code",
   "execution_count": 261,
   "metadata": {},
   "outputs": [
    {
     "ename": "IndexError",
     "evalue": "list assignment index out of range",
     "output_type": "error",
     "traceback": [
      "\u001b[0;31m---------------------------------------------------------------------------\u001b[0m",
      "\u001b[0;31mIndexError\u001b[0m                                Traceback (most recent call last)",
      "\u001b[0;32m<ipython-input-261-3fd2971722fa>\u001b[0m in \u001b[0;36m<module>\u001b[0;34m\u001b[0m\n\u001b[1;32m      2\u001b[0m \u001b[0;34m\u001b[0m\u001b[0m\n\u001b[1;32m      3\u001b[0m \u001b[0;32mfor\u001b[0m \u001b[0mit\u001b[0m \u001b[0;32min\u001b[0m \u001b[0mrange\u001b[0m\u001b[0;34m(\u001b[0m\u001b[0mlen\u001b[0m\u001b[0;34m(\u001b[0m\u001b[0mtrack_list\u001b[0m\u001b[0;34m)\u001b[0m\u001b[0;34m)\u001b[0m\u001b[0;34m:\u001b[0m\u001b[0;34m\u001b[0m\u001b[0;34m\u001b[0m\u001b[0m\n\u001b[0;32m----> 4\u001b[0;31m     \u001b[0mnum_muons\u001b[0m\u001b[0;34m[\u001b[0m\u001b[0mit\u001b[0m\u001b[0;34m]\u001b[0m \u001b[0;34m=\u001b[0m \u001b[0mlen\u001b[0m\u001b[0;34m(\u001b[0m\u001b[0mtrack_list\u001b[0m\u001b[0;34m[\u001b[0m\u001b[0mit\u001b[0m\u001b[0;34m]\u001b[0m\u001b[0;34m)\u001b[0m\u001b[0;34m\u001b[0m\u001b[0;34m\u001b[0m\u001b[0m\n\u001b[0m\u001b[1;32m      5\u001b[0m \u001b[0;34m\u001b[0m\u001b[0m\n\u001b[1;32m      6\u001b[0m \u001b[0mplt\u001b[0m\u001b[0;34m.\u001b[0m\u001b[0mhist\u001b[0m\u001b[0;34m(\u001b[0m\u001b[0mnum_muons\u001b[0m\u001b[0;34m,\u001b[0m \u001b[0mnp\u001b[0m\u001b[0;34m.\u001b[0m\u001b[0marange\u001b[0m\u001b[0;34m(\u001b[0m\u001b[0;36m1\u001b[0m\u001b[0;34m,\u001b[0m\u001b[0;36m25\u001b[0m\u001b[0;34m)\u001b[0m\u001b[0;34m)\u001b[0m\u001b[0;34m\u001b[0m\u001b[0;34m\u001b[0m\u001b[0m\n",
      "\u001b[0;31mIndexError\u001b[0m: list assignment index out of range"
     ]
    }
   ],
   "source": [
    "num_muons = []\n",
    "\n",
    "for it in range(len(track_list)):\n",
    "    num_muons[it] = len(track_list[it])\n",
    "    \n",
    "plt.hist(num_muons, np.arange(1,25))\n",
    "print(track_list[-1])"
   ]
  },
  {
   "cell_type": "code",
   "execution_count": 257,
   "metadata": {},
   "outputs": [
    {
     "name": "stdout",
     "output_type": "stream",
     "text": [
      "(2631,)\n"
     ]
    },
    {
     "ename": "AttributeError",
     "evalue": "'I3MMCTrackList' object has no attribute 'particle'",
     "output_type": "error",
     "traceback": [
      "\u001b[0;31m---------------------------------------------------------------------------\u001b[0m",
      "\u001b[0;31mAttributeError\u001b[0m                            Traceback (most recent call last)",
      "\u001b[0;32m<ipython-input-257-5ea9dd724795>\u001b[0m in \u001b[0;36m<module>\u001b[0;34m\u001b[0m\n\u001b[1;32m      4\u001b[0m \u001b[0;32mfor\u001b[0m \u001b[0mi\u001b[0m \u001b[0;32min\u001b[0m \u001b[0mrange\u001b[0m\u001b[0;34m(\u001b[0m\u001b[0mlen\u001b[0m\u001b[0;34m(\u001b[0m\u001b[0mtrack_list\u001b[0m\u001b[0;34m)\u001b[0m\u001b[0;34m)\u001b[0m\u001b[0;34m:\u001b[0m\u001b[0;34m\u001b[0m\u001b[0;34m\u001b[0m\u001b[0m\n\u001b[1;32m      5\u001b[0m     \u001b[0mmuon_track\u001b[0m\u001b[0;34m.\u001b[0m\u001b[0mappend\u001b[0m\u001b[0;34m(\u001b[0m\u001b[0mtrack_list\u001b[0m\u001b[0;34m[\u001b[0m\u001b[0mi\u001b[0m\u001b[0;34m]\u001b[0m\u001b[0;34m)\u001b[0m\u001b[0;34m\u001b[0m\u001b[0;34m\u001b[0m\u001b[0m\n\u001b[0;32m----> 6\u001b[0;31m     \u001b[0mprint\u001b[0m\u001b[0;34m(\u001b[0m\u001b[0;34m[\u001b[0m\u001b[0mi\u001b[0m\u001b[0;34m]\u001b[0m\u001b[0;34m,\u001b[0m\u001b[0;34m'Injection point of the muon'\u001b[0m\u001b[0;34m,\u001b[0m \u001b[0mmuon_track\u001b[0m\u001b[0;34m[\u001b[0m\u001b[0mi\u001b[0m\u001b[0;34m]\u001b[0m\u001b[0;34m.\u001b[0m\u001b[0mparticle\u001b[0m\u001b[0;34m.\u001b[0m\u001b[0mpos\u001b[0m\u001b[0;34m)\u001b[0m\u001b[0;34m\u001b[0m\u001b[0;34m\u001b[0m\u001b[0m\n\u001b[0m\u001b[1;32m      7\u001b[0m     \u001b[0mprint\u001b[0m\u001b[0;34m(\u001b[0m\u001b[0;34m'Length that the muon traveled in total'\u001b[0m\u001b[0;34m,\u001b[0m \u001b[0mmuon_track\u001b[0m\u001b[0;34m[\u001b[0m\u001b[0mi\u001b[0m\u001b[0;34m]\u001b[0m\u001b[0;34m.\u001b[0m\u001b[0mparticle\u001b[0m\u001b[0;34m.\u001b[0m\u001b[0mlength\u001b[0m\u001b[0;34m)\u001b[0m\u001b[0;34m\u001b[0m\u001b[0;34m\u001b[0m\u001b[0m\n\u001b[1;32m      8\u001b[0m     \u001b[0;31m# Let's calculate the distance the muon traveled *inside the 800m volume*\u001b[0m\u001b[0;34m\u001b[0m\u001b[0;34m\u001b[0m\u001b[0;34m\u001b[0m\u001b[0m\n",
      "\u001b[0;31mAttributeError\u001b[0m: 'I3MMCTrackList' object has no attribute 'particle'"
     ]
    }
   ],
   "source": [
    "muon_track = []\n",
    "print(np.shape(track_list))\n",
    "\n",
    "for i in range(len(track_list)):\n",
    "    muon_track.append(track_list[i])\n",
    "    print([i],'Injection point of the muon', muon_track[i].particle.pos)\n",
    "    print('Length that the muon traveled in total', muon_track[i].particle.length)\n",
    "    # Let's calculate the distance the muon traveled *inside the 800m volume*\n",
    "    entering_large_cylinder = dataclasses.I3Position(muon_track[i].xi, muon_track[i].yi, muon_track[i].zi)\n",
    "    print('Point where it enters the 800m volume', entering_large_cylinder)\n",
    "    d_injection_cylinder = (muon_track[i].particle.pos - entering_large_cylinder).magnitude\n",
    "    print('Distance from injection to 800m volume', d_injection_cylinder)\n",
    "    d_inside = muon_track[i].particle.length - d_injection_cylinder\n",
    "\n",
    "    # Ionization energy loss\n",
    "    econstant = 1/4.5 # GeV/m\n",
    "    e_ion = econstant*d_inside\n",
    "    print('Ionization losses', e_ion)\n",
    "\n",
    "    # Sum all the stochastics\n",
    "    daughters = mctree.get_daughters(muon_track[i].particle)\n",
    "    e_stochastic = 0\n",
    "    for d in daughters:\n",
    "        e_stochastic += d.energy\n",
    "\n",
    "    print('Stochastic losses', e_stochastic)\n",
    "    print('Total E lost inside volume', e_stochastic+e_ion)\n",
    "    print('Energy available upon entering volume', muon_track[i].Ei)\n",
    "    \n",
    "    print('Entrance point of the particle (x,y,z)', dataclasses.I3Position(muon_track[i].xi, muon_track[i].yi, muon_track[i].zi))\n",
    "    print('Length that the muon traveled in 800 (Length)', d_inside)\n",
    "\n",
    "    daughters = mctree.get_daughters(muon_track[i].particle)\n",
    "\n",
    "\n",
    "    e_stochastic = 0\n",
    "    for d in daughters:\n",
    "        position=d.pos\n",
    "        if np.sqrt((position.x)**2 + (position.y)**2) <= 500.0 and  position.z>=-500.0 and position.z <= 500.0:\n",
    "            e_stochastic += d.energy\n",
    "    print('Stochastic losses in 500m',e_stochastic)\n"
   ]
  },
  {
   "cell_type": "code",
   "execution_count": null,
   "metadata": {},
   "outputs": [],
   "source": []
  },
  {
   "cell_type": "code",
   "execution_count": null,
   "metadata": {},
   "outputs": [],
   "source": []
  }
 ],
 "metadata": {
  "kernelspec": {
   "display_name": "Python 3",
   "language": "python",
   "name": "python3"
  },
  "language_info": {
   "codemirror_mode": {
    "name": "ipython",
    "version": 3
   },
   "file_extension": ".py",
   "mimetype": "text/x-python",
   "name": "python",
   "nbconvert_exporter": "python",
   "pygments_lexer": "ipython3",
   "version": "3.7.5"
  }
 },
 "nbformat": 4,
 "nbformat_minor": 4
}
