{
 "cells": [
  {
   "cell_type": "code",
   "execution_count": 69,
   "metadata": {},
   "outputs": [],
   "source": [
    "from icecube import icetray, dataio, dataclasses, simclasses, phys_services, recclasses\n",
    "import os, sys\n",
    "import numpy as np\n",
    "import matplotlib as mpl\n",
    "from matplotlib.colors import LogNorm, Normalize\n",
    "import matplotlib.pyplot as plt\n",
    "import timeit as time\n",
    "import math\n",
    "from datetime import datetime"
   ]
  },
  {
   "cell_type": "code",
   "execution_count": 3,
   "metadata": {},
   "outputs": [],
   "source": [
    "plt.rcParams.update({'font.size': 20})\n",
    "mpl.rcParams['mathtext.fontset'] = 'custom'\n",
    "mpl.rcParams['mathtext.rm'] = 'Bitstream Vera Sans'\n",
    "mpl.rcParams['mathtext.it'] = 'Bitstream Vera Sans:italic'\n",
    "mpl.rcParams['mathtext.bf'] = 'Bitstream Vera Sans:bold'\n",
    "\n",
    "mpl.rcParams['hist.bins'] = 100\n",
    "mpl.rcParams['lines.linewidth'] = 2.5\n",
    "mpl.rcParams['patch.linewidth'] = 2.5\n",
    "mpl.rcParams['grid.alpha'] = 0.2"
   ]
  },
  {
   "cell_type": "code",
   "execution_count": 4,
   "metadata": {},
   "outputs": [
    {
     "name": "stdout",
     "output_type": "stream",
     "text": [
      "('Total files', 966)\n"
     ]
    }
   ],
   "source": [
    "# Added by JP\n",
    "# Define the directory of your files\n",
    "files_dir = '/data/icecube/domeff_analysis/reco_sim_nominal/0000000-0000999'\n",
    "# List the contents of the entire directory\n",
    "file_list_aux = os.listdir(files_dir)\n",
    "# Only keep those that are I3 files\n",
    "file_list = [x for x in file_list_aux if '.i3.bz2' in x]\n",
    "print('Total files', len(file_list))"
   ]
  },
  {
   "cell_type": "code",
   "execution_count": 6,
   "metadata": {},
   "outputs": [],
   "source": [
    "# Now decide how many files to loop over\n",
    "nfiles = 2 # This could be len(file_list)\n",
    "frame_arr = []; mctree = []\n",
    "track_list = []\n",
    "for i in range(nfiles):\n",
    "    # This is your code, but I changed the file name creation\n",
    "    with dataio.I3File(os.path.join(files_dir, file_list[i])) as infile:\n",
    "        for frame in infile:\n",
    "            if infile.stream.id != 'P': continue\n",
    "            frame_arr.append(frame)\n",
    "            mctree.append(frame['I3MCTree']) "
   ]
  },
  {
   "cell_type": "raw",
   "metadata": {},
   "source": [
    "## JP disabled this, done with code above\n",
    "frame_arr = []; mctree = []\n",
    "track_list = []\n",
    "\n",
    "for i in range(83, 84):\n",
    "    files_dir = '/data/icecube/domeff_analysis/reco_sim_nominal/0000000-0000999/' + str(i) + '.i3.bz2' # path to i3 file\n",
    "    with dataio.I3File('/data/icecube/domeff_analysis/reco_sim_nominal/0000000-0000999/'+ str(i) + '.i3.bz2') as infile:\n",
    "        for frame in infile:\n",
    "            if infile.stream.id != 'P': continue\n",
    "            frame_arr.append(frame)\n",
    "            mctree.append(frame['I3MCTree']) \n",
    "            "
   ]
  },
  {
   "cell_type": "raw",
   "metadata": {},
   "source": [
    "#mctree_arr = np.array(mctree_arr)\n",
    "#mmc_Ei = []\n",
    "#for frame in frame_arr:\n",
    "#    for i in range(len(frame['MMCTrackList'])):\n",
    "#        mmc_tr = frame['MMCTrackList'][i]\n",
    "#        mmc_Ei.append(mmc_tr.Ei/icetray.I3Units.GeV)\n",
    "#\n",
    "#mmc_Ei = np.array(mmc_Ei)\n",
    "#print(mmc_Ei)"
   ]
  },
  {
   "cell_type": "code",
   "execution_count": 8,
   "metadata": {},
   "outputs": [],
   "source": [
    "volume_radius = 500. # In meters\n",
    "volume_top    = 500. # In meters"
   ]
  },
  {
   "cell_type": "raw",
   "metadata": {},
   "source": [
    "I did not address the multiple muon issue in detail\n",
    "This can happen, when the shower of particles coming from the atmosphere makes many muons that reach the detector\n",
    "An event with multiple muons is bad, because the detector is not good enough to know how many muons\n",
    "And the analysis we want to do expects muons to be this very nice, constant light source\n",
    "If we suddenly have 2 muons, then our assumption would be flawed\n",
    "So we actually want two conditions for those events we keep:\n",
    " 1. Single muons\n",
    " 2. With minimal stochastic losses\n",
    "Note that when I say \"single muons\" I mean inside the detector. I don't care if there are 2 muons but one decays before reaching the detector. That is fine. So we will need some of the functions that I showed you before."
   ]
  },
  {
   "cell_type": "raw",
   "metadata": {},
   "source": [
    "Let's do a loop over the frames and mark if the event has:\n",
    "A single muon, we will ID as 0\n",
    "Multiple muons, but only one enters the detector. I will ID the event with the INDEX of the muon that enters\n",
    "Multiple muons that enter the detector, we will give that an ID of -1"
   ]
  },
  {
   "cell_type": "code",
   "execution_count": 46,
   "metadata": {},
   "outputs": [],
   "source": [
    "# Initialize the array\n",
    "muon_index = np.zeros(len(frame_arr),dtype=int)\n",
    "counter_single = 0\n",
    "counter_multi_reject = 0\n",
    "# This is a useful way to loop over a list in python\n",
    "for index, frame in enumerate(frame_arr):\n",
    "    mmc_tracks = frame['MMCTrackList']\n",
    "    \n",
    "    if len(mmc_tracks) == 1:\n",
    "        muon_index[index] = 0\n",
    "        counter_single += 1\n",
    "    else:\n",
    "        # If more than one muon in the event, I need to find out their decay point\n",
    "        # And whether they entered the detector\n",
    "        muons_in_volume = 0\n",
    "        for itrack, one_track in enumerate(mmc_tracks):\n",
    "            # Check if the closest approach of the muon to the origin is within the detector radius\n",
    "            if (np.sqrt(one_track.xc**2 + one_track.yc**2) < volume_radius) and (-volume_top<one_track.zc<volume_top):\n",
    "                # If I land here, this muon could have entered my volume. Let's find out where it decayed\n",
    "                if one_track.particle.shift_along_track(one_track.particle.length).z < volume_top:\n",
    "                    # This muon decayed under 500m, so it entered the volume.              \n",
    "                    muons_in_volume += 1\n",
    "                    muon_index[index] = itrack\n",
    "        # After looping, check how many muons in volume I counted. If more than one, this is a bad event!\n",
    "        if muons_in_volume > 1:\n",
    "            muon_index[index] = -1\n",
    "            counter_multi_reject += 1\n",
    "        "
   ]
  },
  {
   "cell_type": "code",
   "execution_count": 47,
   "metadata": {},
   "outputs": [
    {
     "name": "stdout",
     "output_type": "stream",
     "text": [
      "('Total events (frames)', 2592)\n",
      "('Single muons', 1702)\n",
      "('Real bundles (multiple muons in my volume)', 684)\n",
      "('Fake bundles (single muouns in volume)', 206)\n"
     ]
    }
   ],
   "source": [
    "# Let's have a look now\n",
    "print('Total events (frames)', len(frame_arr))\n",
    "print('Single muons', counter_single)\n",
    "print('Real bundles (multiple muons in my volume)', counter_multi_reject)\n",
    "print('Fake bundles (single muouns in volume)', len(frame_arr)-counter_single-counter_multi_reject)"
   ]
  },
  {
   "cell_type": "code",
   "execution_count": 48,
   "metadata": {},
   "outputs": [
    {
     "data": {
      "text/plain": [
       "array([ 0,  0,  0, ..., -1, -1, -1])"
      ]
     },
     "execution_count": 48,
     "metadata": {},
     "output_type": "execute_result"
    }
   ],
   "source": [
    "muon_index"
   ]
  },
  {
   "cell_type": "code",
   "execution_count": 49,
   "metadata": {},
   "outputs": [],
   "source": [
    "# We dont want ANY of those real bundles. We should look at how to cut them later\n",
    "# Let's turn back to the single muons and fake bundles now"
   ]
  },
  {
   "cell_type": "code",
   "execution_count": 50,
   "metadata": {},
   "outputs": [
    {
     "name": "stdout",
     "output_type": "stream",
     "text": [
      "('Injection point of the first muon in file 83', array([-227.48417893, 1017.21534929, 1949.99477481]))\n",
      "('Length that the first muon in file 83 traveled in total', 3125.5943701684264)\n",
      "('Point where it enters the 800m volume', array([-115.17625567,  542.97290035,  800.        ]))\n",
      "('Distance from injection to 800m volume', 1249.0023827390578)\n",
      "('Ionization losses', 417.0204416509708)\n"
     ]
    }
   ],
   "source": [
    "#print(mctree)\n",
    "muons_pos = []\n",
    "muons_length = []\n",
    "entering_large_cylinder = []\n",
    "d_injection_cylinder = []\n",
    "d_inside = []\n",
    "e_ion = []\n",
    "daughters = []\n",
    "# JP: I added a track of the stochastic losses\n",
    "e_stochastic = []\n",
    "\n",
    "\n",
    "for i, frame in enumerate(frame_arr):\n",
    "    # JP: I changed this to run over single muons and fake bundles\n",
    "    if muon_index[i] < 0:\n",
    "        # It's a real bundle, don't go there\n",
    "        continue\n",
    "        \n",
    "    mmc_tr = frame['MMCTrackList'][muon_index[i]]\n",
    "    mctree = frame['I3MCTree']\n",
    "\n",
    "    # JP note: \n",
    "    # I had all these checks on the ionization + stochastic losses just to show you how the code works\n",
    "    # You don't need to do this anymore, but it is nice that you understand how it works\n",
    "    # Everything from here until ...\n",
    "    muons_pos.append(mmc_tr.particle.pos)\n",
    "    muons_length.append(mmc_tr.particle.length)\n",
    "    entering_large_cylinder.append(dataclasses.I3Position(mmc_tr.xi, mmc_tr.yi, mmc_tr.zi))\n",
    "    d_injection_cylinder.append((mmc_tr.particle.pos - dataclasses.I3Position(mmc_tr.xi, mmc_tr.yi, mmc_tr.zi)).magnitude)\n",
    "    d_inside.append(mmc_tr.particle.length - (mmc_tr.particle.pos - dataclasses.I3Position(mmc_tr.xi, mmc_tr.yi, mmc_tr.zi)).magnitude)\n",
    "    e_ion.append((1/4.5)*(mmc_tr.particle.length - (mmc_tr.particle.pos - dataclasses.I3Position(mmc_tr.xi, mmc_tr.yi, mmc_tr.zi)).magnitude))\n",
    "    # ... here is not necessary anymore.\n",
    "\n",
    "    # This is necessary. First get all the daughters\n",
    "    daughters=(mctree.get_daughters(mmc_tr.particle))\n",
    "\n",
    "    # Then look for the daughters inside the volume. I added the volume definition in a new block of code\n",
    "    # First loop over the daughters and start the energy loss counter\n",
    "    e_stochastic.append(0)\n",
    "    for d in daughters:\n",
    "        # Check their position, only count if inside the volume\n",
    "        if (d.pos.z <= volume_top) and (np.sqrt(d.pos.x**2 + d.pos.y**2)< volume_radius):\n",
    "            # Sum the energy of the daughter to the last entry of the counter (index -1)\n",
    "            e_stochastic[-1] += d.energy\n",
    "        \n",
    "            \n",
    "muons_pos = np.array(muons_pos)\n",
    "muons_lenght = np.array(muons_length)\n",
    "entering_large_cylinder = np.array(entering_large_cylinder)\n",
    "d_injection_cylinder = np.array(d_injection_cylinder)\n",
    "e_ion = np.array(e_ion)\n",
    "daughters = np.array(daughters)\n",
    "e_stochastic = np.array(e_stochastic)\n",
    "\n",
    "\n",
    "\n",
    "print('Injection point of the first muon in file 83', muons_pos[0])\n",
    "print('Length that the first muon in file 83 traveled in total', muons_length[0])\n",
    "print('Point where it enters the 800m volume', entering_large_cylinder[0])\n",
    "print('Distance from injection to 800m volume', d_injection_cylinder[0])\n",
    "print('Ionization losses', e_ion[0])\n",
    "#print(daughters)"
   ]
  },
  {
   "cell_type": "code",
   "execution_count": 51,
   "metadata": {},
   "outputs": [
    {
     "data": {
      "text/plain": [
       "<matplotlib.text.Text at 0x7f32f2303490>"
      ]
     },
     "execution_count": 51,
     "metadata": {},
     "output_type": "execute_result"
    },
    {
     "data": {
      "image/png": "[encoded data removed]",
      "text/plain": [
       "<matplotlib.figure.Figure at 0x7f32f22f5050>"
      ]
     },
     "metadata": {
      "needs_background": "light"
     },
     "output_type": "display_data"
    }
   ],
   "source": [
    "# JP - I'm done! I can make a figure now of the energy losses\n",
    "plt.hist(e_stochastic, np.arange(0, 300, 5))\n",
    "plt.yscale('log')\n",
    "plt.xlabel('Sum of stochastic losses in IceCube volume (GeV)')"
   ]
  },
  {
   "cell_type": "code",
   "execution_count": null,
   "metadata": {},
   "outputs": [],
   "source": [
    "# Looks like I have a lot of events without any stochastic losses, that's great\n",
    "# Now let's see if I find a correlation with muon characteristics\n",
    "# How about their zenith angle? \n",
    "# Or the entry point to the detector in z? \n",
    "# These are properties that you can get from the track itself and do a scatter plot\n",
    "\n",
    "# or their brightness? \n",
    "# or the maximum number of photons detected in a sensor?\n",
    "# These are detector properties. I'll show you how to access the PULSES (the accounting unit of light) below"
   ]
  },
  {
   "cell_type": "code",
   "execution_count": 77,
   "metadata": {},
   "outputs": [
    {
     "name": "stdout",
     "output_type": "stream",
     "text": [
      "This is all the info from the object\n",
      "I3HitStatisticsValues(COG: I3Position(-70.8518,-176.917,-199.305), COGZSigma [m]: 315.188, MinPulseTime [ns]: 9851, MaxPulseTime [ns]: 15357, QMaxDoms [PE]: 2.4, QTotPulses [PE]: 37.925, ZMin [m]: -507.28, ZMax [m]: 449.47, ZMean [m]: -183.358, ZSigma [m]: 328.649, ZTravel [m]: -457.864)\n",
      "('This is an estimate of the total number of photons seen', 37.92499989271164)\n",
      "('This is the highest number of photons in a single sensor', 2.399999976158142)\n"
     ]
    }
   ],
   "source": [
    "# I'll show you with a single frame\n",
    "frame = frame_arr[1]\n",
    "# The frame already has these condensed data about light observed in this object\n",
    "hitstats = frame['HitStatisticsValues'] # I needed to add an import at the top (from icecube import recclasses)\n",
    "print('This is all the info from the object')\n",
    "print hitstats\n",
    "print('This is an estimate of the total number of photons seen', hitstats.q_tot_pulses)\n",
    "print('This is the highest number of photons in a single sensor', hitstats.q_max_doms)\n",
    "\n"
   ]
  },
  {
   "cell_type": "code",
   "execution_count": null,
   "metadata": {},
   "outputs": [],
   "source": [
    "# I have added a record of this to the exercise from above\n",
    "# I'm copying code just to show you how easy it is. Avoid copying code in a notebook. Better to reuse or make functions."
   ]
  },
  {
   "cell_type": "code",
   "execution_count": 79,
   "metadata": {},
   "outputs": [],
   "source": [
    "#print(mctree)\n",
    "muons_pos = []\n",
    "muons_length = []\n",
    "entering_large_cylinder = []\n",
    "d_injection_cylinder = []\n",
    "d_inside = []\n",
    "e_ion = []\n",
    "daughters = []\n",
    "# JP: I added a track of the stochastic losses\n",
    "e_stochastic = []\n",
    "# I'll keep track of the maximum charge observed\n",
    "qmax = []\n",
    "\n",
    "\n",
    "for i, frame in enumerate(frame_arr):\n",
    "    # JP: I changed this to run over single muons and fake bundles\n",
    "    if muon_index[i] < 0:\n",
    "        # It's a real bundle, don't go there\n",
    "        continue\n",
    "        \n",
    "    mmc_tr = frame['MMCTrackList'][muon_index[i]]\n",
    "    mctree = frame['I3MCTree']\n",
    "    \n",
    "    # New\n",
    "    hitstats = frame['HitStatisticsValues']\n",
    "    qmax.append(hitstats.q_max_doms)\n",
    "\n",
    "\n",
    "    daughters=(mctree.get_daughters(mmc_tr.particle))\n",
    "\n",
    "    # Then look for the daughters inside the volume. I added the volume definition in a new block of code\n",
    "    # First loop over the daughters and start the energy loss counter\n",
    "    e_stochastic.append(0)\n",
    "    for d in daughters:\n",
    "        # Check their position, only count if inside the volume\n",
    "        if (d.pos.z <= volume_top) and (np.sqrt(d.pos.x**2 + d.pos.y**2)< volume_radius):\n",
    "            # Sum the energy of the daughter to the last entry of the counter (index -1)\n",
    "            e_stochastic[-1] += d.energy\n",
    "        \n",
    "            \n",
    "\n",
    "e_stochastic = np.array(e_stochastic)\n",
    "qmax = np.array(qmax)\n"
   ]
  },
  {
   "cell_type": "code",
   "execution_count": 83,
   "metadata": {},
   "outputs": [
    {
     "data": {
      "text/plain": [
       "7500.245304936871"
      ]
     },
     "execution_count": 83,
     "metadata": {},
     "output_type": "execute_result"
    }
   ],
   "source": [
    "e_stochastic.max()"
   ]
  },
  {
   "cell_type": "code",
   "execution_count": 85,
   "metadata": {},
   "outputs": [
    {
     "data": {
      "text/plain": [
       "<matplotlib.text.Text at 0x7f32f05ed450>"
      ]
     },
     "execution_count": 85,
     "metadata": {},
     "output_type": "execute_result"
    },
    {
     "data": {
      "image/png": "[encoded data removed]",
      "text/plain": [
       "<matplotlib.figure.Figure at 0x7f32f05b2810>"
      ]
     },
     "metadata": {
      "needs_background": "light"
     },
     "output_type": "display_data"
    }
   ],
   "source": [
    "# Now do a scatter plot\n",
    "plt.plot(e_stochastic, qmax, '.')\n",
    "plt.xlabel('Stochastic losses (GeV)')\n",
    "plt.ylabel('Max Q observed')\n",
    "# That outlier makes things hard, let's zoom"
   ]
  },
  {
   "cell_type": "code",
   "execution_count": 90,
   "metadata": {},
   "outputs": [
    {
     "data": {
      "text/plain": [
       "(0, 40)"
      ]
     },
     "execution_count": 90,
     "metadata": {},
     "output_type": "execute_result"
    },
    {
     "data": {
      "image/png": "[encoded data removed]",
      "text/plain": [
       "<matplotlib.figure.Figure at 0x7f32f0394a50>"
      ]
     },
     "metadata": {
      "needs_background": "light"
     },
     "output_type": "display_data"
    }
   ],
   "source": [
    "plt.plot(e_stochastic, qmax, '.')\n",
    "plt.xlabel('Stochastic losses (GeV)')\n",
    "plt.ylabel('Max Q observed')\n",
    "plt.xlim(0,200)\n",
    "plt.ylim(0,40)\n",
    "# One can try with a histogram in 2D, but I don't really see a correlation. Too bad.\n",
    "# Try doing the same with the other parameters"
   ]
  },
  {
   "cell_type": "code",
   "execution_count": null,
   "metadata": {},
   "outputs": [],
   "source": []
  },
  {
   "cell_type": "code",
   "execution_count": null,
   "metadata": {},
   "outputs": [],
   "source": []
  },
  {
   "cell_type": "code",
   "execution_count": null,
   "metadata": {},
   "outputs": [],
   "source": []
  },
  {
   "cell_type": "code",
   "execution_count": null,
   "metadata": {},
   "outputs": [],
   "source": []
  },
  {
   "cell_type": "code",
   "execution_count": null,
   "metadata": {},
   "outputs": [],
   "source": [
    "# Probably the code below is not needed anymore"
   ]
  },
  {
   "cell_type": "code",
   "execution_count": 148,
   "metadata": {},
   "outputs": [
    {
     "name": "stdout",
     "output_type": "stream",
     "text": [
      "Stochastic losses 35.82414376918573\n"
     ]
    }
   ],
   "source": [
    "\n",
    "\n",
    "for frame in frame_arr: \n",
    "    for i in range(len(frame['MMCTrackList'])):\n",
    "        mmc_tr = frame['MMCTrackList'][i]                              \n",
    "        mctree = frame['I3MCTree']\n",
    "        daughters = mctree.get_daughters(mmc_tr.particle)\n",
    "\n",
    "\n",
    "        e_stochastic = 0\n",
    "        for d in daughters:\n",
    "            \n",
    "            e_stochastic += d.energy\n",
    "print('Stochastic losses',e_stochastic)\n",
    "\n"
   ]
  },
  {
   "cell_type": "code",
   "execution_count": 257,
   "metadata": {},
   "outputs": [
    {
     "name": "stdout",
     "output_type": "stream",
     "text": [
      "(2631,)\n"
     ]
    },
    {
     "ename": "AttributeError",
     "evalue": "'I3MMCTrackList' object has no attribute 'particle'",
     "output_type": "error",
     "traceback": [
      "\u001b[0;31m---------------------------------------------------------------------------\u001b[0m",
      "\u001b[0;31mAttributeError\u001b[0m                            Traceback (most recent call last)",
      "\u001b[0;32m<ipython-input-257-5ea9dd724795>\u001b[0m in \u001b[0;36m<module>\u001b[0;34m\u001b[0m\n\u001b[1;32m      4\u001b[0m \u001b[0;32mfor\u001b[0m \u001b[0mi\u001b[0m \u001b[0;32min\u001b[0m \u001b[0mrange\u001b[0m\u001b[0;34m(\u001b[0m\u001b[0mlen\u001b[0m\u001b[0;34m(\u001b[0m\u001b[0mtrack_list\u001b[0m\u001b[0;34m)\u001b[0m\u001b[0;34m)\u001b[0m\u001b[0;34m:\u001b[0m\u001b[0;34m\u001b[0m\u001b[0;34m\u001b[0m\u001b[0m\n\u001b[1;32m      5\u001b[0m     \u001b[0mmuon_track\u001b[0m\u001b[0;34m.\u001b[0m\u001b[0mappend\u001b[0m\u001b[0;34m(\u001b[0m\u001b[0mtrack_list\u001b[0m\u001b[0;34m[\u001b[0m\u001b[0mi\u001b[0m\u001b[0;34m]\u001b[0m\u001b[0;34m)\u001b[0m\u001b[0;34m\u001b[0m\u001b[0;34m\u001b[0m\u001b[0m\n\u001b[0;32m----> 6\u001b[0;31m     \u001b[0mprint\u001b[0m\u001b[0;34m(\u001b[0m\u001b[0;34m[\u001b[0m\u001b[0mi\u001b[0m\u001b[0;34m]\u001b[0m\u001b[0;34m,\u001b[0m\u001b[0;34m'Injection point of the muon'\u001b[0m\u001b[0;34m,\u001b[0m \u001b[0mmuon_track\u001b[0m\u001b[0;34m[\u001b[0m\u001b[0mi\u001b[0m\u001b[0;34m]\u001b[0m\u001b[0;34m.\u001b[0m\u001b[0mparticle\u001b[0m\u001b[0;34m.\u001b[0m\u001b[0mpos\u001b[0m\u001b[0;34m)\u001b[0m\u001b[0;34m\u001b[0m\u001b[0;34m\u001b[0m\u001b[0m\n\u001b[0m\u001b[1;32m      7\u001b[0m     \u001b[0mprint\u001b[0m\u001b[0;34m(\u001b[0m\u001b[0;34m'Length that the muon traveled in total'\u001b[0m\u001b[0;34m,\u001b[0m \u001b[0mmuon_track\u001b[0m\u001b[0;34m[\u001b[0m\u001b[0mi\u001b[0m\u001b[0;34m]\u001b[0m\u001b[0;34m.\u001b[0m\u001b[0mparticle\u001b[0m\u001b[0;34m.\u001b[0m\u001b[0mlength\u001b[0m\u001b[0;34m)\u001b[0m\u001b[0;34m\u001b[0m\u001b[0;34m\u001b[0m\u001b[0m\n\u001b[1;32m      8\u001b[0m     \u001b[0;31m# Let's calculate the distance the muon traveled *inside the 800m volume*\u001b[0m\u001b[0;34m\u001b[0m\u001b[0;34m\u001b[0m\u001b[0;34m\u001b[0m\u001b[0m\n",
      "\u001b[0;31mAttributeError\u001b[0m: 'I3MMCTrackList' object has no attribute 'particle'"
     ]
    }
   ],
   "source": [
    "muon_track = []\n",
    "print(np.shape(track_list))\n",
    "\n",
    "for i in range(len(track_list)):\n",
    "    muon_track.append(track_list[i])\n",
    "    print([i],'Injection point of the muon', muon_track[i].particle.pos)\n",
    "    print('Length that the muon traveled in total', muon_track[i].particle.length)\n",
    "    # Let's calculate the distance the muon traveled *inside the 800m volume*\n",
    "    entering_large_cylinder = dataclasses.I3Position(muon_track[i].xi, muon_track[i].yi, muon_track[i].zi)\n",
    "    print('Point where it enters the 800m volume', entering_large_cylinder)\n",
    "    d_injection_cylinder = (muon_track[i].particle.pos - entering_large_cylinder).magnitude\n",
    "    print('Distance from injection to 800m volume', d_injection_cylinder)\n",
    "    d_inside = muon_track[i].particle.length - d_injection_cylinder\n",
    "\n",
    "    # Ionization energy loss\n",
    "    econstant = 1/4.5 # GeV/m\n",
    "    e_ion = econstant*d_inside\n",
    "    print('Ionization losses', e_ion)\n",
    "\n",
    "    # Sum all the stochastics\n",
    "    daughters = mctree.get_daughters(muon_track[i].particle)\n",
    "    e_stochastic = 0\n",
    "    for d in daughters:\n",
    "        e_stochastic += d.energy\n",
    "\n",
    "    print('Stochastic losses', e_stochastic)\n",
    "    print('Total E lost inside volume', e_stochastic+e_ion)\n",
    "    print('Energy available upon entering volume', muon_track[i].Ei)\n",
    "    \n",
    "    print('Entrance point of the particle (x,y,z)', dataclasses.I3Position(muon_track[i].xi, muon_track[i].yi, muon_track[i].zi))\n",
    "    print('Length that the muon traveled in 800 (Length)', d_inside)\n",
    "\n",
    "    daughters = mctree.get_daughters(muon_track[i].particle)\n",
    "\n",
    "\n",
    "    e_stochastic = 0\n",
    "    for d in daughters:\n",
    "        position=d.pos\n",
    "        if np.sqrt((position.x)**2 + (position.y)**2) <= 500.0 and  position.z>=-500.0 and position.z <= 500.0:\n",
    "            e_stochastic += d.energy\n",
    "    print('Stochastic losses in 500m',e_stochastic)\n"
   ]
  },
  {
   "cell_type": "code",
   "execution_count": null,
   "metadata": {},
   "outputs": [],
   "source": []
  },
  {
   "cell_type": "code",
   "execution_count": null,
   "metadata": {},
   "outputs": [],
   "source": []
  }
 ],
 "metadata": {
  "kernelspec": {
   "display_name": "Python 3",
   "language": "python",
   "name": "python3"
  },
  "language_info": {
   "codemirror_mode": {
    "name": "ipython",
    "version": 2
   },
   "file_extension": ".py",
   "mimetype": "text/x-python",
   "name": "python",
   "nbconvert_exporter": "python",
   "pygments_lexer": "ipython2",
   "version": "2.7.15"
  }
 },
 "nbformat": 4,
 "nbformat_minor": 4
}
