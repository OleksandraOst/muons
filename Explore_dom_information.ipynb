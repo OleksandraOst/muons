{
 "cells": [
  {
   "cell_type": "code",
   "execution_count": 450,
   "metadata": {},
   "outputs": [],
   "source": [
    "from icecube import icetray, dataio, dataclasses, simclasses, phys_services, recclasses\n",
    "import os, sys\n",
    "import numpy as np\n",
    "import matplotlib as mpl\n",
    "from matplotlib.colors import LogNorm, Normalize\n",
    "import matplotlib.pyplot as plt\n",
    "import timeit as time\n",
    "import math\n",
    "from datetime import datetime"
   ]
  },
  {
   "cell_type": "code",
   "execution_count": 451,
   "metadata": {},
   "outputs": [
    {
     "name": "stdout",
     "output_type": "stream",
     "text": [
      "Total files 966\n"
     ]
    }
   ],
   "source": [
    "# Added by JP\n",
    "# Define the directory of your files\n",
    "files_dir = '/data/icecube/domeff_analysis/reco_sim_nominal/0000000-0000999'\n",
    "# List the contents of the entire directory\n",
    "file_list_aux = os.listdir(files_dir)\n",
    "# Only keep those that are I3 files\n",
    "file_list = [x for x in file_list_aux if '.i3.bz2' in x]\n",
    "print('Total files', len(file_list))"
   ]
  },
  {
   "cell_type": "code",
   "execution_count": 452,
   "metadata": {},
   "outputs": [],
   "source": [
    "\n",
    "def inf(num):\n",
    "    infile = dataio.I3File(os.path.join(files_dir,file_list[num]))\n",
    "    frame = infile.pop_physics()   \n",
    "    return frame\n"
   ]
  },
  {
   "cell_type": "code",
   "execution_count": 454,
   "metadata": {},
   "outputs": [
    {
     "name": "stdout",
     "output_type": "stream",
     "text": [
      "[ I3Frame  (Physics):\n",
      "  'AnalysisMuons' [Physics] ==> TreeBase::Tree<I3Particle, I3ParticleID, __gnu_cxx::hash<I3ParticleID> > (174)\n",
      "  'BackgroundCLSim_intermediatePhotons' [DAQ] ==> I3Map<ModuleKey, I3Vector<I3Photon> > (3167)\n",
      "  'BackgroundI3MCPESeriesMap_0.990' [DAQ] ==> I3Map<OMKey, vector<I3MCPE> > (90)\n",
      "  'BackgroundI3MCTree' [DAQ] ==> TreeBase::Tree<I3Particle, I3ParticleID, __gnu_cxx::hash<I3ParticleID> > (1786)\n",
      "  'BackgroundI3MCTree_preMuonProp' [DAQ] ==> TreeBase::Tree<I3Particle, I3ParticleID, __gnu_cxx::hash<I3ParticleID> > (918)\n",
      "  'BackgroundMMCTrackList' [DAQ] ==> I3Vector<I3MMCTrack> (304)\n",
      "  'BeaconLaunches' [DAQ] ==> I3Map<OMKey, vector<I3DOMLaunch> > (46)\n",
      "  'CalibratedWaveformRange' [DAQ] ==> I3TimeWindow (48)\n",
      "  'CascadeFilter_13' [Physics] ==> I3PODHolder<bool> (27)\n",
      "  'CorsikaInteractionHeight' [DAQ] ==> I3PODHolder<double> (36)\n",
      "  'CorsikaWeightMap' [DAQ] ==> I3Map<string, double> (482)\n",
      "  'DCAnalysisHits' [Physics] ==> I3PODHolder<double> (36)\n",
      "  'DCNHits' [Physics] ==> I3PODHolder<double> (36)\n",
      "  'DSTTriggers' [DAQ] ==> I3SuperDSTTriggerSeries (64)\n",
      "  'DebiasingForLineFitNew' [Physics] ==> I3RecoPulseSeriesMapMask (213)\n",
      "  'DeepCoreFilter_13' [Physics] ==> I3PODHolder<bool> (27)\n",
      "  'DeepCoreFilter_TwoLayerExp_13' [Physics] ==> I3PODHolder<bool> (27)\n",
      "  'DeepCoreSMTTriggered' [Physics] ==> I3PODHolder<bool> (27)\n",
      "  'DistAboveEndpoint' [Physics] ==> I3Vector<double> (646)\n",
      "  'DistToBorder' [Physics] ==> I3PODHolder<double> (36)\n",
      "  'EHEFilter_13' [Physics] ==> I3PODHolder<bool> (27)\n",
      "  'EventCharge' [Physics] ==> I3PODHolder<double> (36)\n",
      "  'FSSCandidate_13' [Physics] ==> I3PODHolder<bool> (27)\n",
      "  'FSSFilter_13' [Physics] ==> I3PODHolder<bool> (27)\n",
      "  'FSSFilter_STWC_pulsesTimeRange' [Physics] ==> I3TimeWindow (48)\n",
      "  'FilterMask' [Physics] ==> I3Map<string, I3FilterResult> (891)\n",
      "  'FiniteRecoCutsDOMeff' [Physics] ==> I3FiniteCuts (80)\n",
      "  'FiniteRecoFitDOMeff' [Physics] ==> I3Particle (150)\n",
      "  'FiniteRecoLLHRatio' [Physics] ==> I3PODHolder<double> (36)\n",
      "  'FiniteRecoLlhDOMeff' [Physics] ==> I3StartStopParams (61)\n",
      "  'FiniteReco_FiniteRecoLlhDOMeff_rusage' [Physics] ==> I3RUsage (52)\n",
      "  'FiniteReco_VertexRecoDOMeff_rusage' [Physics] ==> I3RUsage (52)\n",
      "  'FixedRateTriggered' [Physics] ==> I3PODHolder<bool> (27)\n",
      "  'GCFilter_13' [Physics] ==> I3PODHolder<bool> (27)\n",
      "  'HESEFilter_15' [Physics] ==> I3PODHolder<bool> (27)\n",
      "  'HitMultiplicityValues' [Physics] ==> I3HitMultiplicityValues (63)\n",
      "  'HitStatisticsValues' [Physics] ==> I3HitStatisticsValues (155)\n",
      "  'I3EventHeader' [Physics] ==> I3EventHeader (109)\n",
      "  'I3MCPESeriesMap_0.990' [DAQ] ==> I3Map<OMKey, vector<I3MCPE> > (7081)\n",
      "  'I3MCPESeriesMap_0.990WithoutNoise' [DAQ] ==> I3Map<OMKey, vector<I3MCPE> > (3184)\n",
      "  'I3MCPulseSeriesMap' [DAQ] ==> I3Map<OMKey, vector<I3MCPulse> > (5594)\n",
      "  'I3MCPulseSeriesMapParticleIDMap' [DAQ] ==> I3Map<OMKey, map<I3ParticleID, vector<unsigned int, allocator<unsigned int> >, less<I3ParticleID>, allocator<pair<I3ParticleID const, vector<unsigned int, allocator<unsigned int> > > > > > (5521)\n",
      "  'I3MCTree' [DAQ] ==> TreeBase::Tree<I3Particle, I3ParticleID, __gnu_cxx::hash<I3ParticleID> > (6630)\n",
      "  'I3SuperDST' [DAQ] ==> I3SuperDST (469)\n",
      "  'I3TriggerHierarchy' [Physics] ==> I3Tree<I3Trigger> (440)\n",
      "  'I3Triggers' [DAQ] ==> I3Tree<I3Trigger> (230)\n",
      "  'ICAnalysisHits' [Physics] ==> I3PODHolder<double> (36)\n",
      "  'ICNHits' [Physics] ==> I3PODHolder<double> (36)\n",
      "  'IceTopSMTTriggered' [Physics] ==> I3PODHolder<bool> (27)\n",
      "  'IceTopVolumeTriggered' [Physics] ==> I3PODHolder<bool> (27)\n",
      "  'ImpactAngle' [Physics] ==> I3Vector<double> (646)\n",
      "  'InIceDSTPulses' [DAQ] ==> I3RecoPulseSeriesMapMask (416)\n",
      "  'InIcePulses' [DAQ] ==> I3RecoPulseSeriesMapMask (420)\n",
      "  'InIceRawData' [DAQ] ==> I3Map<OMKey, vector<I3DOMLaunch> > (15140)\n",
      "  'InIceSMTTriggered' [Physics] ==> I3PODHolder<bool> (27)\n",
      "  'InIceStringTriggered' [Physics] ==> I3PODHolder<bool> (27)\n",
      "  'L4VetoLayer0' [Physics] ==> I3PODHolder<double> (36)\n",
      "  'L4VetoLayer1' [Physics] ==> I3PODHolder<double> (36)\n",
      "  'L4VetoLayerPulses0' [Physics] ==> I3RecoPulseSeriesMapMask (102)\n",
      "  'L4VetoLayerPulses1' [Physics] ==> I3RecoPulseSeriesMapMask (102)\n",
      "  'L4VetoLayerQTot' [Physics] ==> I3PODHolder<double> (36)\n",
      "  'L4VetoLayerVertexTime' [Physics] ==> I3PODHolder<double> (36)\n",
      "  'LineFitDOMeff' [Physics] ==> I3Particle (150)\n",
      "  'LineFitDOMeffParams' [Physics] ==> I3LineFitParams (71)\n",
      "  'LowUp_13' [Physics] ==> I3PODHolder<bool> (27)\n",
      "  'MESEFilter_15' [Physics] ==> I3PODHolder<bool> (27)\n",
      "  'MMCTrackList' [DAQ] ==> I3Vector<I3MMCTrack> (304)\n",
      "  'MPEFitCramerRaoDOMeffParams' [Physics] ==> CramerRaoParams (135)\n",
      "  'MPEFitDOMeff' [Physics] ==> I3Particle (150)\n",
      "  'MPEFitDOMeffFitParams' [Physics] ==> I3LogLikelihoodFitParams (68)\n",
      "  'MuEx' [Physics] ==> I3Particle (150)\n",
      "  'MuEx_EnUnc' [Physics] ==> I3PODHolder<double> (36)\n",
      "  'MuEx_Sigma' [Physics] ==> I3PODHolder<double> (36)\n",
      "  'MuEx_r' [Physics] ==> I3PODHolder<double> (36)\n",
      "  'MuEx_rlle' [Physics] ==> I3PODHolder<double> (36)\n",
      "  'MuEx_rllt' [Physics] ==> I3PODHolder<double> (36)\n",
      "  'MuonFilter_13' [Physics] ==> I3PODHolder<bool> (27)\n",
      "  'NDirDoms' [Physics] ==> I3PODHolder<double> (36)\n",
      "  'NumVisibleMuons_analysis_region' [Physics] ==> I3PODHolder<double> (36)\n",
      "  'OM' [Physics] ==> I3Vector<double> (646)\n",
      "  'PhotonArrivalAngle' [Physics] ==> I3Vector<double> (646)\n",
      "  'PhysMinBiasTriggered' [Physics] ==> I3PODHolder<bool> (27)\n",
      "  'PoleEHESummaryPulseInfo' [Physics] ==> I3PortiaEvent (172)\n",
      "  'PoleMuonLinefit' [Physics] ==> I3Particle (150)\n",
      "  'PoleMuonLinefitParams' [Physics] ==> I3LineFitParams (71)\n",
      "  'PoleMuonLlhFit' [Physics] ==> I3Particle (150)\n",
      "  'PoleMuonLlhFitDirectHitsBaseA' [Physics] ==> I3DirectHitsValues (126)\n",
      "  'PoleMuonLlhFitDirectHitsBaseB' [Physics] ==> I3DirectHitsValues (126)\n",
      "  'PoleMuonLlhFitDirectHitsBaseC' [Physics] ==> I3DirectHitsValues (126)\n",
      "  'PoleMuonLlhFitDirectHitsBaseD' [Physics] ==> I3DirectHitsValues (126)\n",
      "  'PoleMuonLlhFitFitParams' [Physics] ==> I3LogLikelihoodFitParams (68)\n",
      "  'PoleMuonLlhFitMuE' [Physics] ==> I3Particle (150)\n",
      "  'PoleMuonLlhFit_Finite' [Physics] ==> I3Particle (150)\n",
      "  'PoleMuonLlhFit_FiniteCuts' [Physics] ==> I3FiniteCuts (80)\n",
      "  'PolyplopiaInfo' [DAQ] ==> I3Map<string, double> (69)\n",
      "  'PolyplopiaPrimary' [DAQ] ==> I3Particle (150)\n",
      "  'PrimaryParticle' [DAQ] ==> I3Particle (150)\n",
      "  'RNGState' [DAQ] ==> I3SPRNGRandomServiceState (73)\n",
      "  'RTTWOfflinePulses_FR_WIMP_DOMeff' [Physics] ==> I3RecoPulseSeriesMapMask (335)\n",
      "  'RecoDistance' [Physics] ==> I3Vector<double> (646)\n",
      "  'RecoEndpoint' [Physics] ==> I3Position (54)\n",
      "  'RecoEndpointZ' [Physics] ==> I3PODHolder<double> (36)\n",
      "  'SPEFit2DOMeff' [Physics] ==> I3Particle (150)\n",
      "  'SPEFit2DOMeffFitParams' [Physics] ==> I3LogLikelihoodFitParams (68)\n",
      "  'SPEFitSingleDOMeff' [Physics] ==> I3Particle (150)\n",
      "  'SPEFitSingleDOMeffFitParams' [Physics] ==> I3LogLikelihoodFitParams (68)\n",
      "  'SRTInIcePulsesDOMeff' [Physics] ==> I3RecoPulseSeriesMapMask (290)\n",
      "  'ScintMinBiasTriggered' [Physics] ==> I3PODHolder<bool> (27)\n",
      "  'SignalCLSim_intermediatePhotons' [DAQ] ==> I3Map<ModuleKey, I3Vector<I3Photon> > (82751)\n",
      "  'SignalI3MCPESeriesMap_0.990' [DAQ] ==> I3Map<OMKey, vector<I3MCPE> > (3143)\n",
      "  'SlowParticleTriggered' [Physics] ==> I3PODHolder<bool> (27)\n",
      "  'SplineMPE' [Physics] ==> I3Particle (150)\n",
      "  'SplineMPEDirectHitsA' [Physics] ==> I3DirectHitsValues (126)\n",
      "  'SplineMPEDirectHitsB' [Physics] ==> I3DirectHitsValues (126)\n",
      "  'SplineMPEDirectHitsC' [Physics] ==> I3DirectHitsValues (126)\n",
      "  'SplineMPEDirectHitsD' [Physics] ==> I3DirectHitsValues (126)\n",
      "  'SplineMPEFitParams' [Physics] ==> I3LogLikelihoodFitParams (68)\n",
      "  'SplitInIceDSTPulses' [Physics] ==> I3RecoPulseSeriesMapMask (420)\n",
      "  'SplitInIcePulses' [Physics] ==> I3RecoPulseSeriesMapMask (425)\n",
      "  'SplitUncleanedInIcePulsesHLC_NoDC' [Physics] ==> I3RecoPulseSeriesMapMask (158)\n",
      "  'String' [Physics] ==> I3Vector<double> (646)\n",
      "  'TWOfflinePulses_FR_WIMP_DOMeff' [Physics] ==> I3RecoPulseSeriesMapMask (382)\n",
      "  'TWOfflinePulses_FR_WIMP_DOMeffTimeRange' [Physics] ==> I3TimeWindow (48)\n",
      "  'TimeShift' [DAQ] ==> I3PODHolder<double> (36)\n",
      "  'TotalCharge' [Physics] ==> I3Vector<double> (646)\n",
      "  'TriggerSplitterLaunchWindow' [Physics] ==> I3TimeWindow (48)\n",
      "  'TruthDistance' [Physics] ==> I3Vector<double> (646)\n",
      "  'TruthEndpoint' [Physics] ==> I3Position (54)\n",
      "  'TruthEnergy' [Physics] ==> I3PODHolder<double> (36)\n",
      "  'TruthMuon' [Physics] ==> I3Particle (150)\n",
      "  'VEF_13' [Physics] ==> I3PODHolder<bool> (27)\n",
      "  'VolumeTrigTriggered' [Physics] ==> I3PODHolder<bool> (27)\n",
      "  'rlogl' [Physics] ==> I3PODHolder<double> (36)\n",
      "]\n",
      "\n"
     ]
    }
   ],
   "source": [
    "print(inf(0))\n"
   ]
  },
  {
   "cell_type": "code",
   "execution_count": 463,
   "metadata": {},
   "outputs": [],
   "source": [
    "pulses = inf(0)['SRTInIcePulsesDOMeff'].apply(inf(0))\n",
    "one_dom = pulses.items()"
   ]
  },
  {
   "cell_type": "code",
   "execution_count": 464,
   "metadata": {},
   "outputs": [
    {
     "name": "stdout",
     "output_type": "stream",
     "text": [
      "0.824999988079071\n",
      "1.1749999523162842\n",
      "0.875\n",
      "0.824999988079071\n",
      "0.2750000059604645\n",
      "1.475000023841858\n",
      "1.1749999523162842\n",
      "0.824999988079071\n",
      "1.125\n",
      "1.5750000476837158\n",
      "1.4249999523162842\n",
      "0.32499998807907104\n",
      "1.0750000476837158\n",
      "1.475000023841858\n",
      "0.875\n",
      "1.1749999523162842\n",
      "0.925000011920929\n",
      "1.225000023841858\n",
      "[0.824999988079071, 1.1749999523162842, 0.875, 0.824999988079071, 0.2750000059604645, 1.475000023841858, 1.1749999523162842, 0.824999988079071, 1.125, 1.5750000476837158, 1.4249999523162842, 0.32499998807907104, 1.0750000476837158, 1.475000023841858, 0.875, 1.225000023841858]\n"
     ]
    }
   ],
   "source": [
    "charge = []\n",
    "for i in range(16):  #Sasha: I have 16 here, because it is the first time when we met this \"triplet\" \n",
    "    \n",
    "    for pulse in one_dom[i][1]:\n",
    "        char = 0\n",
    "        char += pulse.charge\n",
    "        print(char) #Sasha: there are three last values of charge\n",
    "    charge.append(char) #Sasha: they do not write down in this array, only one of them is written.  \n",
    "        \n",
    "print(charge)\n",
    "#Sasha: but in the next cell I consider them as a sum, I mean I will have not 1.17, 0.925, 1.225 separately, but their sum"
   ]
  },
  {
   "cell_type": "code",
   "execution_count": 487,
   "metadata": {},
   "outputs": [
    {
     "name": "stdout",
     "output_type": "stream",
     "text": [
      "[0.824999988079071, 1.1749999523162842, 0.875, 0.824999988079071, 0.2750000059604645, 1.475000023841858, 1.1749999523162842, 0.824999988079071, 1.125, 1.5750000476837158, 1.4249999523162842, 0.32499998807907104, 1.0750000476837158, 1.475000023841858, 0.875, 3.324999988079071, 0.625, 3.3000000715255737, 1.125, 0.7749999761581421, 1.375, 0.925000011920929, 1.0750000476837158, 0.675000011920929, 1.375, 1.3250000476837158, 1.0750000476837158, 1.3499999642372131, 1.375, 0.875, 2.649999976158142, 0.7250000238418579, 0.4749999940395355, 1.4249999523162842, 0.7749999761581421, 1.024999976158142, 1.4249999523162842, 0.7250000238418579, 0.22499999403953552, 1.125, 1.1749999523162842, 1.274999976158142, 0.875, 0.925000011920929, 0.42500001192092896, 0.875, 2.574999988079071, 0.875, 2.900000035762787, 3.774999976158142, 3.475000113248825]\n"
     ]
    }
   ],
   "source": [
    "charge = []\n",
    "for i in range(len(one_dom)):  \n",
    "    char = 0\n",
    "    for pulse in one_dom[i][1]:\n",
    "        char += pulse.charge\n",
    "        \n",
    "        \n",
    "    charge.append(char)\n",
    "        \n",
    "print(charge)"
   ]
  },
  {
   "cell_type": "code",
   "execution_count": 466,
   "metadata": {},
   "outputs": [
    {
     "name": "stdout",
     "output_type": "stream",
     "text": [
      "[ I3Frame  (Geometry):\n",
      "  'I3Geometry' [Geometry] ==> I3Geometry (641528)\n",
      "]\n",
      "\n"
     ]
    }
   ],
   "source": [
    "gcd_file = '/cvmfs/icecube.opensciencegrid.org/data/GCD/GeoCalibDetectorStatus_IC86_Merged.i3.gz'\n",
    "\n",
    "gfile = dataio.I3File(gcd_file)\n",
    "gframe = gfile.pop_frame()\n",
    "print(gframe)\n",
    "geometry = gframe['I3Geometry']"
   ]
  },
  {
   "cell_type": "code",
   "execution_count": 467,
   "metadata": {},
   "outputs": [
    {
     "name": "stdout",
     "output_type": "stream",
     "text": [
      "51\n"
     ]
    }
   ],
   "source": [
    "mydom = []\n",
    "for i in range(len(one_dom)):\n",
    "    dom = geometry.omgeo[one_dom[i][0]]    \n",
    "    mydom.append(dom)  \n",
    "    \n",
    "print(len(mydom))\n",
    "#print(mydom[0])\n"
   ]
  },
  {
   "cell_type": "code",
   "execution_count": 478,
   "metadata": {},
   "outputs": [
    {
     "name": "stdout",
     "output_type": "stream",
     "text": [
      "[ I3Particle MajorID : 13469127016857373990\n",
      "             MinorID : 846\n",
      "              Zenith : 0.400847\n",
      "             Azimuth : 1.80333\n",
      "                   X : -227.484\n",
      "                   Y : 1017.22\n",
      "                   Z : 1949.99\n",
      "                Time : 3536.68\n",
      "              Energy : 1054.01\n",
      "               Speed : 0.299792\n",
      "              Length : 3125.59\n",
      "                Type : MuPlus\n",
      "        PDG encoding : -13\n",
      "               Shape : StartingTrack\n",
      "              Status : NotSet\n",
      "            Location : InIce\n",
      "]\n"
     ]
    }
   ],
   "source": [
    "mmctracks = inf(0)['MMCTrackList']\n",
    "track = mmctracks[0].particle\n",
    "print(track)\n"
   ]
  },
  {
   "cell_type": "code",
   "execution_count": 482,
   "metadata": {},
   "outputs": [
    {
     "name": "stdout",
     "output_type": "stream",
     "text": [
      "51\n"
     ]
    }
   ],
   "source": [
    "distance = []\n",
    "for i in range(len(mydom)):\n",
    "    d = phys_services.I3Calculator.cherenkov_distance(track, mydom[i].position)\n",
    "    distance.append(d)\n",
    "print(len(distance))"
   ]
  },
  {
   "cell_type": "code",
   "execution_count": 488,
   "metadata": {},
   "outputs": [],
   "source": [
    "corrected_charge = []\n",
    "for i in range(len(distance)):\n",
    "# This is for adding also the attenuation (absorption + scattering)\n",
    "    att_length = 50. # Typical attenuation length in icecube\n",
    "    corrected = charge[i]*distance[i]#*np.exp(distance/att_length)\n",
    "    corrected_charge.append(corrected)"
   ]
  },
  {
   "cell_type": "code",
   "execution_count": 490,
   "metadata": {},
   "outputs": [
    {
     "name": "stdout",
     "output_type": "stream",
     "text": [
      "51\n",
      "[222.0763055078901, 167.65234550125294, 90.87879437146664, 70.22624541320249, 32.3280058807941, 87.84635247531457, 58.48567357188964, 43.853323474581885, 199.65093749494238, 205.83572456677518, 101.78875708003031, 20.087685112520425, 56.326474720920636, 63.917247745306305, 30.530444785473144, 91.92426364795048, 14.230792672602277, 84.02980064662638, 145.34649795757636, 111.39816999261477, 420.42546298068703, 200.25207647815236, 175.6844459128978, 94.48273255331011, 161.179778497579, 140.79109625569555, 110.38414462387806, 80.54971137983249, 79.88749828800925, 48.8141967257675, 155.96482979729348, 45.35664547689054, 75.50349198575303, 351.0134498294823, 153.79620421796307, 200.1332633587479, 269.3021013764831, 134.78485505776138, 48.89932423766513, 115.99762021723895, 98.24075255388614, 101.74091060807486, 63.26580603753744, 63.48418668450139, 23.245831617524548, 39.831076130185615, 110.32993059738524, 35.376758412388426, 106.06636885481633, 128.34913355697762, 118.64307049674646]\n"
     ]
    }
   ],
   "source": [
    "print(len(corrected_charge))\n",
    "print(corrected_charge)"
   ]
  },
  {
   "cell_type": "code",
   "execution_count": 36,
   "metadata": {},
   "outputs": [],
   "source": [
    "# Try to put it inside a function so that you can pass the puse series to the function, \n",
    "# and obtain a list of corrected charges\n",
    "# Consider looking only at DOMs \"nearby\" (within a maximum distance of 150-200m, no further)"
   ]
  },
  {
   "cell_type": "code",
   "execution_count": 37,
   "metadata": {},
   "outputs": [
    {
     "data": {
      "text/plain": [
       "<function phys-services.I3Calculator.closest_approach_distance>"
      ]
     },
     "execution_count": 37,
     "metadata": {},
     "output_type": "execute_result"
    }
   ],
   "source": [
    "phys_services.I3Calculator.closest_approach_distance"
   ]
  },
  {
   "cell_type": "code",
   "execution_count": 70,
   "metadata": {},
   "outputs": [],
   "source": [
    "\n"
   ]
  },
  {
   "cell_type": "code",
   "execution_count": 247,
   "metadata": {},
   "outputs": [],
   "source": [
    " "
   ]
  },
  {
   "cell_type": "code",
   "execution_count": null,
   "metadata": {},
   "outputs": [],
   "source": []
  },
  {
   "cell_type": "code",
   "execution_count": 147,
   "metadata": {},
   "outputs": [
    {
     "name": "stdout",
     "output_type": "stream",
     "text": [
      "88\n",
      "88\n"
     ]
    }
   ],
   "source": [
    "nfiles = 2\n",
    "\n",
    "char = []\n",
    "\n",
    "for i in range(nfiles):\n",
    "    with dataio.I3File(os.path.join(files_dir, file_list[i])) as infile:\n",
    "        for frame in infile:  \n",
    "            frame = infile.pop_physics()             \n",
    "            fr.append(frame)\n",
    "            pulses = frame['SRTInIcePulsesDOMeff'].apply(frame)\n",
    "        \n",
    "print(len(pulses))\n",
    "#print(pulses)\n",
    "zero = []\n",
    "one = []\n",
    "\n",
    "\n",
    "for i in range(len(pulses)):\n",
    "    one_dom = pulses.popitem()\n",
    "   \n",
    "    charge = 0\n",
    "    for pulse in one_dom[1]:\n",
    "        charge += pulse.charge\n",
    "    #print(charge)\n",
    "    char.append(charge)\n",
    "    zero.append(one_dom[0])\n",
    "    one.append(one_dom[1])\n",
    "    #print(one_dom[0])\n",
    "    \n",
    "print(len(char))\n",
    "#print(char)\n",
    "#print(zero)"
   ]
  },
  {
   "cell_type": "code",
   "execution_count": 148,
   "metadata": {},
   "outputs": [
    {
     "name": "stdout",
     "output_type": "stream",
     "text": [
      "88\n",
      "2588\n",
      "88\n"
     ]
    }
   ],
   "source": [
    "gcd_file = '/cvmfs/icecube.opensciencegrid.org/data/GCD/GeoCalibDetectorStatus_IC86_Merged.i3.gz'\n",
    "\n",
    "gfile = dataio.I3File(gcd_file)\n",
    "\n",
    "dom=[]\n",
    "tr=[]\n",
    "dist = []\n",
    "\n",
    "\n",
    "for i in range(nfiles):\n",
    "    with dataio.I3File(os.path.join(files_dir, file_list[i])) as infile:\n",
    "        for frame in infile:  \n",
    "            frame = infile.pop_physics()             \n",
    "            fr.append(frame)\n",
    "        \n",
    "            mmctracks = frame['MMCTrackList']\n",
    "            track = mmctracks[0].particle\n",
    "            tr.append(track)\n",
    "        \n",
    "        gframe = gfile.pop_frame()    \n",
    "        geometry = gframe['I3Geometry']\n",
    "\n",
    "for j in range(len(zero)):\n",
    "    mydom = geometry.omgeo[zero[j]]\n",
    "    dom.append(mydom)\n",
    "           \n",
    "    distance = phys_services.I3Calculator.cherenkov_distance(track, mydom.position)\n",
    "    dist.append(distance)\n",
    "        \n",
    "print(len(dist))    \n",
    "print(len(tr))\n",
    "print(len(dom))"
   ]
  },
  {
   "cell_type": "code",
   "execution_count": 173,
   "metadata": {},
   "outputs": [
    {
     "data": {
      "text/plain": [
       "50"
      ]
     },
     "execution_count": 173,
     "metadata": {},
     "output_type": "execute_result"
    }
   ],
   "source": [
    "def cor_char(char, dist):\n",
    "\n",
    "  corrected_charge = char * dist\n",
    "  return corrected_charge\n",
    "\n",
    "cor_char(5,10)"
   ]
  },
  {
   "cell_type": "code",
   "execution_count": 172,
   "metadata": {},
   "outputs": [
    {
     "data": {
      "text/plain": [
       "50"
      ]
     },
     "execution_count": 172,
     "metadata": {},
     "output_type": "execute_result"
    }
   ],
   "source": []
  },
  {
   "cell_type": "code",
   "execution_count": 58,
   "metadata": {},
   "outputs": [],
   "source": [
    "list_of_char = []\n",
    "\n",
    "for charge in range(2):\n",
    "    for distance in range(2):\n",
    "        list_of_char.append(cor_char(charge,distance))"
   ]
  },
  {
   "cell_type": "code",
   "execution_count": null,
   "metadata": {},
   "outputs": [],
   "source": []
  },
  {
   "cell_type": "code",
   "execution_count": 59,
   "metadata": {},
   "outputs": [
    {
     "name": "stdout",
     "output_type": "stream",
     "text": [
      "[0, 0, 0, 1]\n"
     ]
    }
   ],
   "source": [
    "print(list_of_char)"
   ]
  },
  {
   "cell_type": "code",
   "execution_count": null,
   "metadata": {},
   "outputs": [],
   "source": [
    "\n",
    "\n",
    "\n",
    "\n",
    "\n",
    "\n",
    "\n",
    "\n",
    "\n",
    "\n",
    "\n",
    "\n"
   ]
  }
 ],
 "metadata": {
  "kernelspec": {
   "display_name": "Python 3",
   "language": "python",
   "name": "python3"
  },
  "language_info": {
   "codemirror_mode": {
    "name": "ipython",
    "version": 3
   },
   "file_extension": ".py",
   "mimetype": "text/x-python",
   "name": "python",
   "nbconvert_exporter": "python",
   "pygments_lexer": "ipython3",
   "version": "3.7.5"
  }
 },
 "nbformat": 4,
 "nbformat_minor": 2
}
