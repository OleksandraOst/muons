{
 "cells": [
  {
   "cell_type": "code",
   "execution_count": 1,
   "metadata": {},
   "outputs": [],
   "source": [
    "from icecube import icetray, dataio, dataclasses, simclasses, phys_services, recclasses\n",
    "import os, sys\n",
    "import numpy as np\n",
    "import matplotlib as mpl\n",
    "from matplotlib.colors import LogNorm, Normalize\n",
    "import matplotlib.pyplot as plt\n",
    "import timeit as time\n",
    "import math\n",
    "from datetime import datetime\n",
    "import timeit"
   ]
  },
  {
   "cell_type": "code",
   "execution_count": 2,
   "metadata": {},
   "outputs": [
    {
     "name": "stdout",
     "output_type": "stream",
     "text": [
      "Total files 966\n"
     ]
    }
   ],
   "source": [
    "# Added by JP\n",
    "# Define the directory of your files\n",
    "files_dir = '/data/icecube/domeff_analysis/reco_sim_nominal/0000000-0000999'\n",
    "# List the contents of the entire directory\n",
    "file_list_aux = os.listdir(files_dir)\n",
    "# Only keep those that are I3 files\n",
    "file_list = [x for x in file_list_aux if '.i3.bz2' in x]\n",
    "print('Total files', len(file_list))"
   ]
  },
  {
   "cell_type": "code",
   "execution_count": 3,
   "metadata": {},
   "outputs": [],
   "source": [
    "sys.path.append('/data/icecube/domeff_analysis/reco_sim_nominal/0000000-0000999')"
   ]
  },
  {
   "cell_type": "code",
   "execution_count": 4,
   "metadata": {},
   "outputs": [
    {
     "name": "stdout",
     "output_type": "stream",
     "text": [
      "Total files 966\n",
      "Total files 966\n"
     ]
    }
   ],
   "source": [
    "import Functions_for_detector\n",
    "import CHARGE"
   ]
  },
  {
   "cell_type": "code",
   "execution_count": 5,
   "metadata": {},
   "outputs": [
    {
     "name": "stdout",
     "output_type": "stream",
     "text": [
      "Total files 966\n"
     ]
    }
   ],
   "source": [
    "import Double"
   ]
  },
  {
   "cell_type": "code",
   "execution_count": 6,
   "metadata": {},
   "outputs": [],
   "source": [
    "nfiles = 1\n",
    "frame_arr = []; mctree = []\n",
    "track_list = []\n",
    "for i in range(nfiles):\n",
    "    # This is your code, but I changed the file name creation\n",
    "    with dataio.I3File(os.path.join(files_dir, file_list[i])) as infile:\n",
    "        for frame in infile:\n",
    "            if infile.stream.id != 'P': continue\n",
    "            frame_arr.append(frame)\n",
    "            mctree.append(frame['I3MCTree']) \n",
    "\n",
    "volume_radius = 500. \n",
    "volume_top    = 500.\n",
    "\n",
    "muon_index = np.zeros(len(frame_arr),dtype=int)\n",
    "counter_single = 0\n",
    "counter_multi_reject = 0"
   ]
  },
  {
   "cell_type": "code",
   "execution_count": 7,
   "metadata": {},
   "outputs": [],
   "source": [
    "single = Functions_for_detector.counters(volume_radius, volume_top, muon_index, counter_single, counter_multi_reject)[0]\n",
    "multi = Functions_for_detector.counters(volume_radius, volume_top, muon_index, counter_single, counter_multi_reject)[1]"
   ]
  },
  {
   "cell_type": "code",
   "execution_count": 8,
   "metadata": {},
   "outputs": [],
   "source": [
    "stoch = Functions_for_detector.stochastic_losses(single, multi, volume_radius, volume_top, muon_index)"
   ]
  },
  {
   "cell_type": "code",
   "execution_count": 9,
   "metadata": {},
   "outputs": [
    {
     "name": "stdout",
     "output_type": "stream",
     "text": [
      "1024\n"
     ]
    }
   ],
   "source": [
    "print(len(stoch))"
   ]
  },
  {
   "cell_type": "code",
   "execution_count": 10,
   "metadata": {},
   "outputs": [],
   "source": [
    "mydom = CHARGE.dis(single, multi,  volume_radius, volume_top)[2]\n",
    "times = CHARGE.dis(single, multi,  volume_radius, volume_top)[3]"
   ]
  },
  {
   "cell_type": "code",
   "execution_count": 11,
   "metadata": {},
   "outputs": [],
   "source": [
    "distance = CHARGE.between(times, mydom)\n",
    "charge = CHARGE.dis(single, multi,  volume_radius, volume_top)[1]"
   ]
  },
  {
   "cell_type": "code",
   "execution_count": 13,
   "metadata": {},
   "outputs": [
    {
     "ename": "TypeError",
     "evalue": "object of type 'numpy.float64' has no len()",
     "output_type": "error",
     "traceback": [
      "\u001b[0;31m---------------------------------------------------------------------------\u001b[0m",
      "\u001b[0;31mTypeError\u001b[0m                                 Traceback (most recent call last)",
      "\u001b[0;32m<ipython-input-13-505213b95674>\u001b[0m in \u001b[0;36m<module>\u001b[0;34m\u001b[0m\n\u001b[0;32m----> 1\u001b[0;31m \u001b[0mprint\u001b[0m\u001b[0;34m(\u001b[0m\u001b[0mlen\u001b[0m\u001b[0;34m(\u001b[0m\u001b[0mCHARGE\u001b[0m\u001b[0;34m.\u001b[0m\u001b[0mcharge\u001b[0m\u001b[0;34m(\u001b[0m\u001b[0mdistance\u001b[0m\u001b[0;34m,\u001b[0m \u001b[0mcharge\u001b[0m\u001b[0;34m)\u001b[0m\u001b[0;34m)\u001b[0m\u001b[0;34m)\u001b[0m\u001b[0;34m\u001b[0m\u001b[0;34m\u001b[0m\u001b[0m\n\u001b[0m\u001b[1;32m      2\u001b[0m \u001b[0mprint\u001b[0m\u001b[0;34m(\u001b[0m\u001b[0mlen\u001b[0m\u001b[0;34m(\u001b[0m\u001b[0mcharge\u001b[0m\u001b[0;34m)\u001b[0m\u001b[0;34m)\u001b[0m\u001b[0;34m\u001b[0m\u001b[0;34m\u001b[0m\u001b[0m\n\u001b[1;32m      3\u001b[0m \u001b[0mprint\u001b[0m\u001b[0;34m(\u001b[0m\u001b[0mdistance\u001b[0m\u001b[0;34m)\u001b[0m\u001b[0;34m\u001b[0m\u001b[0;34m\u001b[0m\u001b[0m\n",
      "\u001b[0;32m/data/icecube/domeff_analysis/reco_sim_nominal/0000000-0000999/CHARGE.py\u001b[0m in \u001b[0;36mcharge\u001b[0;34m(distance, charge)\u001b[0m\n\u001b[1;32m    150\u001b[0m \u001b[0;34m\u001b[0m\u001b[0m\n\u001b[1;32m    151\u001b[0m     \u001b[0mcorrected_charge\u001b[0m \u001b[0;34m=\u001b[0m \u001b[0;34m[\u001b[0m\u001b[0;34m]\u001b[0m\u001b[0;34m\u001b[0m\u001b[0;34m\u001b[0m\u001b[0m\n\u001b[0;32m--> 152\u001b[0;31m     \u001b[0;32mfor\u001b[0m \u001b[0mi\u001b[0m \u001b[0;32min\u001b[0m \u001b[0mrange\u001b[0m\u001b[0;34m(\u001b[0m\u001b[0mlen\u001b[0m\u001b[0;34m(\u001b[0m\u001b[0mdistance\u001b[0m\u001b[0;34m)\u001b[0m\u001b[0;34m)\u001b[0m\u001b[0;34m:\u001b[0m\u001b[0;34m\u001b[0m\u001b[0;34m\u001b[0m\u001b[0m\n\u001b[0m\u001b[1;32m    153\u001b[0m         \u001b[0matt_length\u001b[0m \u001b[0;34m=\u001b[0m \u001b[0;36m50.\u001b[0m\u001b[0;34m\u001b[0m\u001b[0;34m\u001b[0m\u001b[0m\n\u001b[1;32m    154\u001b[0m         \u001b[0;32mif\u001b[0m \u001b[0mdistance\u001b[0m\u001b[0;34m[\u001b[0m\u001b[0mi\u001b[0m\u001b[0;34m]\u001b[0m \u001b[0;34m<=\u001b[0m \u001b[0;36m200.0\u001b[0m\u001b[0;34m:\u001b[0m\u001b[0;34m\u001b[0m\u001b[0;34m\u001b[0m\u001b[0m\n",
      "\u001b[0;31mTypeError\u001b[0m: object of type 'numpy.float64' has no len()"
     ]
    }
   ],
   "source": [
    "print(len(CHARGE.charge(distance, charge)))\n",
    "print(len(charge))\n",
    "print(distance)"
   ]
  },
  {
   "cell_type": "code",
   "execution_count": 31,
   "metadata": {},
   "outputs": [],
   "source": [
    "def corrected(single, multi,  volume_radius, volume_top):\n",
    "    charge = []\n",
    "    times = []\n",
    "    min_time_ar = []\n",
    "    mydom = []\n",
    "    distance = []\n",
    " \n",
    "\n",
    "    for i, frame in enumerate(frame_arr):\n",
    "        # JP: I changed this to run over single muons and fake bundles\n",
    "        if muon_index[i] < 0:\n",
    "        # It's a real bundle, don't go there\n",
    "            continue            \n",
    "            \n",
    "        mmc_tr = frame['MMCTrackList'][int(muon_index[i])]\n",
    "        mctree = frame['I3MCTree']\n",
    "        pulses = frame['SRTInIcePulsesDOMeff'].apply(frame)\n",
    "        one_dom = pulses.items()\n",
    "        \n",
    "    \n",
    "    for i in range(len(one_dom)):\n",
    "        Omkey= one_dom[i][0]\n",
    "        and_time = one_dom[i][1]\n",
    "        #print(Omkey,and_time)\n",
    "\n",
    "        value = []\n",
    "        char = 0\n",
    "        for pulse in one_dom[i][1]:\n",
    "            time_pulse = 0\n",
    "            time_pulse += pulse.time\n",
    "            value.append(time_pulse)\n",
    "            times.append(time_pulse)\n",
    "        \n",
    "            char += pulse.charge\n",
    "            if char > 0 :\n",
    "                charge.append(char)\n",
    "    \n",
    "\n",
    "    min_time_ar.append(min(value))\n",
    "\n",
    " \n",
    "    \n",
    "    for i in range(len(value)-1):\n",
    "        #print(times[len(times) - i - 1])\n",
    "        if times[len(times) - i - 1] != min_time_ar: del times[len(times) - i - 1]\n",
    "    #print(times)\n",
    "\n",
    "   \n",
    "     \n",
    "\n",
    "    \n",
    "   \n",
    "    for i in range(len(one_dom)):\n",
    "        dom = geometry.omgeo[one_dom[i][0]]    \n",
    "        mydom.append(dom) \n",
    "        \n",
    "    mmctracks = frame['MMCTrackList']\n",
    "    track = mmctracks[0].particle\n",
    "    \n",
    "    x_f = y_f = z_f = 0\n",
    "    x_e = y_e = z_e = 0\n",
    "    for i in range(len(mydom)):\n",
    "        if times[i] == max(times):\n",
    "            x_f = mydom[i].position.x\n",
    "            y_f = mydom[i].position.y\n",
    "            z_f = mydom[i].position.z\n",
    "            \n",
    "    for i in range(len(mydom)):\n",
    "        if times[i] == min(times):\n",
    "            x_e = mydom[i].position.x\n",
    "            y_e = mydom[i].position.y\n",
    "            z_e = mydom[i].position.z\n",
    "   \n",
    "    dis = np.sqrt((x_f - x_e)**2 + (y_f - y_e)**2 + (z_f - z_e)**2)\n",
    "    \n",
    "    \n",
    "    for i in range(len(mydom)):\n",
    "        d = phys_services.I3Calculator.cherenkov_distance(track, mydom[i].position)\n",
    "        distance.append(d)\n",
    "    #print(len(distance))\n",
    "    #print(len(charge))\n",
    "    \n",
    "    corrected_charge = []\n",
    "    for i in range(len(distance)):\n",
    "        att_length = 50. \n",
    "        if distance[i] <= 200.0:\n",
    "            corrected = charge[i]*distance[i]\n",
    "            corrected_charge.append(corrected)\n",
    "        \n",
    "    \n",
    "    return corrected_charge, dis, times, one_dom   \n"
   ]
  },
  {
   "cell_type": "code",
   "execution_count": 13,
   "metadata": {},
   "outputs": [
    {
     "data": {
      "text/plain": [
       "379"
      ]
     },
     "execution_count": 13,
     "metadata": {},
     "output_type": "execute_result"
    }
   ],
   "source": [
    "def corrected(single, multi,  volume_radius, volume_top):\n",
    "    pulses = frame['SRTInIcePulsesDOMeff'].apply(frame)\n",
    "    one_dom = pulses.items()\n",
    "    \n",
    "    muon_index = np.zeros(len(frame_arr),dtype=int)\n",
    "    charge = []\n",
    "    times = []\n",
    "    min_time_ar = []\n",
    "    mydom = []\n",
    "    distance = []\n",
    "    \n",
    "\n",
    "\n",
    "\n",
    "    for i, frame in enumerate(frame_arr):\n",
    "        if muon_index[i] < 0:\n",
    "            continue   \n",
    "    \n",
    "    for i in range(len(one_dom)):\n",
    "        Omkey= one_dom[i][0]\n",
    "        and_time = one_dom[i][1]\n",
    "        #print(Omkey,and_time)\n",
    "\n",
    "        value = []\n",
    "        char = 0\n",
    "        for pulse in one_dom[i][1]:\n",
    "            time_pulse = 0\n",
    "            time_pulse += pulse.time\n",
    "            value.append(time_pulse)\n",
    "            times.append(time_pulse)\n",
    "        \n",
    "            char += pulse.charge\n",
    "            if char > 0 :\n",
    "                charge.append(char)\n",
    "    \n",
    "\n",
    "    min_time_ar.append(min(value))\n",
    "\n",
    " \n",
    "    \n",
    "    for i in range(len(value)-1):\n",
    "        #print(times[len(times) - i - 1])\n",
    "        if times[len(times) - i - 1] != min_time_ar: del times[len(times) - i - 1]\n",
    "    #print(times)\n",
    "\n",
    "   \n",
    "     \n",
    "    \n",
    "    gcd_file = '/cvmfs/icecube.opensciencegrid.org/data/GCD/GeoCalibDetectorStatus_IC86_Merged.i3.gz'\n",
    "    gfile = dataio.I3File(gcd_file)\n",
    "    gframe = gfile.pop_frame()\n",
    "    geometry = gframe['I3Geometry']\n",
    "    \n",
    "   \n",
    "    for i in range(len(one_dom)):\n",
    "        dom = geometry.omgeo[one_dom[i][0]]    \n",
    "        mydom.append(dom) \n",
    "        \n",
    "    mmctracks = frame['MMCTrackList']\n",
    "    track = mmctracks[0].particle\n",
    "    \n",
    "    x_f = y_f = z_f = 0\n",
    "    x_e = y_e = z_e = 0\n",
    "    for i in range(len(mydom)):\n",
    "        if times[i] == max(times):\n",
    "            x_f = mydom[i].position.x\n",
    "            y_f = mydom[i].position.y\n",
    "            z_f = mydom[i].position.z\n",
    "            \n",
    "    for i in range(len(mydom)):\n",
    "        if times[i] == min(times):\n",
    "            x_e = mydom[i].position.x\n",
    "            y_e = mydom[i].position.y\n",
    "            z_e = mydom[i].position.z\n",
    "   \n",
    "    dis = np.sqrt((x_f - x_e)**2 + (y_f - y_e)**2 + (z_f - z_e)**2)\n",
    "    \n",
    "    \n",
    "    for i in range(len(mydom)):\n",
    "        d = phys_services.I3Calculator.cherenkov_distance(track, mydom[i].position)\n",
    "        distance.append(d)\n",
    "    #print(len(distance))\n",
    "    #print(len(charge))\n",
    "    \n",
    "    corrected_charge = []\n",
    "    for i in range(len(distance)):\n",
    "        att_length = 50. \n",
    "        if distance[i] <= 200.0:\n",
    "            corrected = charge[i]*distance[i]\n",
    "            corrected_charge.append(corrected)\n",
    "        \n",
    "    \n",
    "    return corrected_charge, dis, times, one_dom"
   ]
  },
  {
   "cell_type": "code",
   "execution_count": null,
   "metadata": {},
   "outputs": [],
   "source": []
  }
 ],
 "metadata": {
  "kernelspec": {
   "display_name": "Python 3",
   "language": "python",
   "name": "python3"
  },
  "language_info": {
   "codemirror_mode": {
    "name": "ipython",
    "version": 3
   },
   "file_extension": ".py",
   "mimetype": "text/x-python",
   "name": "python",
   "nbconvert_exporter": "python",
   "pygments_lexer": "ipython3",
   "version": "3.7.5"
  }
 },
 "nbformat": 4,
 "nbformat_minor": 4
}
