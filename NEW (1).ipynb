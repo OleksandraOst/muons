{
 "cells": [
  {
   "cell_type": "code",
   "execution_count": 1,
   "metadata": {},
   "outputs": [],
   "source": [
    "from icecube import icetray, dataio, dataclasses, simclasses, phys_services, recclasses\n",
    "import os, sys\n",
    "import numpy as np\n",
    "import matplotlib as mpl\n",
    "from matplotlib.colors import LogNorm, Normalize\n",
    "import matplotlib.pyplot as plt\n",
    "import timeit as time\n",
    "import math\n",
    "from datetime import datetime\n",
    "import timeit"
   ]
  },
  {
   "cell_type": "code",
   "execution_count": 2,
   "metadata": {},
   "outputs": [
    {
     "name": "stdout",
     "output_type": "stream",
     "text": [
      "Total files 966\n"
     ]
    }
   ],
   "source": [
    "\n",
    "files_dir = '/data/icecube/domeff_analysis/reco_sim_nominal/0000000-0000999'\n",
    "# List the contents of the entire directory\n",
    "file_list_aux = os.listdir(files_dir)\n",
    "# Only keep those that are I3 files\n",
    "file_list = [x for x in file_list_aux if '.i3.bz2' in x]\n",
    "print('Total files', len(file_list))"
   ]
  },
  {
   "cell_type": "code",
   "execution_count": 3,
   "metadata": {},
   "outputs": [],
   "source": [
    "sys.path.append('/data/icecube/domeff_analysis/reco_sim_nominal/0000000-0000999')"
   ]
  },
  {
   "cell_type": "code",
   "execution_count": 4,
   "metadata": {},
   "outputs": [
    {
     "name": "stdout",
     "output_type": "stream",
     "text": [
      "Total files 966\n"
     ]
    }
   ],
   "source": [
    "import Functions_for_detector\n"
   ]
  },
  {
   "cell_type": "code",
   "execution_count": 5,
   "metadata": {},
   "outputs": [
    {
     "name": "stdout",
     "output_type": "stream",
     "text": [
      "Total files 966\n"
     ]
    }
   ],
   "source": [
    "import Corrected_function"
   ]
  },
  {
   "cell_type": "code",
   "execution_count": 6,
   "metadata": {},
   "outputs": [],
   "source": [
    "nfiles = 1\n",
    "\n",
    "frame_arr = []; mctree = []\n",
    "volume_radius = 500. # In meters\n",
    "volume_top    = 500. # In meters\n",
    "counter_single = 0\n",
    "counter_multi_reject = 0"
   ]
  },
  {
   "cell_type": "code",
   "execution_count": 7,
   "metadata": {},
   "outputs": [],
   "source": [
    "single = Functions_for_detector.counters(volume_radius, volume_top, counter_single, counter_multi_reject)[0]\n",
    "multi = Functions_for_detector.counters(volume_radius, volume_top, counter_single, counter_multi_reject)[1]\n",
    "muon_index = Functions_for_detector.counters(volume_radius, volume_top, counter_single, counter_multi_reject)[2]"
   ]
  },
  {
   "cell_type": "code",
   "execution_count": 8,
   "metadata": {},
   "outputs": [
    {
     "name": "stdout",
     "output_type": "stream",
     "text": [
      "1403\n"
     ]
    }
   ],
   "source": [
    "print(len(muon_index))"
   ]
  },
  {
   "cell_type": "code",
   "execution_count": 9,
   "metadata": {},
   "outputs": [
    {
     "name": "stdout",
     "output_type": "stream",
     "text": [
      "1024\n"
     ]
    }
   ],
   "source": [
    "mu = []\n",
    "for i in range(len(muon_index)):\n",
    "    if muon_index[i] < 0 : continue\n",
    "    mu.append(muon_index[i])\n",
    "mu = np.array(mu)\n",
    "print(len(mu))"
   ]
  },
  {
   "cell_type": "code",
   "execution_count": 10,
   "metadata": {},
   "outputs": [],
   "source": [
    "stoch = Functions_for_detector.stochastic_losses(single, multi, volume_radius, volume_top, muon_index)"
   ]
  },
  {
   "cell_type": "code",
   "execution_count": 11,
   "metadata": {},
   "outputs": [
    {
     "name": "stdout",
     "output_type": "stream",
     "text": [
      "1024\n"
     ]
    }
   ],
   "source": [
    "print(len(stoch))"
   ]
  },
  {
   "cell_type": "code",
   "execution_count": 12,
   "metadata": {},
   "outputs": [],
   "source": [
    "frame_arr = []; mctree = []\n",
    "stoch_ar = []\n",
    "\n",
    "total_ar = []\n",
    "std_ar =[]\n",
    "\n",
    "\n",
    "for i in range(nfiles):\n",
    "    with dataio.I3File(os.path.join(files_dir,file_list[i])) as infile:\n",
    "        for frame in infile:\n",
    "            if infile.stream.id != 'P': continue \n",
    "            frame_arr.append(frame)\n",
    "            mctree.append(frame['I3MCTree'])"
   ]
  },
  {
   "cell_type": "code",
   "execution_count": 13,
   "metadata": {},
   "outputs": [],
   "source": [
    "corrected_charge = Corrected_function.func(frame,frame_arr, counter_single,counter_multi_reject,volume_radius, volume_top, muon_index)[0]"
   ]
  },
  {
   "cell_type": "code",
   "execution_count": 14,
   "metadata": {},
   "outputs": [],
   "source": [
    "#between first and last doms\n",
    "distance = Corrected_function.func(frame,frame_arr, counter_single,counter_multi_reject,  volume_radius, volume_top, muon_index)[1]"
   ]
  },
  {
   "cell_type": "code",
   "execution_count": 15,
   "metadata": {},
   "outputs": [
    {
     "name": "stdout",
     "output_type": "stream",
     "text": [
      "1024\n",
      "505.56831423102847\n"
     ]
    }
   ],
   "source": [
    "print(len(corrected_charge))\n",
    "print(distance) #distance between the first and last DOMs"
   ]
  },
  {
   "cell_type": "code",
   "execution_count": 16,
   "metadata": {},
   "outputs": [
    {
     "data": {
      "image/png": "[encoded data removed]",
      "text/plain": [
       "<Figure size 432x288 with 2 Axes>"
      ]
     },
     "metadata": {
      "needs_background": "light"
     },
     "output_type": "display_data"
    }
   ],
   "source": [
    "plt.yscale('log')\n",
    "plt.hist2d(stoch, corrected_charge , bins=(250, 250), cmap=plt.cm.jet)\n",
    "plt.colorbar()\n",
    "plt.xlim(0,300)\n",
    "plt.ylim(10,500)\n",
    "\n",
    "plt.title('Stochastic and corrected charge')\n",
    "plt.show()"
   ]
  },
  {
   "cell_type": "code",
   "execution_count": 17,
   "metadata": {},
   "outputs": [],
   "source": [
    "from icecube.weighting import fluxes\n",
    "#fluxes.GaisserH3a\n",
    "flux_to_use = fluxes.GaisserH4a()"
   ]
  },
  {
   "cell_type": "code",
   "execution_count": 18,
   "metadata": {},
   "outputs": [],
   "source": [
    "def getCorsikaWeight(corsika_weight_map, myflux):\n",
    "    corsika_weight_map = frame['CorsikaWeightMap']\n",
    "    pflux = myflux(corsika_weight_map['PrimaryEnergy'], corsika_weight_map['PrimaryType'])\n",
    "    energy_integral = (corsika_weight_map['EnergyPrimaryMax']**(corsika_weight_map[\"PrimarySpectralIndex\"]+1)-\n",
    "                   corsika_weight_map['EnergyPrimaryMin']**(corsika_weight_map[\"PrimarySpectralIndex\"]+1))/(\n",
    "    corsika_weight_map[\"PrimarySpectralIndex\"]+1)\n",
    "    energy_weight = corsika_weight_map['PrimaryEnergy']**corsika_weight_map[\"PrimarySpectralIndex\"]\n",
    "    w = pflux *energy_integral/energy_weight * corsika_weight_map[\"AreaSum\"] / (corsika_weight_map['NEvents'])\n",
    "    return w"
   ]
  },
  {
   "cell_type": "code",
   "execution_count": 19,
   "metadata": {},
   "outputs": [],
   "source": [
    "events = []\n",
    "for i in range(nfiles):\n",
    "    with dataio.I3File(os.path.join(files_dir,file_list[i])) as infile:\n",
    "        for frame in infile:\n",
    "            if infile.stream.id != 'P': continue\n",
    "            cwm = frame['CorsikaWeightMap']\n",
    "            event_weight = getCorsikaWeight(cwm, flux_to_use)\n",
    "            events.append(event_weight)"
   ]
  },
  {
   "cell_type": "code",
   "execution_count": 20,
   "metadata": {},
   "outputs": [
    {
     "name": "stdout",
     "output_type": "stream",
     "text": [
      "1403\n"
     ]
    }
   ],
   "source": [
    "print(len(events))"
   ]
  },
  {
   "cell_type": "code",
   "execution_count": null,
   "metadata": {},
   "outputs": [],
   "source": []
  },
  {
   "cell_type": "code",
   "execution_count": 16,
   "metadata": {},
   "outputs": [],
   "source": []
  },
  {
   "cell_type": "code",
   "execution_count": null,
   "metadata": {},
   "outputs": [],
   "source": []
  },
  {
   "cell_type": "code",
   "execution_count": 5,
   "metadata": {},
   "outputs": [],
   "source": [
    "nfiles = 1\n",
    "frame_arr = []; mctree = []\n",
    "track_list = []\n",
    "for i in range(nfiles):\n",
    "    # This is your code, but I changed the file name creation\n",
    "    with dataio.I3File(os.path.join(files_dir, file_list[i])) as infile:\n",
    "        for frame in infile:\n",
    "            if infile.stream.id != 'P': continue\n",
    "            frame_arr.append(frame)\n",
    "            mctree.append(frame['I3MCTree']) \n",
    "            \n",
    "            \n",
    "            \n",
    "volume_radius = 500. \n",
    "volume_top    = 500.\n",
    "\n",
    "\n",
    "counter_single = 0\n",
    "counter_multi_reject = 0\n",
    "\n",
    "def counters(volume_radius, volume_top, counter_single, counter_multi_reject):\n",
    "    muon_index = np.zeros(len(frame_arr),dtype=int)\n",
    "    for index, frame in enumerate(frame_arr):\n",
    "        mmc_tracks = frame['MMCTrackList']\n",
    "    \n",
    "        if len(mmc_tracks) == 1:\n",
    "            muon_index[index] = 0\n",
    "            counter_single += 1\n",
    "        else:\n",
    "        # If more than one muon in the event, I need to find out their decay point\n",
    "        # And whether they entered the detector\n",
    "            muons_in_volume = 0\n",
    "            for itrack, one_track in enumerate(mmc_tracks):\n",
    "            # Check if the closest approach of the muon to the origin is within the detector radius\n",
    "                if (np.sqrt(one_track.xc**2 + one_track.yc**2) < volume_radius) and (-volume_top<one_track.zc<volume_top):\n",
    "                # If I land here, this muon could have entered my volume. Let's find out where it decayed\n",
    "                    if one_track.particle.shift_along_track(one_track.particle.length).z < volume_top:\n",
    "                    # This muon decayed under 500m, so it entered the volume.              \n",
    "                        muons_in_volume += 1\n",
    "                        muon_index[index] = itrack\n",
    "        # After looping, check how many muons in volume I counted. If more than one, this is a bad event!\n",
    "            if muons_in_volume > 1:\n",
    "                muon_index[index] = -1\n",
    "                counter_multi_reject += 1\n",
    "    return counter_single, counter_multi_reject, muon_index"
   ]
  },
  {
   "cell_type": "code",
   "execution_count": 8,
   "metadata": {},
   "outputs": [],
   "source": [
    "muon_index = counters(volume_radius, volume_top, counter_single, counter_multi_reject)[2] "
   ]
  },
  {
   "cell_type": "code",
   "execution_count": 115,
   "metadata": {},
   "outputs": [],
   "source": [
    "\n",
    "    \n",
    "\n",
    "\n",
    "def func(frame,frame_arr, counter_single,counter_multi_reject,  volume_radius, volume_top, muon_index):\n",
    "    \n",
    "    corrected_charge = []\n",
    "    distance = []\n",
    "    charge = []\n",
    "    times = []\n",
    "    value = []\n",
    "    mydom = []\n",
    "    min_time_ar = []\n",
    "    \n",
    "    for i, frame in enumerate(frame_arr):\n",
    "       \n",
    "        if muon_index[i] < 0:\n",
    "        \n",
    "            continue\n",
    "        \n",
    "        mmc_tr = frame['MMCTrackList'][int(muon_index[i])]\n",
    "        mctree = frame['I3MCTree']\n",
    "        pulses = frame['SRTInIcePulsesDOMeff'].apply(frame)\n",
    "        one_dom = pulses.items()\n",
    "    \n",
    "\n",
    "    \n",
    "        gcd_file = '/cvmfs/icecube.opensciencegrid.org/data/GCD/GeoCalibDetectorStatus_IC86_Merged.i3.gz'\n",
    "        gfile = dataio.I3File(gcd_file)\n",
    "        gframe = gfile.pop_frame()\n",
    "        geometry = gframe['I3Geometry']\n",
    "        \n",
    "        for i in range(len(one_dom)):\n",
    "            Omkey= one_dom[i][0]\n",
    "            and_time = one_dom[i][1]\n",
    "        \n",
    "\n",
    "        \n",
    "        char = 0\n",
    "        for pulse in one_dom[i][1]:\n",
    "            time_pulse = 0\n",
    "            time_pulse += pulse.time\n",
    "            char += pulse.charge\n",
    "            \n",
    "            value.append(time_pulse)\n",
    "        \n",
    "        charge.append(char)\n",
    "        times.append(time_pulse)\n",
    "\n",
    "        \n",
    "        for i in range(len(one_dom)):\n",
    "            dom = geometry.omgeo[one_dom[i][0]]\n",
    "        mydom.append(dom)\n",
    "        \n",
    "\n",
    "        mmctracks = frame['MMCTrackList']\n",
    "        track = mmctracks[0].particle\n",
    "        x_f = y_f = z_f = 0\n",
    "        x_e = y_e = z_e = 0\n",
    "        for i in range(len(mydom)):\n",
    "            if times[i] == max(times):\n",
    "                x_f = mydom[i].position.x\n",
    "                y_f = mydom[i].position.y\n",
    "                z_f = mydom[i].position.z\n",
    "            \n",
    "        for i in range(len(mydom)):\n",
    "            if times[i] == min(times):\n",
    "                x_e = mydom[i].position.x\n",
    "                y_e = mydom[i].position.y\n",
    "                z_e = mydom[i].position.z\n",
    "   \n",
    "        distance_between = np.sqrt((x_f - x_e)**2 + (y_f - y_e)**2 + (z_f - z_e)**2)\n",
    "        \n",
    "        \n",
    "        for i in range(len(mydom)):\n",
    "            d = phys_services.I3Calculator.cherenkov_distance(track, mydom[i].position)\n",
    "        distance.append(d)\n",
    "        \n",
    "        \n",
    "        \n",
    "        corrected = 0\n",
    "        \n",
    "        for i in range(len(distance)):\n",
    "            att_length = 50. \n",
    "            if distance[i] <= 200.0:corrected = charge[i]*distance[i]\n",
    "        corrected_charge.append(corrected)\n",
    "    \n",
    "    corrected_charge = np.array(corrected_charge)\n",
    "    distance = np.array(distance)\n",
    "    times = np.array(times)\n",
    "    value = np.array(value)\n",
    "\n",
    "    return corrected_charge, distance_between\n",
    "    \n",
    "\n",
    "    \n"
   ]
  },
  {
   "cell_type": "code",
   "execution_count": 116,
   "metadata": {},
   "outputs": [
    {
     "name": "stdout",
     "output_type": "stream",
     "text": [
      "1024\n"
     ]
    }
   ],
   "source": [
    "print(len(func(frame,frame_arr, counter_single,counter_multi_reject,volume_radius, volume_top, muon_index)[0]))"
   ]
  },
  {
   "cell_type": "code",
   "execution_count": 117,
   "metadata": {},
   "outputs": [
    {
     "data": {
      "text/plain": [
       "array([118.6430705 , 248.64235443,  77.32922324, ..., 139.86582144,\n",
       "       139.86582144, 139.86582144])"
      ]
     },
     "execution_count": 117,
     "metadata": {},
     "output_type": "execute_result"
    }
   ],
   "source": [
    "func(frame,frame_arr, counter_single,counter_multi_reject,volume_radius, volume_top, muon_index)[0]"
   ]
  },
  {
   "cell_type": "code",
   "execution_count": null,
   "metadata": {},
   "outputs": [],
   "source": []
  },
  {
   "cell_type": "code",
   "execution_count": 119,
   "metadata": {},
   "outputs": [],
   "source": [
    "h= func(frame,frame_arr, counter_single,counter_multi_reject,volume_radius, volume_top, muon_index)[0]"
   ]
  },
  {
   "cell_type": "code",
   "execution_count": 122,
   "metadata": {},
   "outputs": [
    {
     "data": {
      "text/plain": [
       "Text(0, 0.5, 'Events')"
      ]
     },
     "execution_count": 122,
     "metadata": {},
     "output_type": "execute_result"
    },
    {
     "data": {
      "image/png": "[encoded data removed]",
      "text/plain": [
       "<Figure size 432x288 with 1 Axes>"
      ]
     },
     "metadata": {
      "needs_background": "light"
     },
     "output_type": "display_data"
    }
   ],
   "source": [
    "plt.hist(h, np.arange(0, 300, 5))\n",
    "plt.yscale('log')\n",
    "plt.xlabel('Sum of stochastic losses in IceCube volume (GeV)')\n",
    "plt.ylabel('Events')"
   ]
  },
  {
   "cell_type": "code",
   "execution_count": null,
   "metadata": {},
   "outputs": [],
   "source": []
  },
  {
   "cell_type": "code",
   "execution_count": 21,
   "metadata": {},
   "outputs": [],
   "source": [
    "def corrected(single, multi,muon_index,volume_radius, volume_top):\n",
    "    charge = []\n",
    "    times = []\n",
    "    min_time_ar = []\n",
    "    mydom = []\n",
    "    distance = []\n",
    " \n",
    "\n",
    "    for i, frame in enumerate(frame_arr):\n",
    "        \n",
    "        if muon_index[i] >= 0 :continue            \n",
    "            \n",
    "        mmc_tr = frame['MMCTrackList'][int(muon_index[i])]\n",
    "        mctree = frame['I3MCTree']\n",
    "        pulses = frame['SRTInIcePulsesDOMeff'].apply(frame)\n",
    "        one_dom = pulses.items()\n",
    "        \n",
    "    \n",
    "    for i in range(len(one_dom)):\n",
    "        Omkey= one_dom[i][0]\n",
    "        and_time = one_dom[i][1]\n",
    "        #print(Omkey,and_time)\n",
    "\n",
    "        value = []\n",
    "        char = 0\n",
    "        for pulse in one_dom[i][1]:\n",
    "            time_pulse = 0\n",
    "            time_pulse += pulse.time\n",
    "            value.append(time_pulse)\n",
    "            times.append(time_pulse)\n",
    "        \n",
    "            char += pulse.charge\n",
    "            if char > 0 :\n",
    "                charge.append(char)\n",
    "    \n",
    "\n",
    "    min_time_ar.append(min(value))\n",
    "\n",
    " \n",
    "    \n",
    "    for i in range(len(value)-1):\n",
    "        #print(times[len(times) - i - 1])\n",
    "        if times[len(times) - i - 1] != min_time_ar: del times[len(times) - i - 1]\n",
    "    #print(times)\n",
    "\n",
    "   \n",
    "     \n",
    "\n",
    "    \n",
    "   \n",
    "    for i in range(len(one_dom)):\n",
    "        dom = geometry.omgeo[one_dom[i][0]]    \n",
    "        mydom.append(dom) \n",
    "        \n",
    "    mmctracks = frame['MMCTrackList']\n",
    "    track = mmctracks[0].particle\n",
    "    \n",
    "    x_f = y_f = z_f = 0\n",
    "    x_e = y_e = z_e = 0\n",
    "    for i in range(len(mydom)):\n",
    "        if times[i] == max(times):\n",
    "            x_f = mydom[i].position.x\n",
    "            y_f = mydom[i].position.y\n",
    "            z_f = mydom[i].position.z\n",
    "            \n",
    "    for i in range(len(mydom)):\n",
    "        if times[i] == min(times):\n",
    "            x_e = mydom[i].position.x\n",
    "            y_e = mydom[i].position.y\n",
    "            z_e = mydom[i].position.z\n",
    "   \n",
    "    dis = np.sqrt((x_f - x_e)**2 + (y_f - y_e)**2 + (z_f - z_e)**2)\n",
    "    \n",
    "    \n",
    "    for i in range(len(mydom)):\n",
    "        d = phys_services.I3Calculator.cherenkov_distance(track, mydom[i].position)\n",
    "        distance.append(d)\n",
    "    #print(len(distance))\n",
    "    #print(len(charge))\n",
    "    \n",
    "    corrected_charge = []\n",
    "    for i in range(len(distance)):\n",
    "        att_length = 50. \n",
    "        if distance[i] <= 200.0:\n",
    "            corrected = charge[i]*distance[i]\n",
    "            corrected_charge.append(corrected)\n",
    "        \n",
    "    \n",
    "    return corrected_charge, dis, times, one_dom   \n"
   ]
  },
  {
   "cell_type": "code",
   "execution_count": 24,
   "metadata": {},
   "outputs": [
    {
     "ename": "UnboundLocalError",
     "evalue": "local variable 'frame' referenced before assignment",
     "output_type": "error",
     "traceback": [
      "\u001b[0;31m---------------------------------------------------------------------------\u001b[0m",
      "\u001b[0;31mUnboundLocalError\u001b[0m                         Traceback (most recent call last)",
      "\u001b[0;32m<ipython-input-24-c3bb237d1b06>\u001b[0m in \u001b[0;36m<module>\u001b[0;34m\u001b[0m\n\u001b[0;32m----> 1\u001b[0;31m \u001b[0mprint\u001b[0m\u001b[0;34m(\u001b[0m\u001b[0mcorrected\u001b[0m\u001b[0;34m(\u001b[0m\u001b[0msingle\u001b[0m\u001b[0;34m,\u001b[0m \u001b[0mmulti\u001b[0m\u001b[0;34m,\u001b[0m\u001b[0mvolume_radius\u001b[0m\u001b[0;34m,\u001b[0m \u001b[0mvolume_top\u001b[0m\u001b[0;34m)\u001b[0m\u001b[0;34m[\u001b[0m\u001b[0;36m0\u001b[0m\u001b[0;34m]\u001b[0m\u001b[0;34m)\u001b[0m\u001b[0;34m\u001b[0m\u001b[0;34m\u001b[0m\u001b[0m\n\u001b[0m",
      "\u001b[0;32m<ipython-input-23-6a9f0390d0e4>\u001b[0m in \u001b[0;36mcorrected\u001b[0;34m(single, multi, volume_radius, volume_top)\u001b[0m\n\u001b[1;32m      1\u001b[0m \u001b[0;32mdef\u001b[0m \u001b[0mcorrected\u001b[0m\u001b[0;34m(\u001b[0m\u001b[0msingle\u001b[0m\u001b[0;34m,\u001b[0m \u001b[0mmulti\u001b[0m\u001b[0;34m,\u001b[0m  \u001b[0mvolume_radius\u001b[0m\u001b[0;34m,\u001b[0m \u001b[0mvolume_top\u001b[0m\u001b[0;34m)\u001b[0m\u001b[0;34m:\u001b[0m\u001b[0;34m\u001b[0m\u001b[0;34m\u001b[0m\u001b[0m\n\u001b[0;32m----> 2\u001b[0;31m     \u001b[0mpulses\u001b[0m \u001b[0;34m=\u001b[0m \u001b[0mframe\u001b[0m\u001b[0;34m[\u001b[0m\u001b[0;34m'SRTInIcePulsesDOMeff'\u001b[0m\u001b[0;34m]\u001b[0m\u001b[0;34m.\u001b[0m\u001b[0mapply\u001b[0m\u001b[0;34m(\u001b[0m\u001b[0mframe\u001b[0m\u001b[0;34m)\u001b[0m\u001b[0;34m\u001b[0m\u001b[0;34m\u001b[0m\u001b[0m\n\u001b[0m\u001b[1;32m      3\u001b[0m     \u001b[0mone_dom\u001b[0m \u001b[0;34m=\u001b[0m \u001b[0mpulses\u001b[0m\u001b[0;34m.\u001b[0m\u001b[0mitems\u001b[0m\u001b[0;34m(\u001b[0m\u001b[0;34m)\u001b[0m\u001b[0;34m\u001b[0m\u001b[0;34m\u001b[0m\u001b[0m\n\u001b[1;32m      4\u001b[0m \u001b[0;34m\u001b[0m\u001b[0m\n\u001b[1;32m      5\u001b[0m     \u001b[0mmuon_index\u001b[0m \u001b[0;34m=\u001b[0m \u001b[0mnp\u001b[0m\u001b[0;34m.\u001b[0m\u001b[0mzeros\u001b[0m\u001b[0;34m(\u001b[0m\u001b[0mlen\u001b[0m\u001b[0;34m(\u001b[0m\u001b[0mframe_arr\u001b[0m\u001b[0;34m)\u001b[0m\u001b[0;34m,\u001b[0m\u001b[0mdtype\u001b[0m\u001b[0;34m=\u001b[0m\u001b[0mint\u001b[0m\u001b[0;34m)\u001b[0m\u001b[0;34m\u001b[0m\u001b[0;34m\u001b[0m\u001b[0m\n",
      "\u001b[0;31mUnboundLocalError\u001b[0m: local variable 'frame' referenced before assignment"
     ]
    }
   ],
   "source": [
    "print(corrected(single, multi,volume_radius, volume_top)[0])"
   ]
  },
  {
   "cell_type": "code",
   "execution_count": 23,
   "metadata": {},
   "outputs": [],
   "source": [
    "def corrected(single, multi,  volume_radius, volume_top):\n",
    "    pulses = frame['SRTInIcePulsesDOMeff'].apply(frame)\n",
    "    one_dom = pulses.items()\n",
    "    \n",
    "    muon_index = np.zeros(len(frame_arr),dtype=int)\n",
    "    charge = []\n",
    "    times = []\n",
    "    min_time_ar = []\n",
    "    mydom = []\n",
    "    distance = []\n",
    "    \n",
    "\n",
    "\n",
    "\n",
    "    for i, frame in enumerate(frame_arr):\n",
    "        if muon_index[i] < 0:\n",
    "            continue   \n",
    "    \n",
    "    for i in range(len(one_dom)):\n",
    "        Omkey= one_dom[i][0]\n",
    "        and_time = one_dom[i][1]\n",
    "        #print(Omkey,and_time)\n",
    "\n",
    "        value = []\n",
    "        char = 0\n",
    "        for pulse in one_dom[i][1]:\n",
    "            time_pulse = 0\n",
    "            time_pulse += pulse.time\n",
    "            value.append(time_pulse)\n",
    "            times.append(time_pulse)\n",
    "        \n",
    "            char += pulse.charge\n",
    "            if char > 0 :\n",
    "                charge.append(char)\n",
    "    \n",
    "\n",
    "    min_time_ar.append(min(value))\n",
    "\n",
    " \n",
    "    \n",
    "    for i in range(len(value)-1):\n",
    "        #print(times[len(times) - i - 1])\n",
    "        if times[len(times) - i - 1] != min_time_ar: del times[len(times) - i - 1]\n",
    "    #print(times)\n",
    "\n",
    "   \n",
    "     \n",
    "    \n",
    "    gcd_file = '/cvmfs/icecube.opensciencegrid.org/data/GCD/GeoCalibDetectorStatus_IC86_Merged.i3.gz'\n",
    "    gfile = dataio.I3File(gcd_file)\n",
    "    gframe = gfile.pop_frame()\n",
    "    geometry = gframe['I3Geometry']\n",
    "    \n",
    "   \n",
    "    for i in range(len(one_dom)):\n",
    "        dom = geometry.omgeo[one_dom[i][0]]    \n",
    "        mydom.append(dom) \n",
    "        \n",
    "    mmctracks = frame['MMCTrackList']\n",
    "    track = mmctracks[0].particle\n",
    "    \n",
    "    x_f = y_f = z_f = 0\n",
    "    x_e = y_e = z_e = 0\n",
    "    for i in range(len(mydom)):\n",
    "        if times[i] == max(times):\n",
    "            x_f = mydom[i].position.x\n",
    "            y_f = mydom[i].position.y\n",
    "            z_f = mydom[i].position.z\n",
    "            \n",
    "    for i in range(len(mydom)):\n",
    "        if times[i] == min(times):\n",
    "            x_e = mydom[i].position.x\n",
    "            y_e = mydom[i].position.y\n",
    "            z_e = mydom[i].position.z\n",
    "   \n",
    "    dis = np.sqrt((x_f - x_e)**2 + (y_f - y_e)**2 + (z_f - z_e)**2)\n",
    "    \n",
    "    \n",
    "    for i in range(len(mydom)):\n",
    "        d = phys_services.I3Calculator.cherenkov_distance(track, mydom[i].position)\n",
    "        distance.append(d)\n",
    "    #print(len(distance))\n",
    "    #print(len(charge))\n",
    "    \n",
    "    corrected_charge = []\n",
    "    for i in range(len(distance)):\n",
    "        att_length = 50. \n",
    "        if distance[i] <= 200.0:\n",
    "            corrected = charge[i]*distance[i]\n",
    "            corrected_charge.append(corrected)\n",
    "        \n",
    "    \n",
    "    return corrected_charge, dis, times, one_dom"
   ]
  },
  {
   "cell_type": "code",
   "execution_count": null,
   "metadata": {},
   "outputs": [],
   "source": []
  }
 ],
 "metadata": {
  "kernelspec": {
   "display_name": "Python 3",
   "language": "python",
   "name": "python3"
  },
  "language_info": {
   "codemirror_mode": {
    "name": "ipython",
    "version": 3
   },
   "file_extension": ".py",
   "mimetype": "text/x-python",
   "name": "python",
   "nbconvert_exporter": "python",
   "pygments_lexer": "ipython3",
   "version": "3.7.5"
  }
 },
 "nbformat": 4,
 "nbformat_minor": 4
}
