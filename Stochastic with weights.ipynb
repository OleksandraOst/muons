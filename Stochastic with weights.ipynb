{
 "cells": [
  {
   "cell_type": "code",
   "execution_count": 1,
   "metadata": {},
   "outputs": [],
   "source": [
    "from icecube import icetray, dataio, dataclasses, simclasses, phys_services, recclasses\n",
    "import os, sys\n",
    "import numpy as np\n",
    "import matplotlib as mpl\n",
    "from matplotlib.colors import LogNorm, Normalize\n",
    "import matplotlib.pyplot as plt\n",
    "import timeit as time\n",
    "import math\n",
    "from datetime import datetime\n",
    "import timeit"
   ]
  },
  {
   "cell_type": "code",
   "execution_count": 2,
   "metadata": {},
   "outputs": [
    {
     "name": "stdout",
     "output_type": "stream",
     "text": [
      "Total files 966\n"
     ]
    }
   ],
   "source": [
    "# Added by JP\n",
    "# Define the directory of your files\n",
    "files_dir = '/data/icecube/domeff_analysis/reco_sim_nominal/0000000-0000999'\n",
    "# List the contents of the entire directory\n",
    "file_list_aux = os.listdir(files_dir)\n",
    "# Only keep those that are I3 files\n",
    "file_list = [x for x in file_list_aux if '.i3.bz2' in x]\n",
    "print('Total files', len(file_list))"
   ]
  },
  {
   "cell_type": "code",
   "execution_count": 3,
   "metadata": {},
   "outputs": [],
   "source": [
    "#I would recommend you write a function that takes a frame as input \n",
    "#and returns the corrected charge for that event. \n",
    "#Inside, the function should pick the muon and loop over all the doms that have seen light, \n",
    "#and return the corrected charges of all doms, as an array. So each event gives you an array as the output."
   ]
  },
  {
   "cell_type": "code",
   "execution_count": 4,
   "metadata": {},
   "outputs": [],
   "source": [
    "# Now decide how many files to loop over\n",
    "nfiles = 1 # This can be len(file_list)"
   ]
  },
  {
   "cell_type": "code",
   "execution_count": 5,
   "metadata": {},
   "outputs": [],
   "source": [
    "def func(frame,frame_arr, counter_single,counter_multi_reject,  volume_radius, volume_top):\n",
    "    pulses = frame['SRTInIcePulsesDOMeff'].apply(frame)\n",
    "    one_dom = pulses.items()\n",
    "    \n",
    "    muon_index = np.zeros(len(frame_arr),dtype=int)\n",
    "    charge = []\n",
    "    times = []\n",
    "    min_time_ar = []\n",
    "    mydom = []\n",
    "    distance = []\n",
    "    \n",
    "    for index, frame in enumerate(frame_arr):\n",
    "        \n",
    "\n",
    "        mmc_tracks = frame['MMCTrackList']\n",
    "    \n",
    "        if len(mmc_tracks) == 1:\n",
    "            muon_index[index] = 0\n",
    "            counter_single += 1\n",
    "        else:\n",
    "       \n",
    "            muons_in_volume = 0\n",
    "            for itrack, one_track in enumerate(mmc_tracks):\n",
    "           \n",
    "                if (np.sqrt(one_track.xc**2 + one_track.yc**2) < volume_radius) and (-volume_top<one_track.zc<volume_top):\n",
    "              \n",
    "                    if one_track.particle.shift_along_track(one_track.particle.length).z < volume_top:\n",
    "                                  \n",
    "                        muons_in_volume += 1\n",
    "                        muon_index[index] = itrack\n",
    "        \n",
    "            if muons_in_volume > 1:\n",
    "                muon_index[index] = -1\n",
    "                counter_multi_reject += 1\n",
    "\n",
    "\n",
    "    for i, frame in enumerate(frame_arr):\n",
    "        if muon_index[i] < 0:\n",
    "            continue   \n",
    "    \n",
    "    for i in range(len(one_dom)):\n",
    "        Omkey= one_dom[i][0]\n",
    "        and_time = one_dom[i][1]\n",
    "        #print(Omkey,and_time)\n",
    "\n",
    "        value = []\n",
    "        char = 0\n",
    "        for pulse in one_dom[i][1]:\n",
    "            time_pulse = 0\n",
    "            time_pulse += pulse.time\n",
    "            value.append(time_pulse)\n",
    "            times.append(time_pulse)\n",
    "        \n",
    "            char += pulse.charge\n",
    "            if char > 0 :\n",
    "                charge.append(char)\n",
    "    \n",
    "\n",
    "    min_time_ar.append(min(value))\n",
    "\n",
    "    #print(value)\n",
    "    #print(min_time_ar)\n",
    "    #print(times)\n",
    "    #print(len(value))\n",
    "    #print(len(times))\n",
    " \n",
    "    \n",
    "    for i in range(len(value)-1):\n",
    "        #print(times[len(times) - i - 1])\n",
    "        if times[len(times) - i - 1] != min_time_ar: del times[len(times) - i - 1]\n",
    "    #print(times)\n",
    "\n",
    "   \n",
    "     \n",
    "    \n",
    "    gcd_file = '/cvmfs/icecube.opensciencegrid.org/data/GCD/GeoCalibDetectorStatus_IC86_Merged.i3.gz'\n",
    "    gfile = dataio.I3File(gcd_file)\n",
    "    gframe = gfile.pop_frame()\n",
    "    geometry = gframe['I3Geometry']\n",
    "    \n",
    "   \n",
    "    for i in range(len(one_dom)):\n",
    "        dom = geometry.omgeo[one_dom[i][0]]    \n",
    "        mydom.append(dom) \n",
    "        \n",
    "    mmctracks = frame['MMCTrackList']\n",
    "    track = mmctracks[0].particle\n",
    "    \n",
    "    x_f = y_f = z_f = 0\n",
    "    x_e = y_e = z_e = 0\n",
    "    for i in range(len(mydom)):\n",
    "        if times[i] == max(times):\n",
    "            x_f = mydom[i].position.x\n",
    "            y_f = mydom[i].position.y\n",
    "            z_f = mydom[i].position.z\n",
    "            \n",
    "    for i in range(len(mydom)):\n",
    "        if times[i] == min(times):\n",
    "            x_e = mydom[i].position.x\n",
    "            y_e = mydom[i].position.y\n",
    "            z_e = mydom[i].position.z\n",
    "   \n",
    "    dis = np.sqrt((x_f - x_e)**2 + (y_f - y_e)**2 + (z_f - z_e)**2)\n",
    "    \n",
    "    \n",
    "    for i in range(len(mydom)):\n",
    "        d = phys_services.I3Calculator.cherenkov_distance(track, mydom[i].position)\n",
    "        distance.append(d)\n",
    "    #print(len(distance))\n",
    "    #print(len(charge))\n",
    "    \n",
    "    corrected_charge = []\n",
    "    for i in range(len(distance)):\n",
    "        att_length = 50. \n",
    "        if distance[i] <= 200.0:\n",
    "            corrected = charge[i]*distance[i]\n",
    "            corrected_charge.append(corrected)\n",
    "        \n",
    "    \n",
    "    return corrected_charge, dis, times, one_dom"
   ]
  },
  {
   "cell_type": "code",
   "execution_count": 6,
   "metadata": {},
   "outputs": [],
   "source": [
    "def function(frame_arr, counter_single,counter_multi_reject, volume_radius, volume_top):\n",
    "\n",
    "    muon_index = np.zeros(len(frame_arr),dtype=int)\n",
    "    for index, frame in enumerate(frame_arr):\n",
    "        \n",
    "\n",
    "        mmc_tracks = frame['MMCTrackList']\n",
    "    \n",
    "        if len(mmc_tracks) == 1:\n",
    "            muon_index[index] = 0\n",
    "            counter_single += 1\n",
    "        else:\n",
    "       \n",
    "            muons_in_volume = 0\n",
    "            for itrack, one_track in enumerate(mmc_tracks):\n",
    "           \n",
    "                if (np.sqrt(one_track.xc**2 + one_track.yc**2) < volume_radius) and (-volume_top<one_track.zc<volume_top):\n",
    "              \n",
    "                    if one_track.particle.shift_along_track(one_track.particle.length).z < volume_top:\n",
    "                                  \n",
    "                        muons_in_volume += 1\n",
    "                        muon_index[index] = itrack\n",
    "        \n",
    "            if muons_in_volume > 1:\n",
    "                muon_index[index] = -1\n",
    "                counter_multi_reject += 1\n",
    "        \n",
    "\n",
    "    daughters = []\n",
    "\n",
    "    e_stochastic = []\n",
    "\n",
    "\n",
    "    for i, frame in enumerate(frame_arr):\n",
    "        #if muon_index[i] < 0:\n",
    "         #   continue\n",
    "        \n",
    "        mmc_tr = frame['MMCTrackList'][int(muon_index[i])]\n",
    "        mctree = frame['I3MCTree']\n",
    " \n",
    "\n",
    "    \n",
    "    \n",
    "        daughters=(mctree.get_daughters(mmc_tr.particle))\n",
    "\n",
    "    \n",
    "        e_stochastic.append(0)\n",
    "        for d in daughters:\n",
    "        \n",
    "            if (d.pos.z <= volume_top) and (np.sqrt(d.pos.x**2 + d.pos.y**2)< volume_radius):\n",
    "            \n",
    "                e_stochastic[-1] += d.energy\n",
    "    \n",
    "            \n",
    "\n",
    "    daughters = np.array(daughters)\n",
    "    e_stochastic = np.array(e_stochastic)\n",
    "    return e_stochastic"
   ]
  },
  {
   "cell_type": "code",
   "execution_count": 7,
   "metadata": {},
   "outputs": [],
   "source": [
    "frame_arr = []; mctree = []\n",
    "volume_radius = 500. # In meters\n",
    "volume_top    = 500. # In meters\n",
    "counter_single = 0\n",
    "counter_multi_reject = 0"
   ]
  },
  {
   "cell_type": "code",
   "execution_count": 8,
   "metadata": {},
   "outputs": [
    {
     "name": "stderr",
     "output_type": "stream",
     "text": [
      "/home/users/sstesnyash/jupyter_py3-4.1.0/lib/python3.7/site-packages/numpy/core/_methods.py:217: RuntimeWarning: Degrees of freedom <= 0 for slice\n",
      "  keepdims=keepdims)\n",
      "/home/users/sstesnyash/jupyter_py3-4.1.0/lib/python3.7/site-packages/numpy/core/_methods.py:186: RuntimeWarning: invalid value encountered in true_divide\n",
      "  arrmean, rcount, out=arrmean, casting='unsafe', subok=False)\n",
      "/home/users/sstesnyash/jupyter_py3-4.1.0/lib/python3.7/site-packages/numpy/core/_methods.py:209: RuntimeWarning: invalid value encountered in double_scalars\n",
      "  ret = ret.dtype.type(ret / rcount)\n"
     ]
    },
    {
     "name": "stdout",
     "output_type": "stream",
     "text": [
      "Time:  73.3410783931613\n"
     ]
    }
   ],
   "source": [
    "\n",
    "\n",
    "start = timeit.default_timer()\n",
    "\n",
    "frame_arr = []; mctree = []\n",
    "stoch_ar = []\n",
    "\n",
    "total_ar = []\n",
    "std_ar =[]\n",
    "#ratio_ar = []\n",
    "#max_cor_ar = []\n",
    "#mean_cor_ar =[]\n",
    "#dist_ar = []\n",
    "\n",
    "for i in range(nfiles):\n",
    "    with dataio.I3File(os.path.join(files_dir,file_list[i])) as infile:\n",
    "        for frame in infile:\n",
    "            if infile.stream.id != 'P': continue \n",
    "            frame_arr.append(frame)\n",
    "            mctree.append(frame['I3MCTree'])\n",
    "                \n",
    "            corrected = func(frame,frame_arr, counter_single,counter_multi_reject,  volume_radius, volume_top)[0]\n",
    "            #dom_distance = func(frame)[1]\n",
    "            \n",
    "            total = np.sum(corrected)\n",
    "            std = np.std(corrected)\n",
    "            #max_cor = np.max(corrected)\n",
    "            #mean_cor =np.mean(corrected)\n",
    "            #ratio = max_cor/mean_cor\n",
    "            total_ar.append(total)\n",
    "            #max_cor_ar.append(max_cor)\n",
    "            #mean_cor_ar.append(mean_cor)\n",
    "            #ratio_ar.append(ratio)\n",
    "            std_ar.append(std)\n",
    "            \n",
    "            #dist_ar.append(dom_distance)\n",
    "            \n",
    "            #stoch_ar.append(stochastic( frame, volume_radius, volume_top, muon_index, counter_single, counter_multi_reject))\n",
    "            #stoch_ar.append(stochastic( frame))\n",
    "\n",
    "#ratio_ar = np.array(ratio_ar)\n",
    "#max_cor_ar = np.array(max_cor_ar)\n",
    "#mean_cor_ar = np.array(mean_cor_ar)                    \n",
    "#dist_ar = np.array(dist_ar)\n",
    "stop = timeit.default_timer()\n",
    "\n",
    "print('Time: ', stop - start)       \n"
   ]
  },
  {
   "cell_type": "code",
   "execution_count": 9,
   "metadata": {},
   "outputs": [],
   "source": [
    "std_ar = np.array(std_ar)\n",
    "total_ar = np.array(total_ar)\n"
   ]
  },
  {
   "cell_type": "code",
   "execution_count": 10,
   "metadata": {},
   "outputs": [
    {
     "name": "stdout",
     "output_type": "stream",
     "text": [
      "Total charge 1403\n",
      "Standard deviation 1403\n"
     ]
    }
   ],
   "source": [
    "print('Total charge', len(total_ar) )\n",
    "#print('distance between first and last doms', dom_distance)\n",
    "#print('Average charge per meter, dividing total charge over the distance of first/last dom with light', np.sum(corrected) / dom_distance)\n",
    "print('Standard deviation', len(std_ar))\n",
    "#print('Maximum corrected charge observed',max_cor )\n",
    "#print('Mean corrected charge observed', mean_cor)\n",
    "#print('Ratio',max_cor/mean_cor )\n",
    "#print('Stochastic', len(energy(frame_arr)))\n",
    "\n",
    "\n",
    "    "
   ]
  },
  {
   "cell_type": "code",
   "execution_count": 11,
   "metadata": {},
   "outputs": [],
   "source": [
    "losses = function(frame_arr, counter_single,counter_multi_reject, volume_radius, volume_top)"
   ]
  },
  {
   "cell_type": "code",
   "execution_count": 12,
   "metadata": {},
   "outputs": [
    {
     "data": {
      "text/plain": [
       "1403"
      ]
     },
     "execution_count": 12,
     "metadata": {},
     "output_type": "execute_result"
    }
   ],
   "source": [
    "len(losses)"
   ]
  },
  {
   "cell_type": "code",
   "execution_count": 13,
   "metadata": {},
   "outputs": [
    {
     "data": {
      "text/plain": [
       "Text(0, 0.5, 'Events')"
      ]
     },
     "execution_count": 13,
     "metadata": {},
     "output_type": "execute_result"
    },
    {
     "data": {
      "image/png": "[encoded data removed]",
      "text/plain": [
       "<Figure size 432x288 with 1 Axes>"
      ]
     },
     "metadata": {
      "needs_background": "light"
     },
     "output_type": "display_data"
    }
   ],
   "source": [
    "plt.hist(losses, np.arange(0, 300, 5))\n",
    "plt.yscale('log')\n",
    "plt.xlabel('Sum of stochastic losses in IceCube volume (GeV)')\n",
    "plt.ylabel('Events')"
   ]
  },
  {
   "cell_type": "code",
   "execution_count": 14,
   "metadata": {},
   "outputs": [
    {
     "data": {
      "text/plain": [
       "Text(0, 0.5, 'std')"
      ]
     },
     "execution_count": 14,
     "metadata": {},
     "output_type": "execute_result"
    },
    {
     "data": {
      "image/png": "[encoded data removed]",
      "text/plain": [
       "<Figure size 432x288 with 1 Axes>"
      ]
     },
     "metadata": {
      "needs_background": "light"
     },
     "output_type": "display_data"
    }
   ],
   "source": [
    "plt.plot(losses, total_ar, '.')\n",
    "plt.xlabel('Stochastic losses (GeV)')\n",
    "plt.ylabel('std')\n"
   ]
  },
  {
   "cell_type": "code",
   "execution_count": 15,
   "metadata": {},
   "outputs": [
    {
     "data": {
      "text/plain": [
       "(0.0, 300.0)"
      ]
     },
     "execution_count": 15,
     "metadata": {},
     "output_type": "execute_result"
    },
    {
     "data": {
      "image/png": "[encoded data removed]",
      "text/plain": [
       "<Figure size 432x288 with 1 Axes>"
      ]
     },
     "metadata": {
      "needs_background": "light"
     },
     "output_type": "display_data"
    }
   ],
   "source": [
    "plt.yscale('log')\n",
    "plt.plot(losses, total_ar , '.')\n",
    "plt.xlabel('Stochastic losses (GeV)')\n",
    "plt.ylabel('total')\n",
    "plt.xlim(0,300)"
   ]
  },
  {
   "cell_type": "code",
   "execution_count": 16,
   "metadata": {},
   "outputs": [
    {
     "name": "stderr",
     "output_type": "stream",
     "text": [
      "/home/users/sstesnyash/jupyter_py3-4.1.0/lib/python3.7/site-packages/ipykernel_launcher.py:2: UserWarning: Attempted to set non-positive bottom ylim on a log-scaled axis.\n",
      "Invalid limit will be ignored.\n",
      "  \n"
     ]
    },
    {
     "data": {
      "image/png": "[encoded data removed]",
      "text/plain": [
       "<Figure size 432x288 with 2 Axes>"
      ]
     },
     "metadata": {
      "needs_background": "light"
     },
     "output_type": "display_data"
    }
   ],
   "source": [
    "plt.yscale('log')\n",
    "plt.hist2d(losses, total_ar , bins=(1000, 1000), cmap=plt.cm.jet)\n",
    "plt.colorbar()\n",
    "plt.xlim(0,300)\n",
    "plt.ylim(10,100000)\n",
    "\n",
    "plt.title('Stochastic and total')\n",
    "plt.show()"
   ]
  },
  {
   "cell_type": "code",
   "execution_count": 17,
   "metadata": {},
   "outputs": [],
   "source": [
    "### Decide on the flux you will be using\n",
    "from icecube.weighting import fluxes\n",
    "#fluxes.GaisserH3a\n",
    "flux_to_use = fluxes.GaisserH4a()"
   ]
  },
  {
   "cell_type": "code",
   "execution_count": 18,
   "metadata": {},
   "outputs": [],
   "source": [
    "def getCorsikaWeight(corsika_weight_map, myflux):\n",
    "    corsika_weight_map = frame['CorsikaWeightMap']\n",
    "    pflux = myflux(corsika_weight_map['PrimaryEnergy'], corsika_weight_map['PrimaryType'])\n",
    "    energy_integral = (corsika_weight_map['EnergyPrimaryMax']**(corsika_weight_map[\"PrimarySpectralIndex\"]+1)-\n",
    "                   corsika_weight_map['EnergyPrimaryMin']**(corsika_weight_map[\"PrimarySpectralIndex\"]+1))/(\n",
    "    corsika_weight_map[\"PrimarySpectralIndex\"]+1)\n",
    "    energy_weight = corsika_weight_map['PrimaryEnergy']**corsika_weight_map[\"PrimarySpectralIndex\"]\n",
    "    w = pflux *energy_integral/energy_weight * corsika_weight_map[\"AreaSum\"] / (corsika_weight_map['NEvents'])\n",
    "    return w"
   ]
  },
  {
   "cell_type": "code",
   "execution_count": 19,
   "metadata": {},
   "outputs": [],
   "source": [
    "events = []\n",
    "for i in range(nfiles):\n",
    "    with dataio.I3File(os.path.join(files_dir,file_list[i])) as infile:\n",
    "        for frame in infile:\n",
    "            if infile.stream.id != 'P': continue\n",
    "            cwm = frame['CorsikaWeightMap']\n",
    "            event_weight = getCorsikaWeight(cwm, flux_to_use)\n",
    "            events.append(event_weight)\n",
    "\n",
    "    "
   ]
  },
  {
   "cell_type": "code",
   "execution_count": 20,
   "metadata": {},
   "outputs": [
    {
     "name": "stdout",
     "output_type": "stream",
     "text": [
      "1403\n"
     ]
    }
   ],
   "source": [
    "print(len(events))"
   ]
  },
  {
   "cell_type": "code",
   "execution_count": 22,
   "metadata": {},
   "outputs": [
    {
     "name": "stdout",
     "output_type": "stream",
     "text": [
      "155\n",
      "155\n"
     ]
    }
   ],
   "source": [
    "one = []\n",
    "\n",
    "for i in range(len(losses)):\n",
    "    if losses[i] <= 0: one.append(losses[i])\n",
    "print(len(one)) # to know which elements of losses are <= 0\n",
    "\n",
    "e_one = []\n",
    "for i in range(len(events)):\n",
    "    if losses[i] <= 0: e_one.append(events[i]) #to find numbers of these elements in events array\n",
    "print(len(e_one))\n",
    "\n",
    "\n"
   ]
  },
  {
   "cell_type": "code",
   "execution_count": 23,
   "metadata": {},
   "outputs": [
    {
     "name": "stdout",
     "output_type": "stream",
     "text": [
      "1403 1403\n",
      "1248 1403\n",
      "1403 1403\n",
      "1248 1403\n"
     ]
    }
   ],
   "source": [
    "new = []\n",
    "\n",
    "for i in range(len(losses)): #to dublicate losses array\n",
    "    new.append(losses[i])\n",
    "print(len(new), len(losses))\n",
    "\n",
    "for i in range(len(losses)): # delete zero elemetns from the dublicated-losses array\n",
    "    if new[len(losses)-1-i] == 0.0: del new[len(losses)-1-i]\n",
    "        \n",
    "print(len(new), len(losses))\n",
    "\n",
    "\n",
    "\n",
    "new_ev = [] \n",
    "\n",
    "for i in range(len(events)):\n",
    "    new_ev.append(events[i]) #dublicate events array\n",
    "print(len(new_ev),len(events))\n",
    "\n",
    "for i in range(len(events)): #delete elements with numbers, which coresspond to elemnts of 0 elements in losses, \n",
    "                              #from events array\n",
    "    if losses[len(events)-1-i] == 0.0: del new_ev[len(events)-1-i]\n",
    "        \n",
    "print(len(new_ev), len(events))"
   ]
  },
  {
   "cell_type": "code",
   "execution_count": 24,
   "metadata": {},
   "outputs": [],
   "source": [
    "weig = []\n",
    "for i in range(len(new_ev)):\n",
    "    h= new_ev[i] *3153600/nfiles\n",
    "    weig.append(h)\n",
    "weig = np.array(weig)"
   ]
  },
  {
   "cell_type": "code",
   "execution_count": 25,
   "metadata": {},
   "outputs": [
    {
     "data": {
      "text/plain": [
       "1248"
      ]
     },
     "execution_count": 25,
     "metadata": {},
     "output_type": "execute_result"
    }
   ],
   "source": [
    "len(weig)"
   ]
  },
  {
   "cell_type": "code",
   "execution_count": 26,
   "metadata": {},
   "outputs": [
    {
     "data": {
      "image/png": "[encoded data removed]",
      "text/plain": [
       "<Figure size 432x288 with 1 Axes>"
      ]
     },
     "metadata": {
      "needs_background": "light"
     },
     "output_type": "display_data"
    },
    {
     "data": {
      "image/png": "[encoded data removed]",
      "text/plain": [
       "<Figure size 432x288 with 1 Axes>"
      ]
     },
     "metadata": {
      "needs_background": "light"
     },
     "output_type": "display_data"
    }
   ],
   "source": [
    "plt.hist(np.log10(new), bins=100,weights = weig)\n",
    "#plt.xlim(0,60000)\n",
    "plt.yscale('log')\n",
    "plt.title('Stochastic with weights')\n",
    "\n",
    "plt.show()\n",
    "\n",
    "\n",
    "plt.hist(np.log10(new), bins=100)\n",
    "plt.yscale('log')\n",
    "plt.title('Stochastic without weights')\n",
    "\n",
    "plt.show()"
   ]
  },
  {
   "cell_type": "code",
   "execution_count": 27,
   "metadata": {},
   "outputs": [
    {
     "name": "stdout",
     "output_type": "stream",
     "text": [
      "50 105\n"
     ]
    }
   ],
   "source": [
    "check = []\n",
    "check1 = []\n",
    "for i in range(len(losses)):\n",
    "    if total_ar[i] == 0.0: check1.append(total_ar[i])\n",
    "    if total_ar[i] == losses[i] == 0.0: check.append(losses[i])\n",
    "    \n",
    "print(len(check), len(check1)) #there are 155 zero elements of losses array and 105 zero elemnts in total_ar. \n",
    "#Only 50 elements are on the same possitions. Should I have weights for total_ar again. I think yes. \n",
    "#But how in this case have a histogram of total and stochastic with weights?"
   ]
  },
  {
   "cell_type": "code",
   "execution_count": null,
   "metadata": {},
   "outputs": [],
   "source": []
  },
  {
   "cell_type": "code",
   "execution_count": null,
   "metadata": {},
   "outputs": [],
   "source": []
  },
  {
   "cell_type": "code",
   "execution_count": null,
   "metadata": {},
   "outputs": [],
   "source": []
  },
  {
   "cell_type": "code",
   "execution_count": null,
   "metadata": {},
   "outputs": [],
   "source": []
  },
  {
   "cell_type": "code",
   "execution_count": null,
   "metadata": {},
   "outputs": [],
   "source": []
  },
  {
   "cell_type": "code",
   "execution_count": null,
   "metadata": {},
   "outputs": [],
   "source": []
  },
  {
   "cell_type": "code",
   "execution_count": null,
   "metadata": {},
   "outputs": [],
   "source": []
  },
  {
   "cell_type": "code",
   "execution_count": null,
   "metadata": {},
   "outputs": [],
   "source": []
  },
  {
   "cell_type": "code",
   "execution_count": null,
   "metadata": {},
   "outputs": [],
   "source": []
  },
  {
   "cell_type": "code",
   "execution_count": null,
   "metadata": {},
   "outputs": [],
   "source": []
  },
  {
   "cell_type": "code",
   "execution_count": null,
   "metadata": {},
   "outputs": [],
   "source": []
  },
  {
   "cell_type": "code",
   "execution_count": null,
   "metadata": {},
   "outputs": [],
   "source": []
  },
  {
   "cell_type": "code",
   "execution_count": null,
   "metadata": {},
   "outputs": [],
   "source": []
  },
  {
   "cell_type": "code",
   "execution_count": null,
   "metadata": {},
   "outputs": [],
   "source": []
  },
  {
   "cell_type": "code",
   "execution_count": null,
   "metadata": {},
   "outputs": [],
   "source": []
  },
  {
   "cell_type": "code",
   "execution_count": null,
   "metadata": {},
   "outputs": [],
   "source": []
  },
  {
   "cell_type": "code",
   "execution_count": 47,
   "metadata": {},
   "outputs": [],
   "source": [
    "def func1(frame,frame_arr, counter_single,counter_multi_reject,  volume_radius, volume_top):\n",
    "    pulses = frame['SRTInIcePulsesDOMeff'].apply(frame)\n",
    "    one_dom = pulses.items()\n",
    "  \n",
    "            \n",
    "    charge = []\n",
    "    times = []\n",
    "    min_time_ar = []\n",
    "    for i in range(len(one_dom)):\n",
    "        Omkey= one_dom[i][0]\n",
    "        and_time = one_dom[i][1]\n",
    "        #print(Omkey,and_time)\n",
    "\n",
    "        value = []\n",
    "        char = 0\n",
    "        for pulse in one_dom[i][1]:\n",
    "            time_pulse = 0\n",
    "            time_pulse += pulse.time\n",
    "            value.append(time_pulse)\n",
    "            times.append(time_pulse)\n",
    "        \n",
    "            char += pulse.charge\n",
    "            if char > 0 :\n",
    "                charge.append(char)\n",
    "    \n",
    "\n",
    "    min_time_ar.append(min(value))\n",
    "\n",
    "    #print(value)\n",
    "    #print(min_time_ar)\n",
    "    #print(times)\n",
    "    #print(len(value))\n",
    "    #print(len(times))\n",
    " \n",
    "    \n",
    "    for i in range(len(value)-1):\n",
    "        #print(times[len(times) - i - 1])\n",
    "        if times[len(times) - i - 1] != min_time_ar: del times[len(times) - i - 1]\n",
    "    #print(times)\n",
    "\n",
    "   \n",
    "     \n",
    "    \n",
    "    gcd_file = '/cvmfs/icecube.opensciencegrid.org/data/GCD/GeoCalibDetectorStatus_IC86_Merged.i3.gz'\n",
    "    gfile = dataio.I3File(gcd_file)\n",
    "    gframe = gfile.pop_frame()\n",
    "    geometry = gframe['I3Geometry']\n",
    "    \n",
    "    mydom = []\n",
    "    for i in range(len(one_dom)):\n",
    "        dom = geometry.omgeo[one_dom[i][0]]    \n",
    "        mydom.append(dom) \n",
    "        \n",
    "    mmctracks = frame['MMCTrackList']\n",
    "    track = mmctracks[0].particle\n",
    "    \n",
    "    x_f = y_f = z_f = 0\n",
    "    x_e = y_e = z_e = 0\n",
    "    for i in range(len(mydom)):\n",
    "        if times[i] == max(times):\n",
    "            x_f = mydom[i].position.x\n",
    "            y_f = mydom[i].position.y\n",
    "            z_f = mydom[i].position.z\n",
    "            \n",
    "    for i in range(len(mydom)):\n",
    "        if times[i] == min(times):\n",
    "            x_e = mydom[i].position.x\n",
    "            y_e = mydom[i].position.y\n",
    "            z_e = mydom[i].position.z\n",
    "   \n",
    "    dis = np.sqrt((x_f - x_e)**2 + (y_f - y_e)**2 + (z_f - z_e)**2)\n",
    "    \n",
    "    distance = []\n",
    "    for i in range(len(mydom)):\n",
    "        d = phys_services.I3Calculator.cherenkov_distance(track, mydom[i].position)\n",
    "        distance.append(d)\n",
    "    #print(len(distance))\n",
    "    #print(len(charge))\n",
    "    \n",
    "    corrected_charge = []\n",
    "    for i in range(len(distance)):\n",
    "        att_length = 50. \n",
    "        if distance[i] <= 200.0:\n",
    "            corrected = charge[i]*distance[i]\n",
    "            corrected_charge.append(corrected)\n",
    "        \n",
    "    \n",
    "    return corrected_charge, dis, times, one_dom"
   ]
  },
  {
   "cell_type": "code",
   "execution_count": null,
   "metadata": {},
   "outputs": [],
   "source": []
  }
 ],
 "metadata": {
  "kernelspec": {
   "display_name": "Python 3",
   "language": "python",
   "name": "python3"
  },
  "language_info": {
   "codemirror_mode": {
    "name": "ipython",
    "version": 3
   },
   "file_extension": ".py",
   "mimetype": "text/x-python",
   "name": "python",
   "nbconvert_exporter": "python",
   "pygments_lexer": "ipython3",
   "version": "3.7.5"
  }
 },
 "nbformat": 4,
 "nbformat_minor": 2
}
