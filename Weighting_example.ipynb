{
 "cells": [
  {
   "cell_type": "code",
   "execution_count": 1,
   "metadata": {},
   "outputs": [],
   "source": [
    "from icecube import icetray, dataio, dataclasses, simclasses, phys_services, recclasses\n",
    "import os, sys\n",
    "import numpy as np\n",
    "import matplotlib as mpl\n",
    "from matplotlib.colors import LogNorm, Normalize\n",
    "import matplotlib.pyplot as plt\n",
    "import timeit as time\n",
    "import math\n",
    "from datetime import datetime"
   ]
  },
  {
   "cell_type": "code",
   "execution_count": 2,
   "metadata": {},
   "outputs": [
    {
     "name": "stdout",
     "output_type": "stream",
     "text": [
      "('Total files', 966)\n"
     ]
    }
   ],
   "source": [
    "# Added by JP\n",
    "# Define the directory of your files\n",
    "files_dir = '/data/icecube/domeff_analysis/reco_sim_nominal/0000000-0000999'\n",
    "# List the contents of the entire directory\n",
    "file_list_aux = os.listdir(files_dir)\n",
    "# Only keep those that are I3 files\n",
    "file_list = [x for x in file_list_aux if '.i3.bz2' in x]\n",
    "print('Total files', len(file_list))"
   ]
  },
  {
   "cell_type": "code",
   "execution_count": 3,
   "metadata": {},
   "outputs": [],
   "source": [
    "infile = dataio.I3File(os.path.join(files_dir, file_list[0]))"
   ]
  },
  {
   "cell_type": "code",
   "execution_count": 7,
   "metadata": {},
   "outputs": [],
   "source": [
    "frame = infile.pop_physics()"
   ]
  },
  {
   "cell_type": "raw",
   "metadata": {},
   "source": [
    "# Example obtained from Kevin Meagher\n",
    "flux = GaisserH4a()\n",
    "    cwm = f[\"CorsikaWeightMap\"]\n",
    "    pflux = flux (cwm[\"PrimaryEnergy\"],cwm[\"PrimaryType\"])\n",
    "    energy_integral = (cwm['EnergyPrimaryMax']**(cwm[\"PrimarySpectralIndex\"]+1)-cwm['EnergyPrimaryMin']**(cwm[\"PrimarySpectralIndex\"]+1))/(cwm[\"PrimarySpectralIndex\"]+1)\n",
    "    energy_weight = cwm['PrimaryEnergy']**cwm[\"PrimarySpectralIndex\"]\n",
    "    w = pflux *energy_integral/energy_weight * cwm[\"AreaSum\"] / (cwm['NEvents'] * nfiles"
   ]
  },
  {
   "cell_type": "code",
   "execution_count": 4,
   "metadata": {},
   "outputs": [],
   "source": [
    "### Decide on the flux you will be using\n",
    "from icecube.weighting import fluxes\n",
    "#fluxes.GaisserH3a\n",
    "flux_to_use = fluxes.GaisserH4a()"
   ]
  },
  {
   "cell_type": "code",
   "execution_count": 9,
   "metadata": {},
   "outputs": [],
   "source": [
    "def getCorsikaWeight(corsika_weight_map, myflux):\n",
    "    corsika_weight_map = frame['CorsikaWeightMap']\n",
    "    pflux = myflux(corsika_weight_map['PrimaryEnergy'], corsika_weight_map['PrimaryType'])\n",
    "    energy_integral = (corsika_weight_map['EnergyPrimaryMax']**(corsika_weight_map[\"PrimarySpectralIndex\"]+1)-\n",
    "                   corsika_weight_map['EnergyPrimaryMin']**(corsika_weight_map[\"PrimarySpectralIndex\"]+1))/(\n",
    "    corsika_weight_map[\"PrimarySpectralIndex\"]+1)\n",
    "    energy_weight = corsika_weight_map['PrimaryEnergy']**corsika_weight_map[\"PrimarySpectralIndex\"]\n",
    "    w = pflux *energy_integral/energy_weight * corsika_weight_map[\"AreaSum\"] / (corsika_weight_map['NEvents'])\n",
    "    return w"
   ]
  },
  {
   "cell_type": "code",
   "execution_count": 8,
   "metadata": {},
   "outputs": [
    {
     "ename": "NameError",
     "evalue": "global name 'nfiles' is not defined",
     "output_type": "error",
     "traceback": [
      "\u001b[0;31m---------------------------------------------------------------------------\u001b[0m",
      "\u001b[0;31mNameError\u001b[0m                                 Traceback (most recent call last)",
      "\u001b[0;32m<ipython-input-8-1a4b087b922a>\u001b[0m in \u001b[0;36m<module>\u001b[0;34m()\u001b[0m\n\u001b[1;32m      1\u001b[0m \u001b[0;31m# TO use it, pull the corsika weight map from you frame\u001b[0m\u001b[0;34m\u001b[0m\u001b[0;34m\u001b[0m\u001b[0m\n\u001b[1;32m      2\u001b[0m \u001b[0mcwm\u001b[0m \u001b[0;34m=\u001b[0m \u001b[0mframe\u001b[0m\u001b[0;34m[\u001b[0m\u001b[0;34m'CorsikaWeightMap'\u001b[0m\u001b[0;34m]\u001b[0m\u001b[0;34m\u001b[0m\u001b[0m\n\u001b[0;32m----> 3\u001b[0;31m \u001b[0mevent_weight\u001b[0m \u001b[0;34m=\u001b[0m \u001b[0mgetCorsikaWeight\u001b[0m\u001b[0;34m(\u001b[0m\u001b[0mcwm\u001b[0m\u001b[0;34m,\u001b[0m \u001b[0mflux_to_use\u001b[0m\u001b[0;34m)\u001b[0m\u001b[0;34m\u001b[0m\u001b[0m\n\u001b[0m\u001b[1;32m      4\u001b[0m \u001b[0;32mprint\u001b[0m \u001b[0mevent_weight\u001b[0m\u001b[0;34m\u001b[0m\u001b[0m\n",
      "\u001b[0;32m<ipython-input-5-7ce4685ddf1f>\u001b[0m in \u001b[0;36mgetCorsikaWeight\u001b[0;34m(corsika_weight_map, myflux)\u001b[0m\n\u001b[1;32m      6\u001b[0m     corsika_weight_map[\"PrimarySpectralIndex\"]+1)\n\u001b[1;32m      7\u001b[0m     \u001b[0menergy_weight\u001b[0m \u001b[0;34m=\u001b[0m \u001b[0mcorsika_weight_map\u001b[0m\u001b[0;34m[\u001b[0m\u001b[0;34m'PrimaryEnergy'\u001b[0m\u001b[0;34m]\u001b[0m\u001b[0;34m**\u001b[0m\u001b[0mcorsika_weight_map\u001b[0m\u001b[0;34m[\u001b[0m\u001b[0;34m\"PrimarySpectralIndex\"\u001b[0m\u001b[0;34m]\u001b[0m\u001b[0;34m\u001b[0m\u001b[0m\n\u001b[0;32m----> 8\u001b[0;31m     \u001b[0mw\u001b[0m \u001b[0;34m=\u001b[0m \u001b[0mpflux\u001b[0m \u001b[0;34m*\u001b[0m\u001b[0menergy_integral\u001b[0m\u001b[0;34m/\u001b[0m\u001b[0menergy_weight\u001b[0m \u001b[0;34m*\u001b[0m \u001b[0mcorsika_weight_map\u001b[0m\u001b[0;34m[\u001b[0m\u001b[0;34m\"AreaSum\"\u001b[0m\u001b[0;34m]\u001b[0m \u001b[0;34m/\u001b[0m \u001b[0;34m(\u001b[0m\u001b[0mcorsika_weight_map\u001b[0m\u001b[0;34m[\u001b[0m\u001b[0;34m'NEvents'\u001b[0m\u001b[0;34m]\u001b[0m \u001b[0;34m*\u001b[0m \u001b[0mnfiles\u001b[0m\u001b[0;34m)\u001b[0m\u001b[0;34m\u001b[0m\u001b[0m\n\u001b[0m\u001b[1;32m      9\u001b[0m     \u001b[0;32mreturn\u001b[0m \u001b[0mw\u001b[0m\u001b[0;34m\u001b[0m\u001b[0m\n",
      "\u001b[0;31mNameError\u001b[0m: global name 'nfiles' is not defined"
     ]
    }
   ],
   "source": [
    "# TO use it, pull the corsika weight map from you frame\n",
    "cwm = frame['CorsikaWeightMap']\n",
    "event_weight = getCorsikaWeight(cwm, flux_to_use)\n",
    "print event_weight\n",
    "# IF YOU USE MORE THAN ONE FILE, YOU HAVE TO DIVIDE OVER THE NUMBER OF FILES "
   ]
  },
  {
   "cell_type": "code",
   "execution_count": 28,
   "metadata": {},
   "outputs": [
    {
     "data": {
      "text/plain": [
       "0.24270281263906698"
      ]
     },
     "execution_count": 28,
     "metadata": {},
     "output_type": "execute_result"
    }
   ],
   "source": [
    "getCorsikaWeight(corsika_weight_map, myflux)"
   ]
  },
  {
   "cell_type": "code",
   "execution_count": null,
   "metadata": {},
   "outputs": [],
   "source": []
  }
 ],
 "metadata": {
  "kernelspec": {
   "display_name": "Python 3",
   "language": "python",
   "name": "python3"
  },
  "language_info": {
   "codemirror_mode": {
    "name": "ipython",
    "version": 2
   },
   "file_extension": ".py",
   "mimetype": "text/x-python",
   "name": "python",
   "nbconvert_exporter": "python",
   "pygments_lexer": "ipython2",
   "version": "2.7.15"
  }
 },
 "nbformat": 4,
 "nbformat_minor": 2
}
